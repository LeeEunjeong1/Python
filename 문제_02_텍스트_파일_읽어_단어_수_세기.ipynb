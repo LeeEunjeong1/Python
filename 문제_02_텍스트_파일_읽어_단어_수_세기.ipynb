{
 "cells": [
  {
   "cell_type": "markdown",
   "metadata": {
    "colab_type": "text",
    "id": "NYji18zTASuJ"
   },
   "source": [
    "# Lab - 텍스트 파일 읽어 단어 수 세기\n",
    "\n",
    "<img width=\"300\" src=\"http://i.imgur.com/tHmNhjm.png\" >\n",
    "\n",
    "### 2017-2020 FinanceData.KR http://financedata.kr\n",
    "<!-- TEASER_END -->"
   ]
  },
  {
   "cell_type": "markdown",
   "metadata": {
    "colab_type": "text",
    "id": "JkkJngW1A_lX"
   },
   "source": [
    "## 문제\n",
    "특정 URL에 있는 파일을 가져와 읽어 텍스트에 포함된 단어수를 세고\n",
    "가장 많이 등장하는 단어 10개와 개수를 출력합니다.\n",
    "\n",
    "1. https://www.gnu.org/licenses/gpl.txt 에서 gpl.txt 를 가져옵니다.\n",
    "1. gpl.txt 파일의 내용을 모두 읽습니다.\n",
    "1. 공백문자를 기준으로 잘라서, 단어의 수를 카운트 합니다.\n",
    "1. 가장 많이 등장하는 10개 단어와 단어 개수를 출력합니다.\n",
    "\n",
    "예상결과:\n",
    "\n",
    "```\n",
    "\"the\" = 309\n",
    "\"of\" = 208\n",
    "\"to\" = 174\n",
    "\"a\" = 165\n",
    "\"or\" = 131\n",
    "\"you\" = 102\n",
    "\"that\" = 89\n",
    "\"and\" = 86\n",
    "\"this\" = 72\n",
    "\"for\" = 70\n",
    "```"
   ]
  },
  {
   "cell_type": "markdown",
   "metadata": {
    "colab_type": "text",
    "id": "_cMDPsj4A_gO"
   },
   "source": [
    "## 참고\n",
    "\n",
    "### 1. requests 모듈\n",
    "requests 모듈을 사용하면 간편하게 URL을 가져올 수 있습니다.\n",
    "\n",
    "```python\n",
    "r = requests.get('https://www.gnu.org/licenses/gpl.txt')\n",
    "r.text[:500] # 선두 500자\n",
    "```\n",
    "\n",
    "#### 2. collections.Counter 모듈\n",
    "파이썬 표준 라이브러리의 collections.Counter 를 사용하면 간편하게 리스트 요소의 갯수를 셀 수 있습니다.\n",
    "\n",
    "https://docs.python.org/2/library/collections.html#collections.Counter\n"
   ]
  },
  {
   "cell_type": "code",
   "execution_count": 8,
   "metadata": {},
   "outputs": [
    {
     "name": "stdout",
     "output_type": "stream",
     "text": [
      "Requirement already satisfied: requests in c:\\users\\eunjeong\\anaconda3\\lib\\site-packages (2.22.0)\n",
      "Requirement already satisfied: urllib3!=1.25.0,!=1.25.1,<1.26,>=1.21.1 in c:\\users\\eunjeong\\anaconda3\\lib\\site-packages (from requests) (1.25.8)\n",
      "Requirement already satisfied: certifi>=2017.4.17 in c:\\users\\eunjeong\\anaconda3\\lib\\site-packages (from requests) (2019.11.28)\n",
      "Requirement already satisfied: chardet<3.1.0,>=3.0.2 in c:\\users\\eunjeong\\anaconda3\\lib\\site-packages (from requests) (3.0.4)\n",
      "Requirement already satisfied: idna<2.9,>=2.5 in c:\\users\\eunjeong\\anaconda3\\lib\\site-packages (from requests) (2.8)\n"
     ]
    }
   ],
   "source": [
    "!pip install requests "
   ]
  },
  {
   "cell_type": "code",
   "execution_count": 10,
   "metadata": {},
   "outputs": [],
   "source": [
    "import requests"
   ]
  },
  {
   "cell_type": "code",
   "execution_count": 11,
   "metadata": {},
   "outputs": [
    {
     "data": {
      "text/plain": [
       "<module 'requests' from 'C:\\\\Users\\\\Eunjeong\\\\anaconda3\\\\lib\\\\site-packages\\\\requests\\\\__init__.py'>"
      ]
     },
     "execution_count": 11,
     "metadata": {},
     "output_type": "execute_result"
    }
   ],
   "source": [
    "requests"
   ]
  },
  {
   "cell_type": "code",
   "execution_count": 14,
   "metadata": {},
   "outputs": [],
   "source": [
    "from collections import Counter"
   ]
  },
  {
   "cell_type": "code",
   "execution_count": 21,
   "metadata": {
    "slideshow": {
     "slide_type": "-"
    }
   },
   "outputs": [
    {
     "data": {
      "text/plain": [
       "[('the', 309),\n",
       " ('of', 208),\n",
       " ('to', 174),\n",
       " ('a', 165),\n",
       " ('or', 131),\n",
       " ('you', 102),\n",
       " ('that', 89),\n",
       " ('and', 86),\n",
       " ('this', 72),\n",
       " ('for', 70)]"
      ]
     },
     "execution_count": 21,
     "metadata": {},
     "output_type": "execute_result"
    }
   ],
   "source": [
    "r = requests.get('https://www.gnu.org/licenses/gpl.txt')\n",
    "words = r.text\n",
    "arr = words.split( )\n",
    "Counter(arr).most_common(10)"
   ]
  },
  {
   "cell_type": "markdown",
   "metadata": {
    "colab_type": "text",
    "id": "4ERuVLZnASup"
   },
   "source": [
    "#### 2017~2020 [FinanceData.KR](FinanceData.KR)"
   ]
  }
 ],
 "metadata": {
  "celltoolbar": "Slideshow",
  "colab": {
   "collapsed_sections": [],
   "name": "문제 02 - 텍스트 파일 읽어 단어 수 세기.ipynb",
   "provenance": []
  },
  "kernelspec": {
   "display_name": "Python 3",
   "language": "python",
   "name": "python3"
  },
  "language_info": {
   "codemirror_mode": {
    "name": "ipython",
    "version": 3
   },
   "file_extension": ".py",
   "mimetype": "text/x-python",
   "name": "python",
   "nbconvert_exporter": "python",
   "pygments_lexer": "ipython3",
   "version": "3.7.6"
  }
 },
 "nbformat": 4,
 "nbformat_minor": 1
}
