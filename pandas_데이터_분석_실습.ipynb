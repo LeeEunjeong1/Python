{
  "nbformat": 4,
  "nbformat_minor": 0,
  "metadata": {
    "colab": {
      "name": "pandas_데이터_분석_실습.ipynb",
      "provenance": [],
      "collapsed_sections": [],
      "include_colab_link": true
    },
    "kernelspec": {
      "display_name": "Python 3",
      "language": "python",
      "name": "python3"
    },
    "language_info": {
      "codemirror_mode": {
        "name": "ipython",
        "version": 3
      },
      "file_extension": ".py",
      "mimetype": "text/x-python",
      "name": "python",
      "nbconvert_exporter": "python",
      "pygments_lexer": "ipython3",
      "version": "3.7.4"
    }
  },
  "cells": [
    {
      "cell_type": "markdown",
      "metadata": {
        "id": "view-in-github",
        "colab_type": "text"
      },
      "source": [
        "<a href=\"https://colab.research.google.com/github/LeeEunjeong1/Python/blob/master/pandas_%EB%8D%B0%EC%9D%B4%ED%84%B0_%EB%B6%84%EC%84%9D_%EC%8B%A4%EC%8A%B5.ipynb\" target=\"_parent\"><img src=\"https://colab.research.google.com/assets/colab-badge.svg\" alt=\"Open In Colab\"/></a>"
      ]
    },
    {
      "cell_type": "markdown",
      "metadata": {
        "colab_type": "text",
        "id": "wRmj7f-uvrgf"
      },
      "source": [
        "## 결측치 처리하기\n",
        "\n",
        "#### 2020 [FinanceData.KR](http://financedata.kr) | [facebook.com/financedata](http://facebook.com/financedata)"
      ]
    },
    {
      "cell_type": "code",
      "metadata": {
        "colab_type": "code",
        "id": "VY3whgl20gzr",
        "colab": {}
      },
      "source": [
        "import pandas as pd\n",
        "\n",
        "data = [\n",
        "  [  10,   20, None, 100], \n",
        "  [  20,   20, None, 200], \n",
        "  [None, None, None, None],\n",
        "  [None, None, None, 400],\n",
        "]\n",
        "\n",
        "df = pd.DataFrame(data, columns=list('ABCD'))\n",
        "df"
      ],
      "execution_count": null,
      "outputs": []
    },
    {
      "cell_type": "code",
      "metadata": {
        "colab_type": "code",
        "id": "0c7lAjk_vrgt",
        "colab": {}
      },
      "source": [
        "df.dropna(how='all')"
      ],
      "execution_count": null,
      "outputs": []
    },
    {
      "cell_type": "code",
      "metadata": {
        "colab_type": "code",
        "id": "QcM9n2HWvrgw",
        "colab": {}
      },
      "source": [
        "df.dropna(axis=1, how='all')"
      ],
      "execution_count": null,
      "outputs": []
    },
    {
      "cell_type": "markdown",
      "metadata": {
        "colab_type": "text",
        "id": "KpgFlChq8bNk"
      },
      "source": [
        "## 결측치를 다른 값으로 바꾸기\n",
        "\n",
        "```python\n",
        "df.fillna(value=0)\n",
        "```\n"
      ]
    },
    {
      "cell_type": "code",
      "metadata": {
        "colab_type": "code",
        "id": "-a2yk_Zz8rGR",
        "colab": {}
      },
      "source": [
        "data = [\n",
        "  [  10,   20, None, 100], \n",
        "  [  20,   20,   80, 200], \n",
        "  [  30,   40, None, 300],\n",
        "  [None, None,  400, 400],\n",
        "]\n",
        "\n",
        "df = pd.DataFrame(data, columns=list('ABCD'))\n",
        "df"
      ],
      "execution_count": null,
      "outputs": []
    },
    {
      "cell_type": "code",
      "metadata": {
        "colab_type": "code",
        "id": "fE3DKM6y8bH9",
        "colab": {}
      },
      "source": [
        "df.fillna(0)"
      ],
      "execution_count": null,
      "outputs": []
    },
    {
      "cell_type": "code",
      "metadata": {
        "colab_type": "code",
        "id": "vuIB_QwA80g1",
        "colab": {}
      },
      "source": [
        "df.fillna(-1)"
      ],
      "execution_count": null,
      "outputs": []
    },
    {
      "cell_type": "markdown",
      "metadata": {
        "colab_type": "text",
        "id": "ixFuKXoXvrgz"
      },
      "source": [
        "## 데이터 병합 concat\n",
        "```python\n",
        "pd.concat(axis=0)\n",
        "```"
      ]
    },
    {
      "cell_type": "code",
      "metadata": {
        "colab_type": "code",
        "id": "tz20NiF53sVt",
        "colab": {}
      },
      "source": [
        "df_01 = pd.DataFrame([[11, 12, 13], [14, 15, 16]], columns=list('ABC'))\n",
        "df_01"
      ],
      "execution_count": null,
      "outputs": []
    },
    {
      "cell_type": "code",
      "metadata": {
        "colab_type": "code",
        "id": "WAWe7Fwv3sPE",
        "colab": {}
      },
      "source": [
        "df_02 = pd.DataFrame([[21, 22, 23], [24, 25, 26]], columns=list('ABC'))\n",
        "df_02"
      ],
      "execution_count": null,
      "outputs": []
    },
    {
      "cell_type": "code",
      "metadata": {
        "colab_type": "code",
        "id": "i672-Jj23ztv",
        "colab": {}
      },
      "source": [
        "pd.concat([df_01, df_02])"
      ],
      "execution_count": null,
      "outputs": []
    },
    {
      "cell_type": "code",
      "metadata": {
        "colab_type": "code",
        "id": "JFk6epwM4Osu",
        "colab": {}
      },
      "source": [
        "df_01 = pd.DataFrame([[11, 12], [14, 15]], columns=list('AB'))\n",
        "df_01"
      ],
      "execution_count": null,
      "outputs": []
    },
    {
      "cell_type": "code",
      "metadata": {
        "colab_type": "code",
        "id": "3X7UrW5f4ey6",
        "colab": {}
      },
      "source": [
        "df_02 = pd.DataFrame([[21, 22], [24, 25]], columns=list('CD'))\n",
        "df_02"
      ],
      "execution_count": null,
      "outputs": []
    },
    {
      "cell_type": "code",
      "metadata": {
        "colab_type": "code",
        "id": "OsVk1eOE4yLJ",
        "colab": {}
      },
      "source": [
        "pd.concat([df_01, df_02])"
      ],
      "execution_count": null,
      "outputs": []
    },
    {
      "cell_type": "code",
      "metadata": {
        "colab_type": "code",
        "id": "cXFqZiZj4hgA",
        "colab": {}
      },
      "source": [
        "pd.concat([df_01, df_02], axis=1)"
      ],
      "execution_count": null,
      "outputs": []
    },
    {
      "cell_type": "markdown",
      "metadata": {
        "colab_type": "text",
        "id": "TW4YJsLv6FaY"
      },
      "source": [
        "## 데이터 병합 - merge\n",
        "\n",
        "```python\n",
        "pd.merge(df1, df2, how='inner')\n",
        "```"
      ]
    },
    {
      "cell_type": "code",
      "metadata": {
        "colab_type": "code",
        "id": "RFWvdVdkEMuH",
        "colab": {}
      },
      "source": [
        "관심종목 = [\n",
        "  ['005930', '삼성전자'],\n",
        "  ['017670', 'SK텔레콤'],\n",
        "  ['105560', 'KB금융'],\n",
        "]\n",
        "\n",
        "배당 = [\n",
        "  ['005930', '삼성전자', 21000.0, 1.05],\n",
        "  ['000660', 'SK하이닉스', 500.0, 1.02],\n",
        "  ['005380', '현대차', 4000.0, 2.74],\n",
        "  ['105560', 'KB금융', 980.0, 2.0],\n",
        "  ['015760', '한국전력', 3100.0, 7.45],\n",
        "]\n",
        "\n",
        "df1 = pd.DataFrame(관심종목, columns=['종목코드', '종목명'])\n",
        "df2 = pd.DataFrame(배당, columns=['종목코드', '종목명', '주당배당금', '배당수익률'])"
      ],
      "execution_count": null,
      "outputs": []
    },
    {
      "cell_type": "code",
      "metadata": {
        "colab_type": "code",
        "id": "RtvXQqUiEMqd",
        "colab": {
          "base_uri": "https://localhost:8080/",
          "height": 142
        },
        "outputId": "0951155e-08a5-47d3-815f-c7d168f02635"
      },
      "source": [
        "df1"
      ],
      "execution_count": null,
      "outputs": [
        {
          "output_type": "execute_result",
          "data": {
            "text/html": [
              "<div>\n",
              "<style scoped>\n",
              "    .dataframe tbody tr th:only-of-type {\n",
              "        vertical-align: middle;\n",
              "    }\n",
              "\n",
              "    .dataframe tbody tr th {\n",
              "        vertical-align: top;\n",
              "    }\n",
              "\n",
              "    .dataframe thead th {\n",
              "        text-align: right;\n",
              "    }\n",
              "</style>\n",
              "<table border=\"1\" class=\"dataframe\">\n",
              "  <thead>\n",
              "    <tr style=\"text-align: right;\">\n",
              "      <th></th>\n",
              "      <th>종목코드</th>\n",
              "      <th>종목명</th>\n",
              "    </tr>\n",
              "  </thead>\n",
              "  <tbody>\n",
              "    <tr>\n",
              "      <th>0</th>\n",
              "      <td>005930</td>\n",
              "      <td>삼성전자</td>\n",
              "    </tr>\n",
              "    <tr>\n",
              "      <th>1</th>\n",
              "      <td>017670</td>\n",
              "      <td>SK텔레콤</td>\n",
              "    </tr>\n",
              "    <tr>\n",
              "      <th>2</th>\n",
              "      <td>105560</td>\n",
              "      <td>KB금융</td>\n",
              "    </tr>\n",
              "  </tbody>\n",
              "</table>\n",
              "</div>"
            ],
            "text/plain": [
              "     종목코드    종목명\n",
              "0  005930   삼성전자\n",
              "1  017670  SK텔레콤\n",
              "2  105560   KB금융"
            ]
          },
          "metadata": {
            "tags": []
          },
          "execution_count": 24
        }
      ]
    },
    {
      "cell_type": "code",
      "metadata": {
        "colab_type": "code",
        "id": "IsUPIKxGEMl2",
        "colab": {
          "base_uri": "https://localhost:8080/",
          "height": 204
        },
        "outputId": "7625a4f6-567f-4997-94e4-b08965c7a3cc"
      },
      "source": [
        "df2"
      ],
      "execution_count": null,
      "outputs": [
        {
          "output_type": "execute_result",
          "data": {
            "text/html": [
              "<div>\n",
              "<style scoped>\n",
              "    .dataframe tbody tr th:only-of-type {\n",
              "        vertical-align: middle;\n",
              "    }\n",
              "\n",
              "    .dataframe tbody tr th {\n",
              "        vertical-align: top;\n",
              "    }\n",
              "\n",
              "    .dataframe thead th {\n",
              "        text-align: right;\n",
              "    }\n",
              "</style>\n",
              "<table border=\"1\" class=\"dataframe\">\n",
              "  <thead>\n",
              "    <tr style=\"text-align: right;\">\n",
              "      <th></th>\n",
              "      <th>종목코드</th>\n",
              "      <th>종목명</th>\n",
              "      <th>주당배당금</th>\n",
              "      <th>배당수익률</th>\n",
              "    </tr>\n",
              "  </thead>\n",
              "  <tbody>\n",
              "    <tr>\n",
              "      <th>0</th>\n",
              "      <td>005930</td>\n",
              "      <td>삼성전자</td>\n",
              "      <td>21000.0</td>\n",
              "      <td>1.05</td>\n",
              "    </tr>\n",
              "    <tr>\n",
              "      <th>1</th>\n",
              "      <td>000660</td>\n",
              "      <td>SK하이닉스</td>\n",
              "      <td>500.0</td>\n",
              "      <td>1.02</td>\n",
              "    </tr>\n",
              "    <tr>\n",
              "      <th>2</th>\n",
              "      <td>005380</td>\n",
              "      <td>현대차</td>\n",
              "      <td>4000.0</td>\n",
              "      <td>2.74</td>\n",
              "    </tr>\n",
              "    <tr>\n",
              "      <th>3</th>\n",
              "      <td>105560</td>\n",
              "      <td>KB금융</td>\n",
              "      <td>980.0</td>\n",
              "      <td>2.00</td>\n",
              "    </tr>\n",
              "    <tr>\n",
              "      <th>4</th>\n",
              "      <td>015760</td>\n",
              "      <td>한국전력</td>\n",
              "      <td>3100.0</td>\n",
              "      <td>7.45</td>\n",
              "    </tr>\n",
              "  </tbody>\n",
              "</table>\n",
              "</div>"
            ],
            "text/plain": [
              "     종목코드     종목명    주당배당금  배당수익률\n",
              "0  005930    삼성전자  21000.0   1.05\n",
              "1  000660  SK하이닉스    500.0   1.02\n",
              "2  005380     현대차   4000.0   2.74\n",
              "3  105560    KB금융    980.0   2.00\n",
              "4  015760    한국전력   3100.0   7.45"
            ]
          },
          "metadata": {
            "tags": []
          },
          "execution_count": 25
        }
      ]
    },
    {
      "cell_type": "code",
      "metadata": {
        "colab_type": "code",
        "id": "ZBN64h1IF7Yu",
        "colab": {
          "base_uri": "https://localhost:8080/",
          "height": 111
        },
        "outputId": "68fcd5dc-dbd5-49ea-94bf-9123b50a102b"
      },
      "source": [
        "pd.merge(df1, df2)"
      ],
      "execution_count": null,
      "outputs": [
        {
          "output_type": "execute_result",
          "data": {
            "text/html": [
              "<div>\n",
              "<style scoped>\n",
              "    .dataframe tbody tr th:only-of-type {\n",
              "        vertical-align: middle;\n",
              "    }\n",
              "\n",
              "    .dataframe tbody tr th {\n",
              "        vertical-align: top;\n",
              "    }\n",
              "\n",
              "    .dataframe thead th {\n",
              "        text-align: right;\n",
              "    }\n",
              "</style>\n",
              "<table border=\"1\" class=\"dataframe\">\n",
              "  <thead>\n",
              "    <tr style=\"text-align: right;\">\n",
              "      <th></th>\n",
              "      <th>종목코드</th>\n",
              "      <th>종목명</th>\n",
              "      <th>주당배당금</th>\n",
              "      <th>배당수익률</th>\n",
              "    </tr>\n",
              "  </thead>\n",
              "  <tbody>\n",
              "    <tr>\n",
              "      <th>0</th>\n",
              "      <td>005930</td>\n",
              "      <td>삼성전자</td>\n",
              "      <td>21000.0</td>\n",
              "      <td>1.05</td>\n",
              "    </tr>\n",
              "    <tr>\n",
              "      <th>1</th>\n",
              "      <td>105560</td>\n",
              "      <td>KB금융</td>\n",
              "      <td>980.0</td>\n",
              "      <td>2.00</td>\n",
              "    </tr>\n",
              "  </tbody>\n",
              "</table>\n",
              "</div>"
            ],
            "text/plain": [
              "     종목코드   종목명    주당배당금  배당수익률\n",
              "0  005930  삼성전자  21000.0   1.05\n",
              "1  105560  KB금융    980.0   2.00"
            ]
          },
          "metadata": {
            "tags": []
          },
          "execution_count": 26
        }
      ]
    },
    {
      "cell_type": "code",
      "metadata": {
        "colab_type": "code",
        "id": "QYeJE5poF7TL",
        "colab": {
          "base_uri": "https://localhost:8080/",
          "height": 142
        },
        "outputId": "b75a794c-ef89-45a9-d017-22a58f61c2ef"
      },
      "source": [
        "pd.merge(df1, df2, how='left')"
      ],
      "execution_count": null,
      "outputs": [
        {
          "output_type": "execute_result",
          "data": {
            "text/html": [
              "<div>\n",
              "<style scoped>\n",
              "    .dataframe tbody tr th:only-of-type {\n",
              "        vertical-align: middle;\n",
              "    }\n",
              "\n",
              "    .dataframe tbody tr th {\n",
              "        vertical-align: top;\n",
              "    }\n",
              "\n",
              "    .dataframe thead th {\n",
              "        text-align: right;\n",
              "    }\n",
              "</style>\n",
              "<table border=\"1\" class=\"dataframe\">\n",
              "  <thead>\n",
              "    <tr style=\"text-align: right;\">\n",
              "      <th></th>\n",
              "      <th>종목코드</th>\n",
              "      <th>종목명</th>\n",
              "      <th>주당배당금</th>\n",
              "      <th>배당수익률</th>\n",
              "    </tr>\n",
              "  </thead>\n",
              "  <tbody>\n",
              "    <tr>\n",
              "      <th>0</th>\n",
              "      <td>005930</td>\n",
              "      <td>삼성전자</td>\n",
              "      <td>21000.0</td>\n",
              "      <td>1.05</td>\n",
              "    </tr>\n",
              "    <tr>\n",
              "      <th>1</th>\n",
              "      <td>017670</td>\n",
              "      <td>SK텔레콤</td>\n",
              "      <td>NaN</td>\n",
              "      <td>NaN</td>\n",
              "    </tr>\n",
              "    <tr>\n",
              "      <th>2</th>\n",
              "      <td>105560</td>\n",
              "      <td>KB금융</td>\n",
              "      <td>980.0</td>\n",
              "      <td>2.00</td>\n",
              "    </tr>\n",
              "  </tbody>\n",
              "</table>\n",
              "</div>"
            ],
            "text/plain": [
              "     종목코드    종목명    주당배당금  배당수익률\n",
              "0  005930   삼성전자  21000.0   1.05\n",
              "1  017670  SK텔레콤      NaN    NaN\n",
              "2  105560   KB금융    980.0   2.00"
            ]
          },
          "metadata": {
            "tags": []
          },
          "execution_count": 27
        }
      ]
    },
    {
      "cell_type": "markdown",
      "metadata": {
        "colab_type": "text",
        "id": "1UydqtkfIFB2"
      },
      "source": [
        "왼쪽 DataFrame을 기준으로 삼으려면 how='left' 를 지정합니다. 왼쪽 DataFrame에 있는 로우들은 모두 결과에 포함됩니다."
      ]
    },
    {
      "cell_type": "code",
      "metadata": {
        "colab_type": "code",
        "id": "TbxmDA39F7OU",
        "colab": {
          "base_uri": "https://localhost:8080/",
          "height": 235
        },
        "outputId": "1194567e-3be9-450d-c3e8-9c4e608c09b7"
      },
      "source": [
        "pd.merge(df1, df2, how='outer')"
      ],
      "execution_count": null,
      "outputs": [
        {
          "output_type": "execute_result",
          "data": {
            "text/html": [
              "<div>\n",
              "<style scoped>\n",
              "    .dataframe tbody tr th:only-of-type {\n",
              "        vertical-align: middle;\n",
              "    }\n",
              "\n",
              "    .dataframe tbody tr th {\n",
              "        vertical-align: top;\n",
              "    }\n",
              "\n",
              "    .dataframe thead th {\n",
              "        text-align: right;\n",
              "    }\n",
              "</style>\n",
              "<table border=\"1\" class=\"dataframe\">\n",
              "  <thead>\n",
              "    <tr style=\"text-align: right;\">\n",
              "      <th></th>\n",
              "      <th>종목코드</th>\n",
              "      <th>종목명</th>\n",
              "      <th>주당배당금</th>\n",
              "      <th>배당수익률</th>\n",
              "    </tr>\n",
              "  </thead>\n",
              "  <tbody>\n",
              "    <tr>\n",
              "      <th>0</th>\n",
              "      <td>005930</td>\n",
              "      <td>삼성전자</td>\n",
              "      <td>21000.0</td>\n",
              "      <td>1.05</td>\n",
              "    </tr>\n",
              "    <tr>\n",
              "      <th>1</th>\n",
              "      <td>017670</td>\n",
              "      <td>SK텔레콤</td>\n",
              "      <td>NaN</td>\n",
              "      <td>NaN</td>\n",
              "    </tr>\n",
              "    <tr>\n",
              "      <th>2</th>\n",
              "      <td>105560</td>\n",
              "      <td>KB금융</td>\n",
              "      <td>980.0</td>\n",
              "      <td>2.00</td>\n",
              "    </tr>\n",
              "    <tr>\n",
              "      <th>3</th>\n",
              "      <td>000660</td>\n",
              "      <td>SK하이닉스</td>\n",
              "      <td>500.0</td>\n",
              "      <td>1.02</td>\n",
              "    </tr>\n",
              "    <tr>\n",
              "      <th>4</th>\n",
              "      <td>005380</td>\n",
              "      <td>현대차</td>\n",
              "      <td>4000.0</td>\n",
              "      <td>2.74</td>\n",
              "    </tr>\n",
              "    <tr>\n",
              "      <th>5</th>\n",
              "      <td>015760</td>\n",
              "      <td>한국전력</td>\n",
              "      <td>3100.0</td>\n",
              "      <td>7.45</td>\n",
              "    </tr>\n",
              "  </tbody>\n",
              "</table>\n",
              "</div>"
            ],
            "text/plain": [
              "     종목코드     종목명    주당배당금  배당수익률\n",
              "0  005930    삼성전자  21000.0   1.05\n",
              "1  017670   SK텔레콤      NaN    NaN\n",
              "2  105560    KB금융    980.0   2.00\n",
              "3  000660  SK하이닉스    500.0   1.02\n",
              "4  005380     현대차   4000.0   2.74\n",
              "5  015760    한국전력   3100.0   7.45"
            ]
          },
          "metadata": {
            "tags": []
          },
          "execution_count": 28
        }
      ]
    },
    {
      "cell_type": "markdown",
      "metadata": {
        "colab_type": "text",
        "id": "XmChvf55YB8E"
      },
      "source": [
        "## 데이터 병합 - 인덱스 활용\n",
        "```python\n",
        "df.set_index('index_col') # 인덱스 지정\n",
        "```"
      ]
    },
    {
      "cell_type": "code",
      "metadata": {
        "colab_type": "code",
        "id": "s9kzHSWaYB2u",
        "colab": {}
      },
      "source": [
        "# 종목코드에 인덱스를 부여합니다\n",
        "\n",
        "관심종목 = [\n",
        "  ['005930', '삼성전자'],\n",
        "  ['017670', 'SK텔레콤'],\n",
        "  ['105560', 'KB금융'],\n",
        "]\n",
        "\n",
        "배당 = [\n",
        "  ['005930', '삼성전자', 21000.0, 1.05],\n",
        "  ['000660', 'SK하이닉스', 500.0, 1.02],\n",
        "  ['005380', '현대차', 4000.0, 2.74],\n",
        "  ['105560', 'KB금융', 980.0, 2.0],\n",
        "  ['015760', '한국전력', 3100.0, 7.45],\n",
        "]\n",
        "\n",
        "df1 = pd.DataFrame(관심종목, columns=['종목코드', '종목명'])\n",
        "df2 = pd.DataFrame(배당, columns=['종목코드', '종목명', '주당배당금', '배당수익률'])"
      ],
      "execution_count": null,
      "outputs": []
    },
    {
      "cell_type": "code",
      "metadata": {
        "colab_type": "code",
        "id": "j7qvwWi_Z_Oy",
        "colab": {
          "base_uri": "https://localhost:8080/",
          "height": 173
        },
        "outputId": "b681d369-6a2e-450b-9ddd-8533f200561b"
      },
      "source": [
        "df1 = df1.set_index('종목코드')\n",
        "df1"
      ],
      "execution_count": null,
      "outputs": [
        {
          "output_type": "execute_result",
          "data": {
            "text/html": [
              "<div>\n",
              "<style scoped>\n",
              "    .dataframe tbody tr th:only-of-type {\n",
              "        vertical-align: middle;\n",
              "    }\n",
              "\n",
              "    .dataframe tbody tr th {\n",
              "        vertical-align: top;\n",
              "    }\n",
              "\n",
              "    .dataframe thead th {\n",
              "        text-align: right;\n",
              "    }\n",
              "</style>\n",
              "<table border=\"1\" class=\"dataframe\">\n",
              "  <thead>\n",
              "    <tr style=\"text-align: right;\">\n",
              "      <th></th>\n",
              "      <th>종목명</th>\n",
              "    </tr>\n",
              "    <tr>\n",
              "      <th>종목코드</th>\n",
              "      <th></th>\n",
              "    </tr>\n",
              "  </thead>\n",
              "  <tbody>\n",
              "    <tr>\n",
              "      <th>005930</th>\n",
              "      <td>삼성전자</td>\n",
              "    </tr>\n",
              "    <tr>\n",
              "      <th>017670</th>\n",
              "      <td>SK텔레콤</td>\n",
              "    </tr>\n",
              "    <tr>\n",
              "      <th>105560</th>\n",
              "      <td>KB금융</td>\n",
              "    </tr>\n",
              "  </tbody>\n",
              "</table>\n",
              "</div>"
            ],
            "text/plain": [
              "          종목명\n",
              "종목코드         \n",
              "005930   삼성전자\n",
              "017670  SK텔레콤\n",
              "105560   KB금융"
            ]
          },
          "metadata": {
            "tags": []
          },
          "execution_count": 30
        }
      ]
    },
    {
      "cell_type": "code",
      "metadata": {
        "colab_type": "code",
        "id": "iylicz4MZ_KP",
        "colab": {
          "base_uri": "https://localhost:8080/",
          "height": 235
        },
        "outputId": "d7bc2c5a-2b1e-4ad4-aabb-34daabc7a37b"
      },
      "source": [
        "df2 = df2.set_index('종목코드')\n",
        "df2"
      ],
      "execution_count": null,
      "outputs": [
        {
          "output_type": "execute_result",
          "data": {
            "text/html": [
              "<div>\n",
              "<style scoped>\n",
              "    .dataframe tbody tr th:only-of-type {\n",
              "        vertical-align: middle;\n",
              "    }\n",
              "\n",
              "    .dataframe tbody tr th {\n",
              "        vertical-align: top;\n",
              "    }\n",
              "\n",
              "    .dataframe thead th {\n",
              "        text-align: right;\n",
              "    }\n",
              "</style>\n",
              "<table border=\"1\" class=\"dataframe\">\n",
              "  <thead>\n",
              "    <tr style=\"text-align: right;\">\n",
              "      <th></th>\n",
              "      <th>종목명</th>\n",
              "      <th>주당배당금</th>\n",
              "      <th>배당수익률</th>\n",
              "    </tr>\n",
              "    <tr>\n",
              "      <th>종목코드</th>\n",
              "      <th></th>\n",
              "      <th></th>\n",
              "      <th></th>\n",
              "    </tr>\n",
              "  </thead>\n",
              "  <tbody>\n",
              "    <tr>\n",
              "      <th>005930</th>\n",
              "      <td>삼성전자</td>\n",
              "      <td>21000.0</td>\n",
              "      <td>1.05</td>\n",
              "    </tr>\n",
              "    <tr>\n",
              "      <th>000660</th>\n",
              "      <td>SK하이닉스</td>\n",
              "      <td>500.0</td>\n",
              "      <td>1.02</td>\n",
              "    </tr>\n",
              "    <tr>\n",
              "      <th>005380</th>\n",
              "      <td>현대차</td>\n",
              "      <td>4000.0</td>\n",
              "      <td>2.74</td>\n",
              "    </tr>\n",
              "    <tr>\n",
              "      <th>105560</th>\n",
              "      <td>KB금융</td>\n",
              "      <td>980.0</td>\n",
              "      <td>2.00</td>\n",
              "    </tr>\n",
              "    <tr>\n",
              "      <th>015760</th>\n",
              "      <td>한국전력</td>\n",
              "      <td>3100.0</td>\n",
              "      <td>7.45</td>\n",
              "    </tr>\n",
              "  </tbody>\n",
              "</table>\n",
              "</div>"
            ],
            "text/plain": [
              "           종목명    주당배당금  배당수익률\n",
              "종목코드                          \n",
              "005930    삼성전자  21000.0   1.05\n",
              "000660  SK하이닉스    500.0   1.02\n",
              "005380     현대차   4000.0   2.74\n",
              "105560    KB금융    980.0   2.00\n",
              "015760    한국전력   3100.0   7.45"
            ]
          },
          "metadata": {
            "tags": []
          },
          "execution_count": 31
        }
      ]
    },
    {
      "cell_type": "code",
      "metadata": {
        "colab_type": "code",
        "id": "I8T7L-AqbvXR",
        "colab": {
          "base_uri": "https://localhost:8080/",
          "height": 173
        },
        "outputId": "fc7d3690-4a21-4311-8748-2b7e1cf846a1"
      },
      "source": [
        "df1['배당수익률'] = df2['배당수익률']\n",
        "df1"
      ],
      "execution_count": null,
      "outputs": [
        {
          "output_type": "execute_result",
          "data": {
            "text/html": [
              "<div>\n",
              "<style scoped>\n",
              "    .dataframe tbody tr th:only-of-type {\n",
              "        vertical-align: middle;\n",
              "    }\n",
              "\n",
              "    .dataframe tbody tr th {\n",
              "        vertical-align: top;\n",
              "    }\n",
              "\n",
              "    .dataframe thead th {\n",
              "        text-align: right;\n",
              "    }\n",
              "</style>\n",
              "<table border=\"1\" class=\"dataframe\">\n",
              "  <thead>\n",
              "    <tr style=\"text-align: right;\">\n",
              "      <th></th>\n",
              "      <th>종목명</th>\n",
              "      <th>배당수익률</th>\n",
              "    </tr>\n",
              "    <tr>\n",
              "      <th>종목코드</th>\n",
              "      <th></th>\n",
              "      <th></th>\n",
              "    </tr>\n",
              "  </thead>\n",
              "  <tbody>\n",
              "    <tr>\n",
              "      <th>005930</th>\n",
              "      <td>삼성전자</td>\n",
              "      <td>1.05</td>\n",
              "    </tr>\n",
              "    <tr>\n",
              "      <th>017670</th>\n",
              "      <td>SK텔레콤</td>\n",
              "      <td>NaN</td>\n",
              "    </tr>\n",
              "    <tr>\n",
              "      <th>105560</th>\n",
              "      <td>KB금융</td>\n",
              "      <td>2.00</td>\n",
              "    </tr>\n",
              "  </tbody>\n",
              "</table>\n",
              "</div>"
            ],
            "text/plain": [
              "          종목명  배당수익률\n",
              "종목코드                \n",
              "005930   삼성전자   1.05\n",
              "017670  SK텔레콤    NaN\n",
              "105560   KB금융   2.00"
            ]
          },
          "metadata": {
            "tags": []
          },
          "execution_count": 32
        }
      ]
    },
    {
      "cell_type": "code",
      "metadata": {
        "colab_type": "code",
        "id": "qI4BkoAQbvR0",
        "colab": {
          "base_uri": "https://localhost:8080/",
          "height": 173
        },
        "outputId": "319f8613-d5a7-45fe-e3b5-95a153d5d33d"
      },
      "source": [
        "df1[['주당배당금', '배당수익률']] = df2[['주당배당금', '배당수익률']]\n",
        "df1"
      ],
      "execution_count": null,
      "outputs": [
        {
          "output_type": "execute_result",
          "data": {
            "text/html": [
              "<div>\n",
              "<style scoped>\n",
              "    .dataframe tbody tr th:only-of-type {\n",
              "        vertical-align: middle;\n",
              "    }\n",
              "\n",
              "    .dataframe tbody tr th {\n",
              "        vertical-align: top;\n",
              "    }\n",
              "\n",
              "    .dataframe thead th {\n",
              "        text-align: right;\n",
              "    }\n",
              "</style>\n",
              "<table border=\"1\" class=\"dataframe\">\n",
              "  <thead>\n",
              "    <tr style=\"text-align: right;\">\n",
              "      <th></th>\n",
              "      <th>종목명</th>\n",
              "      <th>배당수익률</th>\n",
              "      <th>주당배당금</th>\n",
              "    </tr>\n",
              "    <tr>\n",
              "      <th>종목코드</th>\n",
              "      <th></th>\n",
              "      <th></th>\n",
              "      <th></th>\n",
              "    </tr>\n",
              "  </thead>\n",
              "  <tbody>\n",
              "    <tr>\n",
              "      <th>005930</th>\n",
              "      <td>삼성전자</td>\n",
              "      <td>1.05</td>\n",
              "      <td>21000.0</td>\n",
              "    </tr>\n",
              "    <tr>\n",
              "      <th>017670</th>\n",
              "      <td>SK텔레콤</td>\n",
              "      <td>NaN</td>\n",
              "      <td>NaN</td>\n",
              "    </tr>\n",
              "    <tr>\n",
              "      <th>105560</th>\n",
              "      <td>KB금융</td>\n",
              "      <td>2.00</td>\n",
              "      <td>980.0</td>\n",
              "    </tr>\n",
              "  </tbody>\n",
              "</table>\n",
              "</div>"
            ],
            "text/plain": [
              "          종목명  배당수익률    주당배당금\n",
              "종목코드                         \n",
              "005930   삼성전자   1.05  21000.0\n",
              "017670  SK텔레콤    NaN      NaN\n",
              "105560   KB금융   2.00    980.0"
            ]
          },
          "metadata": {
            "tags": []
          },
          "execution_count": 33
        }
      ]
    },
    {
      "cell_type": "markdown",
      "metadata": {
        "colab_type": "text",
        "id": "g-GLvcwtvrgK"
      },
      "source": [
        "## 피벗 (pivot)\n",
        "```python\n",
        "df.pivot(index='col_i', columns='col_c', values='col_v')\n",
        "```\n",
        "\n"
      ]
    },
    {
      "cell_type": "code",
      "metadata": {
        "colab_type": "code",
        "id": "2-fiyMB6A6xX",
        "colab": {
          "base_uri": "https://localhost:8080/",
          "height": 235
        },
        "outputId": "47010d86-2c6f-4d3e-a023-31f7d6a3beeb"
      },
      "source": [
        "import pandas as pd\n",
        "\n",
        "data = [\n",
        "  ['2013-01', 'KT', 60.30],\n",
        "  ['2013-02', 'KT', 69.60],\n",
        "  ['2013-03', 'KT', 64.38],\n",
        "  ['2013-01', 'SKT', 52.77],\n",
        "  ['2013-02', 'SKT', 95.23],\n",
        "  ['2013-03', 'SKT', 84.20],\n",
        "]\n",
        "\n",
        "df = pd.DataFrame(data, columns=['month', 'corp', 'ad_exp'])\n",
        "df"
      ],
      "execution_count": null,
      "outputs": [
        {
          "output_type": "execute_result",
          "data": {
            "text/html": [
              "<div>\n",
              "<style scoped>\n",
              "    .dataframe tbody tr th:only-of-type {\n",
              "        vertical-align: middle;\n",
              "    }\n",
              "\n",
              "    .dataframe tbody tr th {\n",
              "        vertical-align: top;\n",
              "    }\n",
              "\n",
              "    .dataframe thead th {\n",
              "        text-align: right;\n",
              "    }\n",
              "</style>\n",
              "<table border=\"1\" class=\"dataframe\">\n",
              "  <thead>\n",
              "    <tr style=\"text-align: right;\">\n",
              "      <th></th>\n",
              "      <th>month</th>\n",
              "      <th>corp</th>\n",
              "      <th>ad_exp</th>\n",
              "    </tr>\n",
              "  </thead>\n",
              "  <tbody>\n",
              "    <tr>\n",
              "      <th>0</th>\n",
              "      <td>2013-01</td>\n",
              "      <td>KT</td>\n",
              "      <td>60.30</td>\n",
              "    </tr>\n",
              "    <tr>\n",
              "      <th>1</th>\n",
              "      <td>2013-02</td>\n",
              "      <td>KT</td>\n",
              "      <td>69.60</td>\n",
              "    </tr>\n",
              "    <tr>\n",
              "      <th>2</th>\n",
              "      <td>2013-03</td>\n",
              "      <td>KT</td>\n",
              "      <td>64.38</td>\n",
              "    </tr>\n",
              "    <tr>\n",
              "      <th>3</th>\n",
              "      <td>2013-01</td>\n",
              "      <td>SKT</td>\n",
              "      <td>52.77</td>\n",
              "    </tr>\n",
              "    <tr>\n",
              "      <th>4</th>\n",
              "      <td>2013-02</td>\n",
              "      <td>SKT</td>\n",
              "      <td>95.23</td>\n",
              "    </tr>\n",
              "    <tr>\n",
              "      <th>5</th>\n",
              "      <td>2013-03</td>\n",
              "      <td>SKT</td>\n",
              "      <td>84.20</td>\n",
              "    </tr>\n",
              "  </tbody>\n",
              "</table>\n",
              "</div>"
            ],
            "text/plain": [
              "     month corp  ad_exp\n",
              "0  2013-01   KT   60.30\n",
              "1  2013-02   KT   69.60\n",
              "2  2013-03   KT   64.38\n",
              "3  2013-01  SKT   52.77\n",
              "4  2013-02  SKT   95.23\n",
              "5  2013-03  SKT   84.20"
            ]
          },
          "metadata": {
            "tags": []
          },
          "execution_count": 34
        }
      ]
    },
    {
      "cell_type": "code",
      "metadata": {
        "colab_type": "code",
        "id": "14PzDbD9BS79",
        "colab": {
          "base_uri": "https://localhost:8080/",
          "height": 173
        },
        "outputId": "a6604b5b-9ab1-4587-ae69-786d8d57c060"
      },
      "source": [
        "df.pivot( index='month', columns='corp', values='ad_exp' )"
      ],
      "execution_count": null,
      "outputs": [
        {
          "output_type": "execute_result",
          "data": {
            "text/html": [
              "<div>\n",
              "<style scoped>\n",
              "    .dataframe tbody tr th:only-of-type {\n",
              "        vertical-align: middle;\n",
              "    }\n",
              "\n",
              "    .dataframe tbody tr th {\n",
              "        vertical-align: top;\n",
              "    }\n",
              "\n",
              "    .dataframe thead th {\n",
              "        text-align: right;\n",
              "    }\n",
              "</style>\n",
              "<table border=\"1\" class=\"dataframe\">\n",
              "  <thead>\n",
              "    <tr style=\"text-align: right;\">\n",
              "      <th>corp</th>\n",
              "      <th>KT</th>\n",
              "      <th>SKT</th>\n",
              "    </tr>\n",
              "    <tr>\n",
              "      <th>month</th>\n",
              "      <th></th>\n",
              "      <th></th>\n",
              "    </tr>\n",
              "  </thead>\n",
              "  <tbody>\n",
              "    <tr>\n",
              "      <th>2013-01</th>\n",
              "      <td>60.30</td>\n",
              "      <td>52.77</td>\n",
              "    </tr>\n",
              "    <tr>\n",
              "      <th>2013-02</th>\n",
              "      <td>69.60</td>\n",
              "      <td>95.23</td>\n",
              "    </tr>\n",
              "    <tr>\n",
              "      <th>2013-03</th>\n",
              "      <td>64.38</td>\n",
              "      <td>84.20</td>\n",
              "    </tr>\n",
              "  </tbody>\n",
              "</table>\n",
              "</div>"
            ],
            "text/plain": [
              "corp        KT    SKT\n",
              "month                \n",
              "2013-01  60.30  52.77\n",
              "2013-02  69.60  95.23\n",
              "2013-03  64.38  84.20"
            ]
          },
          "metadata": {
            "tags": []
          },
          "execution_count": 35
        }
      ]
    },
    {
      "cell_type": "code",
      "metadata": {
        "colab_type": "code",
        "id": "BI1tZy3aPHjY",
        "colab": {
          "base_uri": "https://localhost:8080/",
          "height": 173
        },
        "outputId": "631abf2b-047f-4869-c9bb-cf21f193d574"
      },
      "source": [
        "# 간단한 예제 \n",
        "import pandas as pd\n",
        "\n",
        "data = [\n",
        "  ['1', 'A', 10],\n",
        "  ['1', 'A', 20],\n",
        "  ['2', 'A', 30],\n",
        "  ['2', 'B', 40],\n",
        "]\n",
        "\n",
        "df = pd.DataFrame(data, columns=['ix', 'col', 'val'])\n",
        "df"
      ],
      "execution_count": null,
      "outputs": [
        {
          "output_type": "execute_result",
          "data": {
            "text/html": [
              "<div>\n",
              "<style scoped>\n",
              "    .dataframe tbody tr th:only-of-type {\n",
              "        vertical-align: middle;\n",
              "    }\n",
              "\n",
              "    .dataframe tbody tr th {\n",
              "        vertical-align: top;\n",
              "    }\n",
              "\n",
              "    .dataframe thead th {\n",
              "        text-align: right;\n",
              "    }\n",
              "</style>\n",
              "<table border=\"1\" class=\"dataframe\">\n",
              "  <thead>\n",
              "    <tr style=\"text-align: right;\">\n",
              "      <th></th>\n",
              "      <th>ix</th>\n",
              "      <th>col</th>\n",
              "      <th>val</th>\n",
              "    </tr>\n",
              "  </thead>\n",
              "  <tbody>\n",
              "    <tr>\n",
              "      <th>0</th>\n",
              "      <td>1</td>\n",
              "      <td>A</td>\n",
              "      <td>10</td>\n",
              "    </tr>\n",
              "    <tr>\n",
              "      <th>1</th>\n",
              "      <td>1</td>\n",
              "      <td>A</td>\n",
              "      <td>20</td>\n",
              "    </tr>\n",
              "    <tr>\n",
              "      <th>2</th>\n",
              "      <td>2</td>\n",
              "      <td>A</td>\n",
              "      <td>30</td>\n",
              "    </tr>\n",
              "    <tr>\n",
              "      <th>3</th>\n",
              "      <td>2</td>\n",
              "      <td>B</td>\n",
              "      <td>40</td>\n",
              "    </tr>\n",
              "  </tbody>\n",
              "</table>\n",
              "</div>"
            ],
            "text/plain": [
              "  ix col  val\n",
              "0  1   A   10\n",
              "1  1   A   20\n",
              "2  2   A   30\n",
              "3  2   B   40"
            ]
          },
          "metadata": {
            "tags": []
          },
          "execution_count": 36
        }
      ]
    },
    {
      "cell_type": "code",
      "metadata": {
        "colab_type": "code",
        "id": "7pKYZMEHQk5I",
        "colab": {
          "base_uri": "https://localhost:8080/",
          "height": 142
        },
        "outputId": "79b3a7d0-82ba-45a2-b790-e94b7b32e521"
      },
      "source": [
        "df.pivot_table(index='ix', columns='col', values='val', aggfunc='sum')"
      ],
      "execution_count": null,
      "outputs": [
        {
          "output_type": "execute_result",
          "data": {
            "text/html": [
              "<div>\n",
              "<style scoped>\n",
              "    .dataframe tbody tr th:only-of-type {\n",
              "        vertical-align: middle;\n",
              "    }\n",
              "\n",
              "    .dataframe tbody tr th {\n",
              "        vertical-align: top;\n",
              "    }\n",
              "\n",
              "    .dataframe thead th {\n",
              "        text-align: right;\n",
              "    }\n",
              "</style>\n",
              "<table border=\"1\" class=\"dataframe\">\n",
              "  <thead>\n",
              "    <tr style=\"text-align: right;\">\n",
              "      <th>col</th>\n",
              "      <th>A</th>\n",
              "      <th>B</th>\n",
              "    </tr>\n",
              "    <tr>\n",
              "      <th>ix</th>\n",
              "      <th></th>\n",
              "      <th></th>\n",
              "    </tr>\n",
              "  </thead>\n",
              "  <tbody>\n",
              "    <tr>\n",
              "      <th>1</th>\n",
              "      <td>30.0</td>\n",
              "      <td>NaN</td>\n",
              "    </tr>\n",
              "    <tr>\n",
              "      <th>2</th>\n",
              "      <td>30.0</td>\n",
              "      <td>40.0</td>\n",
              "    </tr>\n",
              "  </tbody>\n",
              "</table>\n",
              "</div>"
            ],
            "text/plain": [
              "col     A     B\n",
              "ix             \n",
              "1    30.0   NaN\n",
              "2    30.0  40.0"
            ]
          },
          "metadata": {
            "tags": []
          },
          "execution_count": 37
        }
      ]
    },
    {
      "cell_type": "code",
      "metadata": {
        "colab_type": "code",
        "id": "rGn3HeuuvrgC",
        "colab": {
          "base_uri": "https://localhost:8080/",
          "height": 266
        },
        "outputId": "ec51e3ed-307d-4267-acb4-dc043b35dac9"
      },
      "source": [
        "import pandas as pd\n",
        "\n",
        "data = [\n",
        "  ['2013-01', 'KT', 50.30],\n",
        "  ['2013-01', 'KT', 10.09],\n",
        "  ['2013-02', 'KT', 69.60],\n",
        "  ['2013-03', 'KT', 64.38],\n",
        "  ['2013-01', 'SKT', 52.77],\n",
        "  ['2013-02', 'SKT', 95.23],\n",
        "  ['2013-03', 'SKT', 84.20],\n",
        "]\n",
        "\n",
        "df = pd.DataFrame(data, columns=['month', 'corp', 'ad_exp'])\n",
        "df"
      ],
      "execution_count": null,
      "outputs": [
        {
          "output_type": "execute_result",
          "data": {
            "text/html": [
              "<div>\n",
              "<style scoped>\n",
              "    .dataframe tbody tr th:only-of-type {\n",
              "        vertical-align: middle;\n",
              "    }\n",
              "\n",
              "    .dataframe tbody tr th {\n",
              "        vertical-align: top;\n",
              "    }\n",
              "\n",
              "    .dataframe thead th {\n",
              "        text-align: right;\n",
              "    }\n",
              "</style>\n",
              "<table border=\"1\" class=\"dataframe\">\n",
              "  <thead>\n",
              "    <tr style=\"text-align: right;\">\n",
              "      <th></th>\n",
              "      <th>month</th>\n",
              "      <th>corp</th>\n",
              "      <th>ad_exp</th>\n",
              "    </tr>\n",
              "  </thead>\n",
              "  <tbody>\n",
              "    <tr>\n",
              "      <th>0</th>\n",
              "      <td>2013-01</td>\n",
              "      <td>KT</td>\n",
              "      <td>50.30</td>\n",
              "    </tr>\n",
              "    <tr>\n",
              "      <th>1</th>\n",
              "      <td>2013-01</td>\n",
              "      <td>KT</td>\n",
              "      <td>10.09</td>\n",
              "    </tr>\n",
              "    <tr>\n",
              "      <th>2</th>\n",
              "      <td>2013-02</td>\n",
              "      <td>KT</td>\n",
              "      <td>69.60</td>\n",
              "    </tr>\n",
              "    <tr>\n",
              "      <th>3</th>\n",
              "      <td>2013-03</td>\n",
              "      <td>KT</td>\n",
              "      <td>64.38</td>\n",
              "    </tr>\n",
              "    <tr>\n",
              "      <th>4</th>\n",
              "      <td>2013-01</td>\n",
              "      <td>SKT</td>\n",
              "      <td>52.77</td>\n",
              "    </tr>\n",
              "    <tr>\n",
              "      <th>5</th>\n",
              "      <td>2013-02</td>\n",
              "      <td>SKT</td>\n",
              "      <td>95.23</td>\n",
              "    </tr>\n",
              "    <tr>\n",
              "      <th>6</th>\n",
              "      <td>2013-03</td>\n",
              "      <td>SKT</td>\n",
              "      <td>84.20</td>\n",
              "    </tr>\n",
              "  </tbody>\n",
              "</table>\n",
              "</div>"
            ],
            "text/plain": [
              "     month corp  ad_exp\n",
              "0  2013-01   KT   50.30\n",
              "1  2013-01   KT   10.09\n",
              "2  2013-02   KT   69.60\n",
              "3  2013-03   KT   64.38\n",
              "4  2013-01  SKT   52.77\n",
              "5  2013-02  SKT   95.23\n",
              "6  2013-03  SKT   84.20"
            ]
          },
          "metadata": {
            "tags": []
          },
          "execution_count": 38
        }
      ]
    },
    {
      "cell_type": "code",
      "metadata": {
        "colab_type": "code",
        "id": "S3TsRdlyvrgK",
        "colab": {
          "base_uri": "https://localhost:8080/",
          "height": 173
        },
        "outputId": "92bb4cac-c274-4734-8b87-db8cc8af828f"
      },
      "source": [
        "df.pivot_table( index='month', columns='corp', values='ad_exp' )"
      ],
      "execution_count": null,
      "outputs": [
        {
          "output_type": "execute_result",
          "data": {
            "text/html": [
              "<div>\n",
              "<style scoped>\n",
              "    .dataframe tbody tr th:only-of-type {\n",
              "        vertical-align: middle;\n",
              "    }\n",
              "\n",
              "    .dataframe tbody tr th {\n",
              "        vertical-align: top;\n",
              "    }\n",
              "\n",
              "    .dataframe thead th {\n",
              "        text-align: right;\n",
              "    }\n",
              "</style>\n",
              "<table border=\"1\" class=\"dataframe\">\n",
              "  <thead>\n",
              "    <tr style=\"text-align: right;\">\n",
              "      <th>corp</th>\n",
              "      <th>KT</th>\n",
              "      <th>SKT</th>\n",
              "    </tr>\n",
              "    <tr>\n",
              "      <th>month</th>\n",
              "      <th></th>\n",
              "      <th></th>\n",
              "    </tr>\n",
              "  </thead>\n",
              "  <tbody>\n",
              "    <tr>\n",
              "      <th>2013-01</th>\n",
              "      <td>30.195</td>\n",
              "      <td>52.77</td>\n",
              "    </tr>\n",
              "    <tr>\n",
              "      <th>2013-02</th>\n",
              "      <td>69.600</td>\n",
              "      <td>95.23</td>\n",
              "    </tr>\n",
              "    <tr>\n",
              "      <th>2013-03</th>\n",
              "      <td>64.380</td>\n",
              "      <td>84.20</td>\n",
              "    </tr>\n",
              "  </tbody>\n",
              "</table>\n",
              "</div>"
            ],
            "text/plain": [
              "corp         KT    SKT\n",
              "month                 \n",
              "2013-01  30.195  52.77\n",
              "2013-02  69.600  95.23\n",
              "2013-03  64.380  84.20"
            ]
          },
          "metadata": {
            "tags": []
          },
          "execution_count": 39
        }
      ]
    },
    {
      "cell_type": "code",
      "metadata": {
        "colab_type": "code",
        "id": "BWFCtdSdAn3x",
        "colab": {
          "base_uri": "https://localhost:8080/",
          "height": 173
        },
        "outputId": "e0bac19d-74d5-4a02-edc9-ca61d7dbe35b"
      },
      "source": [
        "df.pivot_table( index='month', columns='corp', values='ad_exp', aggfunc='sum')"
      ],
      "execution_count": null,
      "outputs": [
        {
          "output_type": "execute_result",
          "data": {
            "text/html": [
              "<div>\n",
              "<style scoped>\n",
              "    .dataframe tbody tr th:only-of-type {\n",
              "        vertical-align: middle;\n",
              "    }\n",
              "\n",
              "    .dataframe tbody tr th {\n",
              "        vertical-align: top;\n",
              "    }\n",
              "\n",
              "    .dataframe thead th {\n",
              "        text-align: right;\n",
              "    }\n",
              "</style>\n",
              "<table border=\"1\" class=\"dataframe\">\n",
              "  <thead>\n",
              "    <tr style=\"text-align: right;\">\n",
              "      <th>corp</th>\n",
              "      <th>KT</th>\n",
              "      <th>SKT</th>\n",
              "    </tr>\n",
              "    <tr>\n",
              "      <th>month</th>\n",
              "      <th></th>\n",
              "      <th></th>\n",
              "    </tr>\n",
              "  </thead>\n",
              "  <tbody>\n",
              "    <tr>\n",
              "      <th>2013-01</th>\n",
              "      <td>60.39</td>\n",
              "      <td>52.77</td>\n",
              "    </tr>\n",
              "    <tr>\n",
              "      <th>2013-02</th>\n",
              "      <td>69.60</td>\n",
              "      <td>95.23</td>\n",
              "    </tr>\n",
              "    <tr>\n",
              "      <th>2013-03</th>\n",
              "      <td>64.38</td>\n",
              "      <td>84.20</td>\n",
              "    </tr>\n",
              "  </tbody>\n",
              "</table>\n",
              "</div>"
            ],
            "text/plain": [
              "corp        KT    SKT\n",
              "month                \n",
              "2013-01  60.39  52.77\n",
              "2013-02  69.60  95.23\n",
              "2013-03  64.38  84.20"
            ]
          },
          "metadata": {
            "tags": []
          },
          "execution_count": 40
        }
      ]
    },
    {
      "cell_type": "code",
      "metadata": {
        "colab_type": "code",
        "id": "Z8ZPLuoj9ggZ",
        "colab": {
          "base_uri": "https://localhost:8080/",
          "height": 204
        },
        "outputId": "d98f04a4-3095-4283-ef62-e691d02d200d"
      },
      "source": [
        "df.pivot_table( index='month', columns='corp', values='ad_exp', aggfunc='sum', margins=True)"
      ],
      "execution_count": null,
      "outputs": [
        {
          "output_type": "execute_result",
          "data": {
            "text/html": [
              "<div>\n",
              "<style scoped>\n",
              "    .dataframe tbody tr th:only-of-type {\n",
              "        vertical-align: middle;\n",
              "    }\n",
              "\n",
              "    .dataframe tbody tr th {\n",
              "        vertical-align: top;\n",
              "    }\n",
              "\n",
              "    .dataframe thead th {\n",
              "        text-align: right;\n",
              "    }\n",
              "</style>\n",
              "<table border=\"1\" class=\"dataframe\">\n",
              "  <thead>\n",
              "    <tr style=\"text-align: right;\">\n",
              "      <th>corp</th>\n",
              "      <th>KT</th>\n",
              "      <th>SKT</th>\n",
              "      <th>All</th>\n",
              "    </tr>\n",
              "    <tr>\n",
              "      <th>month</th>\n",
              "      <th></th>\n",
              "      <th></th>\n",
              "      <th></th>\n",
              "    </tr>\n",
              "  </thead>\n",
              "  <tbody>\n",
              "    <tr>\n",
              "      <th>2013-01</th>\n",
              "      <td>60.39</td>\n",
              "      <td>52.77</td>\n",
              "      <td>113.16</td>\n",
              "    </tr>\n",
              "    <tr>\n",
              "      <th>2013-02</th>\n",
              "      <td>69.60</td>\n",
              "      <td>95.23</td>\n",
              "      <td>164.83</td>\n",
              "    </tr>\n",
              "    <tr>\n",
              "      <th>2013-03</th>\n",
              "      <td>64.38</td>\n",
              "      <td>84.20</td>\n",
              "      <td>148.58</td>\n",
              "    </tr>\n",
              "    <tr>\n",
              "      <th>All</th>\n",
              "      <td>194.37</td>\n",
              "      <td>232.20</td>\n",
              "      <td>426.57</td>\n",
              "    </tr>\n",
              "  </tbody>\n",
              "</table>\n",
              "</div>"
            ],
            "text/plain": [
              "corp         KT     SKT     All\n",
              "month                          \n",
              "2013-01   60.39   52.77  113.16\n",
              "2013-02   69.60   95.23  164.83\n",
              "2013-03   64.38   84.20  148.58\n",
              "All      194.37  232.20  426.57"
            ]
          },
          "metadata": {
            "tags": []
          },
          "execution_count": 41
        }
      ]
    }
  ]
}