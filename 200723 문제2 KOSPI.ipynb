{
 "cells": [
  {
   "cell_type": "code",
   "execution_count": 2,
   "metadata": {},
   "outputs": [],
   "source": [
    "import pandas as pd\n",
    "\n",
    "df_merge = []\n",
    "\n",
    "for i in range(1, 11):\n",
    "    url = 'https://finance.naver.com/sise/sise_market_sum.nhn?sosok=0&page=' + str(i)\n",
    "    df_list = pd.read_html(url,encoding='euc-kr')\n",
    "    df = df_list[1]\n",
    "    df = df.dropna(how='all')\n",
    "    df_merge.append(df)\n",
    "    \n",
    "merged = pd.concat(df_merge)\n",
    "merged\n",
    "merged.to_excel('KOSPI_500.xls')"
   ]
  },
  {
   "cell_type": "code",
   "execution_count": null,
   "metadata": {},
   "outputs": [],
   "source": []
  }
 ],
 "metadata": {
  "kernelspec": {
   "display_name": "Python 3",
   "language": "python",
   "name": "python3"
  },
  "language_info": {
   "codemirror_mode": {
    "name": "ipython",
    "version": 3
   },
   "file_extension": ".py",
   "mimetype": "text/x-python",
   "name": "python",
   "nbconvert_exporter": "python",
   "pygments_lexer": "ipython3",
   "version": "3.7.6"
  }
 },
 "nbformat": 4,
 "nbformat_minor": 4
}
