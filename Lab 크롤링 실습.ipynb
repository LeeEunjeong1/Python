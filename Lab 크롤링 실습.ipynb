{
 "cells": [
  {
   "cell_type": "code",
   "execution_count": 2,
   "metadata": {},
   "outputs": [],
   "source": [
    "import requests\n",
    "from bs4 import BeautifulSoup"
   ]
  },
  {
   "cell_type": "code",
   "execution_count": 7,
   "metadata": {},
   "outputs": [
    {
     "data": {
      "text/plain": [
       "\"\\n\\n\\n\\n\\n\\n\\n\\n<script language='javascript'>\\n\\nfunction main_tab(tab_title, pst, tab_cnt)\\n{\\n\\tfor(var i=0 ; i<tab_cnt ; i++)\\n\\t{\\n\\t\\tif (i == pst)\\n\\t\\t\\tdocument.getElementById(tab_title+'_title_tab_'+i).style.display = '';\\n\\t\\telse\\n\\t\\t\\tdocument.getElementById(tab_title+'_title_tab_'+i).style.display = 'none';\\n\\n\\n\\t\\tif (i == pst)\\n\\t\\t\\tdocument.getElementById(tab_title+'_tab_'+i).style.display = '';\\n\\t\\telse\\n\\t\\t\\tdocument.getElementById(tab_title+'_tab_'+i).style.display = 'none';\\n\\n\\t}\\n}\\n\\nfunction moveIndex(choiceTab) {\\n\\t\""
      ]
     },
     "execution_count": 7,
     "metadata": {},
     "output_type": "execute_result"
    }
   ],
   "source": [
    "r = requests.get('https://finance.naver.com/sise/')\n",
    "r.text[:500]"
   ]
  },
  {
   "cell_type": "code",
   "execution_count": 8,
   "metadata": {},
   "outputs": [],
   "source": [
    "soup = BeautifulSoup(r.text)"
   ]
  },
  {
   "cell_type": "code",
   "execution_count": 10,
   "metadata": {},
   "outputs": [
    {
     "data": {
      "text/plain": [
       "<span>메인 메뉴로 바로가기</span>"
      ]
     },
     "execution_count": 10,
     "metadata": {},
     "output_type": "execute_result"
    }
   ],
   "source": [
    "soup.find('span')"
   ]
  },
  {
   "cell_type": "code",
   "execution_count": 12,
   "metadata": {},
   "outputs": [
    {
     "data": {
      "text/plain": [
       "[<span>메인 메뉴로 바로가기</span>,\n",
       " <span>본문으로 바로가기</span>,\n",
       " <span class=\"blind\">네이버</span>,\n",
       " <span class=\"blind\">금융</span>,\n",
       " <span class=\"blind\">자동완성 펼치기</span>,\n",
       " <span class=\"blind\">검색</span>,\n",
       " <span class=\"tx\">금융 홈</span>,\n",
       " <span class=\"tx\">국내증시</span>,\n",
       " <span class=\"tx\">해외증시</span>,\n",
       " <span class=\"tx\">시장지표</span>]"
      ]
     },
     "execution_count": 12,
     "metadata": {},
     "output_type": "execute_result"
    }
   ],
   "source": [
    "soup.find_all('span')[:10]"
   ]
  },
  {
   "cell_type": "code",
   "execution_count": 45,
   "metadata": {},
   "outputs": [
    {
     "data": {
      "text/plain": [
       "<span class=\"num\" id=\"KOSPI_now\">2,201.19</span>"
      ]
     },
     "execution_count": 45,
     "metadata": {},
     "output_type": "execute_result"
    }
   ],
   "source": [
    "soup.find('span', attrs={'id':'KOSPI_now', 'class':'num'})"
   ]
  },
  {
   "cell_type": "code",
   "execution_count": 21,
   "metadata": {},
   "outputs": [
    {
     "data": {
      "text/plain": [
       "<span class=\"num\" id=\"KOSPI_now\">2,201.19</span>"
      ]
     },
     "execution_count": 21,
     "metadata": {},
     "output_type": "execute_result"
    }
   ],
   "source": [
    "span = soup.find(id='KOSPI_now')\n",
    "span"
   ]
  },
  {
   "cell_type": "code",
   "execution_count": 22,
   "metadata": {},
   "outputs": [
    {
     "data": {
      "text/plain": [
       "'2,201.19'"
      ]
     },
     "execution_count": 22,
     "metadata": {},
     "output_type": "execute_result"
    }
   ],
   "source": [
    "span.text"
   ]
  },
  {
   "cell_type": "code",
   "execution_count": 23,
   "metadata": {},
   "outputs": [
    {
     "data": {
      "text/plain": [
       "'2201.19'"
      ]
     },
     "execution_count": 23,
     "metadata": {},
     "output_type": "execute_result"
    }
   ],
   "source": [
    "span.text.replace(',', '')"
   ]
  },
  {
   "cell_type": "code",
   "execution_count": 24,
   "metadata": {},
   "outputs": [
    {
     "data": {
      "text/plain": [
       "2201.19"
      ]
     },
     "execution_count": 24,
     "metadata": {},
     "output_type": "execute_result"
    }
   ],
   "source": [
    "float(span.text.replace(',', ''))"
   ]
  },
  {
   "cell_type": "code",
   "execution_count": 25,
   "metadata": {},
   "outputs": [
    {
     "data": {
      "text/plain": [
       "2201.19"
      ]
     },
     "execution_count": 25,
     "metadata": {},
     "output_type": "execute_result"
    }
   ],
   "source": [
    "import requests\n",
    "from bs4 import BeautifulSoup\n",
    "\n",
    "r = requests.get('https://finance.naver.com/sise/')\n",
    "soup = BeautifulSoup(r.text)\n",
    "span = soup.find(id='KOSPI_now')\n",
    "float(span.text.replace(',', ''))"
   ]
  },
  {
   "cell_type": "code",
   "execution_count": 26,
   "metadata": {},
   "outputs": [],
   "source": [
    "# 함수로 만들기 \n",
    "def get_factor(id):\n",
    "    r = requests.get('https://finance.naver.com/sise/')\n",
    "    soup = BeautifulSoup(r.text)\n",
    "    span = soup.find(id=id)\n",
    "    return float(span.text.replace(',', ''))"
   ]
  },
  {
   "cell_type": "code",
   "execution_count": 27,
   "metadata": {},
   "outputs": [
    {
     "data": {
      "text/plain": [
       "2201.19"
      ]
     },
     "execution_count": 27,
     "metadata": {},
     "output_type": "execute_result"
    }
   ],
   "source": [
    "get_factor('KOSPI_now')"
   ]
  },
  {
   "cell_type": "code",
   "execution_count": 28,
   "metadata": {},
   "outputs": [
    {
     "data": {
      "text/plain": [
       "783.22"
      ]
     },
     "execution_count": 28,
     "metadata": {},
     "output_type": "execute_result"
    }
   ],
   "source": [
    "get_factor('KOSDAQ_now')"
   ]
  },
  {
   "cell_type": "code",
   "execution_count": 30,
   "metadata": {},
   "outputs": [
    {
     "data": {
      "text/plain": [
       "291.57"
      ]
     },
     "execution_count": 30,
     "metadata": {},
     "output_type": "execute_result"
    }
   ],
   "source": [
    "get_factor('KPI200_now')"
   ]
  },
  {
   "cell_type": "code",
   "execution_count": 32,
   "metadata": {},
   "outputs": [
    {
     "ename": "ValueError",
     "evalue": "could not convert string to float: '\\n17.43 +0.80%상승\\n'",
     "output_type": "error",
     "traceback": [
      "\u001b[1;31m---------------------------------------------------------------------------\u001b[0m",
      "\u001b[1;31mValueError\u001b[0m                                Traceback (most recent call last)",
      "\u001b[1;32m<ipython-input-32-de8f0193834d>\u001b[0m in \u001b[0;36m<module>\u001b[1;34m\u001b[0m\n\u001b[1;32m----> 1\u001b[1;33m \u001b[0mget_factor\u001b[0m\u001b[1;33m(\u001b[0m\u001b[1;34m'KOSPI_change'\u001b[0m\u001b[1;33m)\u001b[0m\u001b[1;33m\u001b[0m\u001b[1;33m\u001b[0m\u001b[0m\n\u001b[0m",
      "\u001b[1;32m<ipython-input-26-b8bfccf0a748>\u001b[0m in \u001b[0;36mget_factor\u001b[1;34m(id)\u001b[0m\n\u001b[0;32m      3\u001b[0m     \u001b[0msoup\u001b[0m \u001b[1;33m=\u001b[0m \u001b[0mBeautifulSoup\u001b[0m\u001b[1;33m(\u001b[0m\u001b[0mr\u001b[0m\u001b[1;33m.\u001b[0m\u001b[0mtext\u001b[0m\u001b[1;33m)\u001b[0m\u001b[1;33m\u001b[0m\u001b[1;33m\u001b[0m\u001b[0m\n\u001b[0;32m      4\u001b[0m     \u001b[0mspan\u001b[0m \u001b[1;33m=\u001b[0m \u001b[0msoup\u001b[0m\u001b[1;33m.\u001b[0m\u001b[0mfind\u001b[0m\u001b[1;33m(\u001b[0m\u001b[0mid\u001b[0m\u001b[1;33m=\u001b[0m\u001b[0mid\u001b[0m\u001b[1;33m)\u001b[0m\u001b[1;33m\u001b[0m\u001b[1;33m\u001b[0m\u001b[0m\n\u001b[1;32m----> 5\u001b[1;33m     \u001b[1;32mreturn\u001b[0m \u001b[0mfloat\u001b[0m\u001b[1;33m(\u001b[0m\u001b[0mspan\u001b[0m\u001b[1;33m.\u001b[0m\u001b[0mtext\u001b[0m\u001b[1;33m.\u001b[0m\u001b[0mreplace\u001b[0m\u001b[1;33m(\u001b[0m\u001b[1;34m','\u001b[0m\u001b[1;33m,\u001b[0m \u001b[1;34m''\u001b[0m\u001b[1;33m)\u001b[0m\u001b[1;33m)\u001b[0m\u001b[1;33m\u001b[0m\u001b[1;33m\u001b[0m\u001b[0m\n\u001b[0m",
      "\u001b[1;31mValueError\u001b[0m: could not convert string to float: '\\n17.43 +0.80%상승\\n'"
     ]
    }
   ],
   "source": [
    "get_factor('KOSPI_change') # \\n17.43 +0.80%상승\\n"
   ]
  },
  {
   "cell_type": "code",
   "execution_count": 48,
   "metadata": {},
   "outputs": [],
   "source": [
    "# 함수로 만들기 (추가 처리기능)\n",
    "def get_factor(id):\n",
    "    r = requests.get('https://finance.naver.com/sise/')\n",
    "    soup = BeautifulSoup(r.text)\n",
    "    span = soup.find(id=id)\n",
    "    # span.text == \\n17.43 +0.80%상승\\n\n",
    "    return float(span.text.replace(',','').split()[0])"
   ]
  },
  {
   "cell_type": "code",
   "execution_count": 49,
   "metadata": {},
   "outputs": [
    {
     "data": {
      "text/plain": [
       "2201.19"
      ]
     },
     "execution_count": 49,
     "metadata": {},
     "output_type": "execute_result"
    }
   ],
   "source": [
    "get_factor('KOSPI_now')"
   ]
  },
  {
   "cell_type": "code",
   "execution_count": 39,
   "metadata": {},
   "outputs": [
    {
     "data": {
      "text/plain": [
       "['17.43', '+0.80%상승']"
      ]
     },
     "execution_count": 39,
     "metadata": {},
     "output_type": "execute_result"
    }
   ],
   "source": [
    "s = \"\\n17.43 +0.80%상승\\n\"\n",
    "s.split()"
   ]
  },
  {
   "cell_type": "code",
   "execution_count": 41,
   "metadata": {},
   "outputs": [
    {
     "data": {
      "text/plain": [
       "17.43"
      ]
     },
     "execution_count": 41,
     "metadata": {},
     "output_type": "execute_result"
    }
   ],
   "source": [
    "get_factor('KOSPI_change')"
   ]
  },
  {
   "cell_type": "code",
   "execution_count": 44,
   "metadata": {},
   "outputs": [
    {
     "data": {
      "text/plain": [
       "['17.43']"
      ]
     },
     "execution_count": 44,
     "metadata": {},
     "output_type": "execute_result"
    }
   ],
   "source": [
    "s = \" 17.43  \\n  \"\n",
    "s.split()"
   ]
  },
  {
   "cell_type": "markdown",
   "metadata": {},
   "source": [
    "## 오픈API"
   ]
  },
  {
   "cell_type": "code",
   "execution_count": 59,
   "metadata": {},
   "outputs": [
    {
     "data": {
      "text/plain": [
       "'{\"result\":{\"prdt_div\":\"F\",\"total_count\":\"9\",\"max_page_no\":\"1\",\"now_page_no\":\"1\",\"err_cd\":\"000\",\"err_msg\":\"정상\",\"baseList\":[{\"dcls_month\":\"202004\",\"fin_co_no\":\"0010172\",\"kor_co_nm\":\"브이아이자산운용 주식회사\",\"dcls_chrg_man\":\"조희철\",\"homp_url\":\"http://www.viamc.kr\",\"cal_tel\":\"7272721\"},{\"dcls_month\":\"202004\",\"fin_co_no\":\"0010179\",\"kor_co_nm\":\"대신자산운용\",\"dcls_chrg_man\":\"이현정팀장\",\"homp_url\":\"asset.daishin.com\",\"cal_tel\":\"027693251\"},{\"dcls_month\":\"202004\",\"fin_co_no\":\"0010190\",\"kor_co_nm\":\"유진자산운용\",\"dcls_chrg_man\":\"이수민\",\"homp_url\":\"fund.eugenefn.com\",\"cal_tel\":\"0221293300\"},{\"dcls_month\":\"202004\",\"fin_co_no\":\"0010203\",\"kor_co_nm\":\"우리글로벌자산운용 주식회사\",\"dcls_chrg_man\":\"김세진\",\"homp_url\":\"www.wooriglobalam.com\",\"cal_tel\":\"0220719900\"},{\"dcls_month\":\"202004\",\"fin_co_no\":\"0010211\",\"kor_co_nm\":\"유리자산운용\",\"dcls_chrg_man\":\"리테일마케팅본부 홍희선 02-2168-7934\",\"homp_url\":\"http://www.yurieasset.co.kr\",\"cal_tel\":\"21687900\"},{\"dcls_month\":\"202004\",\"fin_co_no\":\"0010215\",\"kor_co_nm\":\"플러스자산운용\",\"dcls_chrg_man\":\"상품전략팀 박정은 02-3787-2745\",\"homp_'"
      ]
     },
     "execution_count": 59,
     "metadata": {},
     "output_type": "execute_result"
    }
   ],
   "source": [
    "import pandas as pd\n",
    "import requests\n",
    "import json\n",
    "\n",
    "auth = '977d1fb9d98534e15ed4e9ab42453bbe'\n",
    "url = f\"http://finlife.fss.or.kr/finlifeapi/companySearch.json?auth={auth}&topFinGrpNo=060000&pageNo=1\"\n",
    "\n",
    "r = requests.get(url)\n",
    "r.text[:1000]"
   ]
  },
  {
   "cell_type": "code",
   "execution_count": 64,
   "metadata": {
    "scrolled": true
   },
   "outputs": [
    {
     "data": {
      "text/html": [
       "<div>\n",
       "<style scoped>\n",
       "    .dataframe tbody tr th:only-of-type {\n",
       "        vertical-align: middle;\n",
       "    }\n",
       "\n",
       "    .dataframe tbody tr th {\n",
       "        vertical-align: top;\n",
       "    }\n",
       "\n",
       "    .dataframe thead th {\n",
       "        text-align: right;\n",
       "    }\n",
       "</style>\n",
       "<table border=\"1\" class=\"dataframe\">\n",
       "  <thead>\n",
       "    <tr style=\"text-align: right;\">\n",
       "      <th></th>\n",
       "      <th>dcls_month</th>\n",
       "      <th>fin_co_no</th>\n",
       "      <th>kor_co_nm</th>\n",
       "      <th>dcls_chrg_man</th>\n",
       "      <th>homp_url</th>\n",
       "      <th>cal_tel</th>\n",
       "    </tr>\n",
       "  </thead>\n",
       "  <tbody>\n",
       "    <tr>\n",
       "      <th>0</th>\n",
       "      <td>202004</td>\n",
       "      <td>0010172</td>\n",
       "      <td>브이아이자산운용 주식회사</td>\n",
       "      <td>조희철</td>\n",
       "      <td>http://www.viamc.kr</td>\n",
       "      <td>7272721</td>\n",
       "    </tr>\n",
       "    <tr>\n",
       "      <th>1</th>\n",
       "      <td>202004</td>\n",
       "      <td>0010179</td>\n",
       "      <td>대신자산운용</td>\n",
       "      <td>이현정팀장</td>\n",
       "      <td>asset.daishin.com</td>\n",
       "      <td>027693251</td>\n",
       "    </tr>\n",
       "    <tr>\n",
       "      <th>2</th>\n",
       "      <td>202004</td>\n",
       "      <td>0010190</td>\n",
       "      <td>유진자산운용</td>\n",
       "      <td>이수민</td>\n",
       "      <td>fund.eugenefn.com</td>\n",
       "      <td>0221293300</td>\n",
       "    </tr>\n",
       "    <tr>\n",
       "      <th>3</th>\n",
       "      <td>202004</td>\n",
       "      <td>0010203</td>\n",
       "      <td>우리글로벌자산운용 주식회사</td>\n",
       "      <td>김세진</td>\n",
       "      <td>www.wooriglobalam.com</td>\n",
       "      <td>0220719900</td>\n",
       "    </tr>\n",
       "    <tr>\n",
       "      <th>4</th>\n",
       "      <td>202004</td>\n",
       "      <td>0010211</td>\n",
       "      <td>유리자산운용</td>\n",
       "      <td>리테일마케팅본부 홍희선 02-2168-7934</td>\n",
       "      <td>http://www.yurieasset.co.kr</td>\n",
       "      <td>21687900</td>\n",
       "    </tr>\n",
       "    <tr>\n",
       "      <th>5</th>\n",
       "      <td>202004</td>\n",
       "      <td>0010215</td>\n",
       "      <td>플러스자산운용</td>\n",
       "      <td>상품전략팀 박정은 02-3787-2745</td>\n",
       "      <td>http://www.plusasset.com</td>\n",
       "      <td>237872700</td>\n",
       "    </tr>\n",
       "    <tr>\n",
       "      <th>6</th>\n",
       "      <td>202004</td>\n",
       "      <td>0011910</td>\n",
       "      <td>현대인베스트먼트자산운용</td>\n",
       "      <td>고건화</td>\n",
       "      <td>www.hdfund.co.kr</td>\n",
       "      <td>0262767000</td>\n",
       "    </tr>\n",
       "    <tr>\n",
       "      <th>7</th>\n",
       "      <td>202004</td>\n",
       "      <td>0011997</td>\n",
       "      <td>비엔케이자산운용</td>\n",
       "      <td>김현재</td>\n",
       "      <td>www.bnkasset.co.kr</td>\n",
       "      <td>0269101100</td>\n",
       "    </tr>\n",
       "    <tr>\n",
       "      <th>8</th>\n",
       "      <td>202004</td>\n",
       "      <td>0012245</td>\n",
       "      <td>현대자산운용</td>\n",
       "      <td>이여진</td>\n",
       "      <td>www.hyundaiam.com</td>\n",
       "      <td>0220900500</td>\n",
       "    </tr>\n",
       "  </tbody>\n",
       "</table>\n",
       "</div>"
      ],
      "text/plain": [
       "  dcls_month fin_co_no       kor_co_nm              dcls_chrg_man  \\\n",
       "0     202004   0010172   브이아이자산운용 주식회사                        조희철   \n",
       "1     202004   0010179          대신자산운용                      이현정팀장   \n",
       "2     202004   0010190          유진자산운용                        이수민   \n",
       "3     202004   0010203  우리글로벌자산운용 주식회사                        김세진   \n",
       "4     202004   0010211          유리자산운용  리테일마케팅본부 홍희선 02-2168-7934   \n",
       "5     202004   0010215         플러스자산운용     상품전략팀 박정은 02-3787-2745   \n",
       "6     202004   0011910    현대인베스트먼트자산운용                        고건화   \n",
       "7     202004   0011997        비엔케이자산운용                        김현재   \n",
       "8     202004   0012245          현대자산운용                        이여진   \n",
       "\n",
       "                      homp_url     cal_tel  \n",
       "0          http://www.viamc.kr     7272721  \n",
       "1            asset.daishin.com   027693251  \n",
       "2            fund.eugenefn.com  0221293300  \n",
       "3        www.wooriglobalam.com  0220719900  \n",
       "4  http://www.yurieasset.co.kr    21687900  \n",
       "5     http://www.plusasset.com   237872700  \n",
       "6             www.hdfund.co.kr  0262767000  \n",
       "7           www.bnkasset.co.kr  0269101100  \n",
       "8            www.hyundaiam.com  0220900500  "
      ]
     },
     "execution_count": 64,
     "metadata": {},
     "output_type": "execute_result"
    }
   ],
   "source": [
    "import pandas as pd\n",
    "import json\n",
    "\n",
    "jo = json.loads(r.text)\n",
    "df = pd.json_normalize(jo['result']['baseList'])\n",
    "df"
   ]
  },
  {
   "cell_type": "code",
   "execution_count": 65,
   "metadata": {},
   "outputs": [],
   "source": [
    "df.to_excel('운용사목록.xls')"
   ]
  },
  {
   "cell_type": "markdown",
   "metadata": {},
   "source": [
    "## pd.read_html()"
   ]
  },
  {
   "cell_type": "code",
   "execution_count": 71,
   "metadata": {},
   "outputs": [],
   "source": [
    "url = 'https://finance.naver.com/sise/sise_market_sum.nhn?sosok=0&page=1'\n",
    "\n",
    "df_list = pd.read_html(url,encoding='euc-kr')"
   ]
  },
  {
   "cell_type": "code",
   "execution_count": 72,
   "metadata": {},
   "outputs": [
    {
     "data": {
      "text/plain": [
       "3"
      ]
     },
     "execution_count": 72,
     "metadata": {},
     "output_type": "execute_result"
    }
   ],
   "source": [
    "len(df_list)"
   ]
  },
  {
   "cell_type": "code",
   "execution_count": 73,
   "metadata": {},
   "outputs": [
    {
     "data": {
      "text/html": [
       "<div>\n",
       "<style scoped>\n",
       "    .dataframe tbody tr th:only-of-type {\n",
       "        vertical-align: middle;\n",
       "    }\n",
       "\n",
       "    .dataframe tbody tr th {\n",
       "        vertical-align: top;\n",
       "    }\n",
       "\n",
       "    .dataframe thead th {\n",
       "        text-align: right;\n",
       "    }\n",
       "</style>\n",
       "<table border=\"1\" class=\"dataframe\">\n",
       "  <thead>\n",
       "    <tr style=\"text-align: right;\">\n",
       "      <th></th>\n",
       "      <th>0</th>\n",
       "      <th>1</th>\n",
       "      <th>2</th>\n",
       "      <th>3</th>\n",
       "      <th>4</th>\n",
       "      <th>5</th>\n",
       "    </tr>\n",
       "  </thead>\n",
       "  <tbody>\n",
       "    <tr>\n",
       "      <th>0</th>\n",
       "      <td>거래량</td>\n",
       "      <td>매수호가</td>\n",
       "      <td>거래대금(백만)</td>\n",
       "      <td>시가총액(억)</td>\n",
       "      <td>영업이익(억)</td>\n",
       "      <td>PER(배)</td>\n",
       "    </tr>\n",
       "    <tr>\n",
       "      <th>1</th>\n",
       "      <td>시가</td>\n",
       "      <td>매도호가</td>\n",
       "      <td>전일거래량</td>\n",
       "      <td>자산총계(억)</td>\n",
       "      <td>영업이익증가율</td>\n",
       "      <td>ROE(%)</td>\n",
       "    </tr>\n",
       "    <tr>\n",
       "      <th>2</th>\n",
       "      <td>고가</td>\n",
       "      <td>매수총잔량</td>\n",
       "      <td>외국인비율</td>\n",
       "      <td>부채총계(억)</td>\n",
       "      <td>당기순이익(억)</td>\n",
       "      <td>ROA(%)</td>\n",
       "    </tr>\n",
       "    <tr>\n",
       "      <th>3</th>\n",
       "      <td>저가</td>\n",
       "      <td>매도총잔량</td>\n",
       "      <td>상장주식수(천주)</td>\n",
       "      <td>매출액(억)</td>\n",
       "      <td>주당순이익(원)</td>\n",
       "      <td>PBR(배)</td>\n",
       "    </tr>\n",
       "    <tr>\n",
       "      <th>4</th>\n",
       "      <td>NaN</td>\n",
       "      <td>NaN</td>\n",
       "      <td>NaN</td>\n",
       "      <td>매출액증가율</td>\n",
       "      <td>보통주배당금(원)</td>\n",
       "      <td>유보율(%)</td>\n",
       "    </tr>\n",
       "  </tbody>\n",
       "</table>\n",
       "</div>"
      ],
      "text/plain": [
       "     0      1          2        3          4       5\n",
       "0  거래량   매수호가   거래대금(백만)  시가총액(억)    영업이익(억)  PER(배)\n",
       "1   시가   매도호가      전일거래량  자산총계(억)    영업이익증가율  ROE(%)\n",
       "2   고가  매수총잔량      외국인비율  부채총계(억)   당기순이익(억)  ROA(%)\n",
       "3   저가  매도총잔량  상장주식수(천주)   매출액(억)   주당순이익(원)  PBR(배)\n",
       "4  NaN    NaN        NaN   매출액증가율  보통주배당금(원)  유보율(%)"
      ]
     },
     "execution_count": 73,
     "metadata": {},
     "output_type": "execute_result"
    }
   ],
   "source": [
    "df_list[0]"
   ]
  },
  {
   "cell_type": "markdown",
   "metadata": {},
   "source": [
    "## 인코딩 \n",
    "* EUC-KR 완성형 한글\n",
    "* UTF-8 유니코드\n"
   ]
  },
  {
   "cell_type": "code",
   "execution_count": 76,
   "metadata": {},
   "outputs": [
    {
     "data": {
      "text/html": [
       "<div>\n",
       "<style scoped>\n",
       "    .dataframe tbody tr th:only-of-type {\n",
       "        vertical-align: middle;\n",
       "    }\n",
       "\n",
       "    .dataframe tbody tr th {\n",
       "        vertical-align: top;\n",
       "    }\n",
       "\n",
       "    .dataframe thead th {\n",
       "        text-align: right;\n",
       "    }\n",
       "</style>\n",
       "<table border=\"1\" class=\"dataframe\">\n",
       "  <thead>\n",
       "    <tr style=\"text-align: right;\">\n",
       "      <th></th>\n",
       "      <th>N</th>\n",
       "      <th>종목명</th>\n",
       "      <th>현재가</th>\n",
       "      <th>전일비</th>\n",
       "      <th>등락률</th>\n",
       "      <th>액면가</th>\n",
       "      <th>시가총액</th>\n",
       "      <th>상장주식수</th>\n",
       "      <th>외국인비율</th>\n",
       "      <th>거래량</th>\n",
       "      <th>PER</th>\n",
       "      <th>ROE</th>\n",
       "      <th>토론실</th>\n",
       "    </tr>\n",
       "  </thead>\n",
       "  <tbody>\n",
       "    <tr>\n",
       "      <th>0</th>\n",
       "      <td>NaN</td>\n",
       "      <td>NaN</td>\n",
       "      <td>NaN</td>\n",
       "      <td>NaN</td>\n",
       "      <td>NaN</td>\n",
       "      <td>NaN</td>\n",
       "      <td>NaN</td>\n",
       "      <td>NaN</td>\n",
       "      <td>NaN</td>\n",
       "      <td>NaN</td>\n",
       "      <td>NaN</td>\n",
       "      <td>NaN</td>\n",
       "      <td>NaN</td>\n",
       "    </tr>\n",
       "    <tr>\n",
       "      <th>1</th>\n",
       "      <td>1.0</td>\n",
       "      <td>삼성전자</td>\n",
       "      <td>54400.0</td>\n",
       "      <td>600.0</td>\n",
       "      <td>+1.12%</td>\n",
       "      <td>100.0</td>\n",
       "      <td>3247562.0</td>\n",
       "      <td>5969783.0</td>\n",
       "      <td>55.34</td>\n",
       "      <td>10041347.0</td>\n",
       "      <td>17.36</td>\n",
       "      <td>8.69</td>\n",
       "      <td>NaN</td>\n",
       "    </tr>\n",
       "    <tr>\n",
       "      <th>2</th>\n",
       "      <td>2.0</td>\n",
       "      <td>SK하이닉스</td>\n",
       "      <td>82900.0</td>\n",
       "      <td>200.0</td>\n",
       "      <td>+0.24%</td>\n",
       "      <td>5000.0</td>\n",
       "      <td>603514.0</td>\n",
       "      <td>728002.0</td>\n",
       "      <td>48.28</td>\n",
       "      <td>1560780.0</td>\n",
       "      <td>38.72</td>\n",
       "      <td>4.25</td>\n",
       "      <td>NaN</td>\n",
       "    </tr>\n",
       "    <tr>\n",
       "      <th>3</th>\n",
       "      <td>3.0</td>\n",
       "      <td>삼성바이오로직스</td>\n",
       "      <td>743000.0</td>\n",
       "      <td>11000.0</td>\n",
       "      <td>+1.50%</td>\n",
       "      <td>2500.0</td>\n",
       "      <td>491606.0</td>\n",
       "      <td>66165.0</td>\n",
       "      <td>10.23</td>\n",
       "      <td>144567.0</td>\n",
       "      <td>176.82</td>\n",
       "      <td>4.77</td>\n",
       "      <td>NaN</td>\n",
       "    </tr>\n",
       "    <tr>\n",
       "      <th>4</th>\n",
       "      <td>4.0</td>\n",
       "      <td>NAVER</td>\n",
       "      <td>276000.0</td>\n",
       "      <td>3000.0</td>\n",
       "      <td>+1.10%</td>\n",
       "      <td>100.0</td>\n",
       "      <td>453367.0</td>\n",
       "      <td>164263.0</td>\n",
       "      <td>55.11</td>\n",
       "      <td>920470.0</td>\n",
       "      <td>71.26</td>\n",
       "      <td>10.56</td>\n",
       "      <td>NaN</td>\n",
       "    </tr>\n",
       "    <tr>\n",
       "      <th>5</th>\n",
       "      <td>5.0</td>\n",
       "      <td>셀트리온</td>\n",
       "      <td>328000.0</td>\n",
       "      <td>13000.0</td>\n",
       "      <td>+4.13%</td>\n",
       "      <td>1000.0</td>\n",
       "      <td>442601.0</td>\n",
       "      <td>134939.0</td>\n",
       "      <td>21.16</td>\n",
       "      <td>1223675.0</td>\n",
       "      <td>130.47</td>\n",
       "      <td>11.19</td>\n",
       "      <td>NaN</td>\n",
       "    </tr>\n",
       "    <tr>\n",
       "      <th>6</th>\n",
       "      <td>NaN</td>\n",
       "      <td>NaN</td>\n",
       "      <td>NaN</td>\n",
       "      <td>NaN</td>\n",
       "      <td>NaN</td>\n",
       "      <td>NaN</td>\n",
       "      <td>NaN</td>\n",
       "      <td>NaN</td>\n",
       "      <td>NaN</td>\n",
       "      <td>NaN</td>\n",
       "      <td>NaN</td>\n",
       "      <td>NaN</td>\n",
       "      <td>NaN</td>\n",
       "    </tr>\n",
       "    <tr>\n",
       "      <th>7</th>\n",
       "      <td>NaN</td>\n",
       "      <td>NaN</td>\n",
       "      <td>NaN</td>\n",
       "      <td>NaN</td>\n",
       "      <td>NaN</td>\n",
       "      <td>NaN</td>\n",
       "      <td>NaN</td>\n",
       "      <td>NaN</td>\n",
       "      <td>NaN</td>\n",
       "      <td>NaN</td>\n",
       "      <td>NaN</td>\n",
       "      <td>NaN</td>\n",
       "      <td>NaN</td>\n",
       "    </tr>\n",
       "    <tr>\n",
       "      <th>8</th>\n",
       "      <td>NaN</td>\n",
       "      <td>NaN</td>\n",
       "      <td>NaN</td>\n",
       "      <td>NaN</td>\n",
       "      <td>NaN</td>\n",
       "      <td>NaN</td>\n",
       "      <td>NaN</td>\n",
       "      <td>NaN</td>\n",
       "      <td>NaN</td>\n",
       "      <td>NaN</td>\n",
       "      <td>NaN</td>\n",
       "      <td>NaN</td>\n",
       "      <td>NaN</td>\n",
       "    </tr>\n",
       "    <tr>\n",
       "      <th>9</th>\n",
       "      <td>6.0</td>\n",
       "      <td>삼성전자우</td>\n",
       "      <td>47100.0</td>\n",
       "      <td>50.0</td>\n",
       "      <td>+0.11%</td>\n",
       "      <td>100.0</td>\n",
       "      <td>387580.0</td>\n",
       "      <td>822887.0</td>\n",
       "      <td>88.10</td>\n",
       "      <td>1267305.0</td>\n",
       "      <td>15.03</td>\n",
       "      <td>NaN</td>\n",
       "      <td>NaN</td>\n",
       "    </tr>\n",
       "  </tbody>\n",
       "</table>\n",
       "</div>"
      ],
      "text/plain": [
       "     N       종목명       현재가      전일비     등락률     액면가       시가총액      상장주식수  \\\n",
       "0  NaN       NaN       NaN      NaN     NaN     NaN        NaN        NaN   \n",
       "1  1.0      삼성전자   54400.0    600.0  +1.12%   100.0  3247562.0  5969783.0   \n",
       "2  2.0    SK하이닉스   82900.0    200.0  +0.24%  5000.0   603514.0   728002.0   \n",
       "3  3.0  삼성바이오로직스  743000.0  11000.0  +1.50%  2500.0   491606.0    66165.0   \n",
       "4  4.0     NAVER  276000.0   3000.0  +1.10%   100.0   453367.0   164263.0   \n",
       "5  5.0      셀트리온  328000.0  13000.0  +4.13%  1000.0   442601.0   134939.0   \n",
       "6  NaN       NaN       NaN      NaN     NaN     NaN        NaN        NaN   \n",
       "7  NaN       NaN       NaN      NaN     NaN     NaN        NaN        NaN   \n",
       "8  NaN       NaN       NaN      NaN     NaN     NaN        NaN        NaN   \n",
       "9  6.0     삼성전자우   47100.0     50.0  +0.11%   100.0   387580.0   822887.0   \n",
       "\n",
       "   외국인비율         거래량     PER    ROE  토론실  \n",
       "0    NaN         NaN     NaN    NaN  NaN  \n",
       "1  55.34  10041347.0   17.36   8.69  NaN  \n",
       "2  48.28   1560780.0   38.72   4.25  NaN  \n",
       "3  10.23    144567.0  176.82   4.77  NaN  \n",
       "4  55.11    920470.0   71.26  10.56  NaN  \n",
       "5  21.16   1223675.0  130.47  11.19  NaN  \n",
       "6    NaN         NaN     NaN    NaN  NaN  \n",
       "7    NaN         NaN     NaN    NaN  NaN  \n",
       "8    NaN         NaN     NaN    NaN  NaN  \n",
       "9  88.10   1267305.0   15.03    NaN  NaN  "
      ]
     },
     "execution_count": 76,
     "metadata": {},
     "output_type": "execute_result"
    }
   ],
   "source": [
    "df = df_list[1]\n",
    "df.head(10)"
   ]
  },
  {
   "cell_type": "code",
   "execution_count": 79,
   "metadata": {},
   "outputs": [
    {
     "data": {
      "text/html": [
       "<div>\n",
       "<style scoped>\n",
       "    .dataframe tbody tr th:only-of-type {\n",
       "        vertical-align: middle;\n",
       "    }\n",
       "\n",
       "    .dataframe tbody tr th {\n",
       "        vertical-align: top;\n",
       "    }\n",
       "\n",
       "    .dataframe thead th {\n",
       "        text-align: right;\n",
       "    }\n",
       "</style>\n",
       "<table border=\"1\" class=\"dataframe\">\n",
       "  <thead>\n",
       "    <tr style=\"text-align: right;\">\n",
       "      <th></th>\n",
       "      <th>N</th>\n",
       "      <th>종목명</th>\n",
       "      <th>현재가</th>\n",
       "      <th>전일비</th>\n",
       "      <th>등락률</th>\n",
       "      <th>액면가</th>\n",
       "      <th>시가총액</th>\n",
       "      <th>상장주식수</th>\n",
       "      <th>외국인비율</th>\n",
       "      <th>거래량</th>\n",
       "      <th>PER</th>\n",
       "      <th>ROE</th>\n",
       "      <th>토론실</th>\n",
       "    </tr>\n",
       "  </thead>\n",
       "  <tbody>\n",
       "    <tr>\n",
       "      <th>1</th>\n",
       "      <td>1.0</td>\n",
       "      <td>삼성전자</td>\n",
       "      <td>54400.0</td>\n",
       "      <td>600.0</td>\n",
       "      <td>+1.12%</td>\n",
       "      <td>100.0</td>\n",
       "      <td>3247562.0</td>\n",
       "      <td>5969783.0</td>\n",
       "      <td>55.34</td>\n",
       "      <td>10041347.0</td>\n",
       "      <td>17.36</td>\n",
       "      <td>8.69</td>\n",
       "      <td>NaN</td>\n",
       "    </tr>\n",
       "    <tr>\n",
       "      <th>2</th>\n",
       "      <td>2.0</td>\n",
       "      <td>SK하이닉스</td>\n",
       "      <td>82900.0</td>\n",
       "      <td>200.0</td>\n",
       "      <td>+0.24%</td>\n",
       "      <td>5000.0</td>\n",
       "      <td>603514.0</td>\n",
       "      <td>728002.0</td>\n",
       "      <td>48.28</td>\n",
       "      <td>1560780.0</td>\n",
       "      <td>38.72</td>\n",
       "      <td>4.25</td>\n",
       "      <td>NaN</td>\n",
       "    </tr>\n",
       "    <tr>\n",
       "      <th>3</th>\n",
       "      <td>3.0</td>\n",
       "      <td>삼성바이오로직스</td>\n",
       "      <td>743000.0</td>\n",
       "      <td>11000.0</td>\n",
       "      <td>+1.50%</td>\n",
       "      <td>2500.0</td>\n",
       "      <td>491606.0</td>\n",
       "      <td>66165.0</td>\n",
       "      <td>10.23</td>\n",
       "      <td>144567.0</td>\n",
       "      <td>176.82</td>\n",
       "      <td>4.77</td>\n",
       "      <td>NaN</td>\n",
       "    </tr>\n",
       "    <tr>\n",
       "      <th>4</th>\n",
       "      <td>4.0</td>\n",
       "      <td>NAVER</td>\n",
       "      <td>276000.0</td>\n",
       "      <td>3000.0</td>\n",
       "      <td>+1.10%</td>\n",
       "      <td>100.0</td>\n",
       "      <td>453367.0</td>\n",
       "      <td>164263.0</td>\n",
       "      <td>55.11</td>\n",
       "      <td>920470.0</td>\n",
       "      <td>71.26</td>\n",
       "      <td>10.56</td>\n",
       "      <td>NaN</td>\n",
       "    </tr>\n",
       "    <tr>\n",
       "      <th>5</th>\n",
       "      <td>5.0</td>\n",
       "      <td>셀트리온</td>\n",
       "      <td>328000.0</td>\n",
       "      <td>13000.0</td>\n",
       "      <td>+4.13%</td>\n",
       "      <td>1000.0</td>\n",
       "      <td>442601.0</td>\n",
       "      <td>134939.0</td>\n",
       "      <td>21.16</td>\n",
       "      <td>1223675.0</td>\n",
       "      <td>130.47</td>\n",
       "      <td>11.19</td>\n",
       "      <td>NaN</td>\n",
       "    </tr>\n",
       "  </tbody>\n",
       "</table>\n",
       "</div>"
      ],
      "text/plain": [
       "     N       종목명       현재가      전일비     등락률     액면가       시가총액      상장주식수  \\\n",
       "1  1.0      삼성전자   54400.0    600.0  +1.12%   100.0  3247562.0  5969783.0   \n",
       "2  2.0    SK하이닉스   82900.0    200.0  +0.24%  5000.0   603514.0   728002.0   \n",
       "3  3.0  삼성바이오로직스  743000.0  11000.0  +1.50%  2500.0   491606.0    66165.0   \n",
       "4  4.0     NAVER  276000.0   3000.0  +1.10%   100.0   453367.0   164263.0   \n",
       "5  5.0      셀트리온  328000.0  13000.0  +4.13%  1000.0   442601.0   134939.0   \n",
       "\n",
       "   외국인비율         거래량     PER    ROE  토론실  \n",
       "1  55.34  10041347.0   17.36   8.69  NaN  \n",
       "2  48.28   1560780.0   38.72   4.25  NaN  \n",
       "3  10.23    144567.0  176.82   4.77  NaN  \n",
       "4  55.11    920470.0   71.26  10.56  NaN  \n",
       "5  21.16   1223675.0  130.47  11.19  NaN  "
      ]
     },
     "execution_count": 79,
     "metadata": {},
     "output_type": "execute_result"
    }
   ],
   "source": [
    "df.dropna(how='all').head()"
   ]
  },
  {
   "cell_type": "code",
   "execution_count": 83,
   "metadata": {},
   "outputs": [
    {
     "data": {
      "text/html": [
       "<div>\n",
       "<style scoped>\n",
       "    .dataframe tbody tr th:only-of-type {\n",
       "        vertical-align: middle;\n",
       "    }\n",
       "\n",
       "    .dataframe tbody tr th {\n",
       "        vertical-align: top;\n",
       "    }\n",
       "\n",
       "    .dataframe thead th {\n",
       "        text-align: right;\n",
       "    }\n",
       "</style>\n",
       "<table border=\"1\" class=\"dataframe\">\n",
       "  <thead>\n",
       "    <tr style=\"text-align: right;\">\n",
       "      <th></th>\n",
       "      <th>N</th>\n",
       "      <th>종목명</th>\n",
       "      <th>현재가</th>\n",
       "      <th>전일비</th>\n",
       "      <th>등락률</th>\n",
       "      <th>액면가</th>\n",
       "      <th>시가총액</th>\n",
       "      <th>상장주식수</th>\n",
       "      <th>외국인비율</th>\n",
       "      <th>거래량</th>\n",
       "      <th>PER</th>\n",
       "      <th>ROE</th>\n",
       "      <th>토론실</th>\n",
       "    </tr>\n",
       "  </thead>\n",
       "  <tbody>\n",
       "    <tr>\n",
       "      <th>1</th>\n",
       "      <td>1.0</td>\n",
       "      <td>삼성전자</td>\n",
       "      <td>54400.0</td>\n",
       "      <td>600.0</td>\n",
       "      <td>+1.12%</td>\n",
       "      <td>100.0</td>\n",
       "      <td>3247562.0</td>\n",
       "      <td>5969783.0</td>\n",
       "      <td>55.34</td>\n",
       "      <td>10041347.0</td>\n",
       "      <td>17.36</td>\n",
       "      <td>8.69</td>\n",
       "      <td>NaN</td>\n",
       "    </tr>\n",
       "    <tr>\n",
       "      <th>2</th>\n",
       "      <td>2.0</td>\n",
       "      <td>SK하이닉스</td>\n",
       "      <td>82900.0</td>\n",
       "      <td>200.0</td>\n",
       "      <td>+0.24%</td>\n",
       "      <td>5000.0</td>\n",
       "      <td>603514.0</td>\n",
       "      <td>728002.0</td>\n",
       "      <td>48.28</td>\n",
       "      <td>1560780.0</td>\n",
       "      <td>38.72</td>\n",
       "      <td>4.25</td>\n",
       "      <td>NaN</td>\n",
       "    </tr>\n",
       "    <tr>\n",
       "      <th>3</th>\n",
       "      <td>3.0</td>\n",
       "      <td>삼성바이오로직스</td>\n",
       "      <td>743000.0</td>\n",
       "      <td>11000.0</td>\n",
       "      <td>+1.50%</td>\n",
       "      <td>2500.0</td>\n",
       "      <td>491606.0</td>\n",
       "      <td>66165.0</td>\n",
       "      <td>10.23</td>\n",
       "      <td>144567.0</td>\n",
       "      <td>176.82</td>\n",
       "      <td>4.77</td>\n",
       "      <td>NaN</td>\n",
       "    </tr>\n",
       "    <tr>\n",
       "      <th>4</th>\n",
       "      <td>4.0</td>\n",
       "      <td>NAVER</td>\n",
       "      <td>276000.0</td>\n",
       "      <td>3000.0</td>\n",
       "      <td>+1.10%</td>\n",
       "      <td>100.0</td>\n",
       "      <td>453367.0</td>\n",
       "      <td>164263.0</td>\n",
       "      <td>55.11</td>\n",
       "      <td>920470.0</td>\n",
       "      <td>71.26</td>\n",
       "      <td>10.56</td>\n",
       "      <td>NaN</td>\n",
       "    </tr>\n",
       "    <tr>\n",
       "      <th>5</th>\n",
       "      <td>5.0</td>\n",
       "      <td>셀트리온</td>\n",
       "      <td>328000.0</td>\n",
       "      <td>13000.0</td>\n",
       "      <td>+4.13%</td>\n",
       "      <td>1000.0</td>\n",
       "      <td>442601.0</td>\n",
       "      <td>134939.0</td>\n",
       "      <td>21.16</td>\n",
       "      <td>1223675.0</td>\n",
       "      <td>130.47</td>\n",
       "      <td>11.19</td>\n",
       "      <td>NaN</td>\n",
       "    </tr>\n",
       "    <tr>\n",
       "      <th>...</th>\n",
       "      <td>...</td>\n",
       "      <td>...</td>\n",
       "      <td>...</td>\n",
       "      <td>...</td>\n",
       "      <td>...</td>\n",
       "      <td>...</td>\n",
       "      <td>...</td>\n",
       "      <td>...</td>\n",
       "      <td>...</td>\n",
       "      <td>...</td>\n",
       "      <td>...</td>\n",
       "      <td>...</td>\n",
       "      <td>...</td>\n",
       "    </tr>\n",
       "    <tr>\n",
       "      <th>73</th>\n",
       "      <td>496.0</td>\n",
       "      <td>KBSTAR 코스닥150선물레버리지</td>\n",
       "      <td>11190.0</td>\n",
       "      <td>315.0</td>\n",
       "      <td>+2.90%</td>\n",
       "      <td>0.0</td>\n",
       "      <td>1795.0</td>\n",
       "      <td>16040.0</td>\n",
       "      <td>0.06</td>\n",
       "      <td>96872.0</td>\n",
       "      <td>NaN</td>\n",
       "      <td>NaN</td>\n",
       "      <td>NaN</td>\n",
       "    </tr>\n",
       "    <tr>\n",
       "      <th>74</th>\n",
       "      <td>497.0</td>\n",
       "      <td>KPX홀딩스</td>\n",
       "      <td>42200.0</td>\n",
       "      <td>0.0</td>\n",
       "      <td>0.00%</td>\n",
       "      <td>5000.0</td>\n",
       "      <td>1783.0</td>\n",
       "      <td>4225.0</td>\n",
       "      <td>32.08</td>\n",
       "      <td>931.0</td>\n",
       "      <td>6.31</td>\n",
       "      <td>5.55</td>\n",
       "      <td>NaN</td>\n",
       "    </tr>\n",
       "    <tr>\n",
       "      <th>75</th>\n",
       "      <td>498.0</td>\n",
       "      <td>동아지질</td>\n",
       "      <td>15300.0</td>\n",
       "      <td>0.0</td>\n",
       "      <td>0.00%</td>\n",
       "      <td>500.0</td>\n",
       "      <td>1760.0</td>\n",
       "      <td>11500.0</td>\n",
       "      <td>4.85</td>\n",
       "      <td>78051.0</td>\n",
       "      <td>12.08</td>\n",
       "      <td>10.33</td>\n",
       "      <td>NaN</td>\n",
       "    </tr>\n",
       "    <tr>\n",
       "      <th>76</th>\n",
       "      <td>499.0</td>\n",
       "      <td>KINDEX 200TR</td>\n",
       "      <td>17390.0</td>\n",
       "      <td>85.0</td>\n",
       "      <td>+0.49%</td>\n",
       "      <td>0.0</td>\n",
       "      <td>1756.0</td>\n",
       "      <td>10100.0</td>\n",
       "      <td>0.00</td>\n",
       "      <td>551.0</td>\n",
       "      <td>NaN</td>\n",
       "      <td>NaN</td>\n",
       "      <td>NaN</td>\n",
       "    </tr>\n",
       "    <tr>\n",
       "      <th>77</th>\n",
       "      <td>500.0</td>\n",
       "      <td>SG세계물산</td>\n",
       "      <td>866.0</td>\n",
       "      <td>3.0</td>\n",
       "      <td>+0.35%</td>\n",
       "      <td>500.0</td>\n",
       "      <td>1753.0</td>\n",
       "      <td>202425.0</td>\n",
       "      <td>0.96</td>\n",
       "      <td>16979272.0</td>\n",
       "      <td>37.65</td>\n",
       "      <td>4.81</td>\n",
       "      <td>NaN</td>\n",
       "    </tr>\n",
       "  </tbody>\n",
       "</table>\n",
       "<p>500 rows × 13 columns</p>\n",
       "</div>"
      ],
      "text/plain": [
       "        N                  종목명       현재가      전일비     등락률     액면가       시가총액  \\\n",
       "1     1.0                 삼성전자   54400.0    600.0  +1.12%   100.0  3247562.0   \n",
       "2     2.0               SK하이닉스   82900.0    200.0  +0.24%  5000.0   603514.0   \n",
       "3     3.0             삼성바이오로직스  743000.0  11000.0  +1.50%  2500.0   491606.0   \n",
       "4     4.0                NAVER  276000.0   3000.0  +1.10%   100.0   453367.0   \n",
       "5     5.0                 셀트리온  328000.0  13000.0  +4.13%  1000.0   442601.0   \n",
       "..    ...                  ...       ...      ...     ...     ...        ...   \n",
       "73  496.0  KBSTAR 코스닥150선물레버리지   11190.0    315.0  +2.90%     0.0     1795.0   \n",
       "74  497.0               KPX홀딩스   42200.0      0.0   0.00%  5000.0     1783.0   \n",
       "75  498.0                 동아지질   15300.0      0.0   0.00%   500.0     1760.0   \n",
       "76  499.0         KINDEX 200TR   17390.0     85.0  +0.49%     0.0     1756.0   \n",
       "77  500.0               SG세계물산     866.0      3.0  +0.35%   500.0     1753.0   \n",
       "\n",
       "        상장주식수  외국인비율         거래량     PER    ROE  토론실  \n",
       "1   5969783.0  55.34  10041347.0   17.36   8.69  NaN  \n",
       "2    728002.0  48.28   1560780.0   38.72   4.25  NaN  \n",
       "3     66165.0  10.23    144567.0  176.82   4.77  NaN  \n",
       "4    164263.0  55.11    920470.0   71.26  10.56  NaN  \n",
       "5    134939.0  21.16   1223675.0  130.47  11.19  NaN  \n",
       "..        ...    ...         ...     ...    ...  ...  \n",
       "73    16040.0   0.06     96872.0     NaN    NaN  NaN  \n",
       "74     4225.0  32.08       931.0    6.31   5.55  NaN  \n",
       "75    11500.0   4.85     78051.0   12.08  10.33  NaN  \n",
       "76    10100.0   0.00       551.0     NaN    NaN  NaN  \n",
       "77   202425.0   0.96  16979272.0   37.65   4.81  NaN  \n",
       "\n",
       "[500 rows x 13 columns]"
      ]
     },
     "execution_count": 83,
     "metadata": {},
     "output_type": "execute_result"
    }
   ],
   "source": [
    "import pandas as pd\n",
    "\n",
    "df_merge = []\n",
    "\n",
    "for i in range(1, 11):\n",
    "    url = 'https://finance.naver.com/sise/sise_market_sum.nhn?sosok=0&page=' + str(i)\n",
    "    df_list = pd.read_html(url,encoding='euc-kr')\n",
    "    df = df_list[1]\n",
    "    df = df.dropna(how='all')\n",
    "    df_merge.append(df)\n",
    "    \n",
    "merged = pd.concat(df_merge)\n",
    "merged"
   ]
  },
  {
   "cell_type": "code",
   "execution_count": 85,
   "metadata": {},
   "outputs": [],
   "source": [
    "merged.to_excel('KOSPI_500.xls')"
   ]
  },
  {
   "cell_type": "code",
   "execution_count": 90,
   "metadata": {},
   "outputs": [
    {
     "data": {
      "text/html": [
       "<div>\n",
       "<style scoped>\n",
       "    .dataframe tbody tr th:only-of-type {\n",
       "        vertical-align: middle;\n",
       "    }\n",
       "\n",
       "    .dataframe tbody tr th {\n",
       "        vertical-align: top;\n",
       "    }\n",
       "\n",
       "    .dataframe thead th {\n",
       "        text-align: right;\n",
       "    }\n",
       "</style>\n",
       "<table border=\"1\" class=\"dataframe\">\n",
       "  <thead>\n",
       "    <tr style=\"text-align: right;\">\n",
       "      <th></th>\n",
       "      <th>N</th>\n",
       "      <th>종목명</th>\n",
       "      <th>현재가</th>\n",
       "      <th>전일비</th>\n",
       "      <th>등락률</th>\n",
       "      <th>액면가</th>\n",
       "      <th>시가총액</th>\n",
       "      <th>상장주식수</th>\n",
       "      <th>외국인비율</th>\n",
       "      <th>거래량</th>\n",
       "      <th>PER</th>\n",
       "      <th>ROE</th>\n",
       "      <th>토론실</th>\n",
       "    </tr>\n",
       "  </thead>\n",
       "  <tbody>\n",
       "    <tr>\n",
       "      <th>18</th>\n",
       "      <td>12.0</td>\n",
       "      <td>현대모비스</td>\n",
       "      <td>220500.0</td>\n",
       "      <td>7500.0</td>\n",
       "      <td>+3.52%</td>\n",
       "      <td>5000.0</td>\n",
       "      <td>209596.0</td>\n",
       "      <td>95055.0</td>\n",
       "      <td>45.11</td>\n",
       "      <td>431543.0</td>\n",
       "      <td>9.76</td>\n",
       "      <td>7.28</td>\n",
       "      <td>NaN</td>\n",
       "    </tr>\n",
       "    <tr>\n",
       "      <th>3</th>\n",
       "      <td>53.0</td>\n",
       "      <td>현대글로비스</td>\n",
       "      <td>114000.0</td>\n",
       "      <td>3500.0</td>\n",
       "      <td>+3.17%</td>\n",
       "      <td>500.0</td>\n",
       "      <td>42750.0</td>\n",
       "      <td>37500.0</td>\n",
       "      <td>34.69</td>\n",
       "      <td>113987.0</td>\n",
       "      <td>7.68</td>\n",
       "      <td>11.25</td>\n",
       "      <td>NaN</td>\n",
       "    </tr>\n",
       "    <tr>\n",
       "      <th>9</th>\n",
       "      <td>56.0</td>\n",
       "      <td>현대건설</td>\n",
       "      <td>34950.0</td>\n",
       "      <td>400.0</td>\n",
       "      <td>-1.13%</td>\n",
       "      <td>5000.0</td>\n",
       "      <td>38919.0</td>\n",
       "      <td>111356.0</td>\n",
       "      <td>22.11</td>\n",
       "      <td>641786.0</td>\n",
       "      <td>8.95</td>\n",
       "      <td>6.30</td>\n",
       "      <td>NaN</td>\n",
       "    </tr>\n",
       "    <tr>\n",
       "      <th>19</th>\n",
       "      <td>63.0</td>\n",
       "      <td>DB손해보험</td>\n",
       "      <td>47950.0</td>\n",
       "      <td>1200.0</td>\n",
       "      <td>-2.44%</td>\n",
       "      <td>500.0</td>\n",
       "      <td>33949.0</td>\n",
       "      <td>70800.0</td>\n",
       "      <td>39.33</td>\n",
       "      <td>152276.0</td>\n",
       "      <td>7.42</td>\n",
       "      <td>6.92</td>\n",
       "      <td>NaN</td>\n",
       "    </tr>\n",
       "    <tr>\n",
       "      <th>25</th>\n",
       "      <td>66.0</td>\n",
       "      <td>삼성카드</td>\n",
       "      <td>28750.0</td>\n",
       "      <td>0.0</td>\n",
       "      <td>0.00%</td>\n",
       "      <td>5000.0</td>\n",
       "      <td>33309.0</td>\n",
       "      <td>115859.0</td>\n",
       "      <td>9.68</td>\n",
       "      <td>65244.0</td>\n",
       "      <td>9.91</td>\n",
       "      <td>5.04</td>\n",
       "      <td>NaN</td>\n",
       "    </tr>\n",
       "    <tr>\n",
       "      <th>...</th>\n",
       "      <td>...</td>\n",
       "      <td>...</td>\n",
       "      <td>...</td>\n",
       "      <td>...</td>\n",
       "      <td>...</td>\n",
       "      <td>...</td>\n",
       "      <td>...</td>\n",
       "      <td>...</td>\n",
       "      <td>...</td>\n",
       "      <td>...</td>\n",
       "      <td>...</td>\n",
       "      <td>...</td>\n",
       "      <td>...</td>\n",
       "    </tr>\n",
       "    <tr>\n",
       "      <th>33</th>\n",
       "      <td>471.0</td>\n",
       "      <td>부국증권</td>\n",
       "      <td>19250.0</td>\n",
       "      <td>250.0</td>\n",
       "      <td>+1.32%</td>\n",
       "      <td>5000.0</td>\n",
       "      <td>1996.0</td>\n",
       "      <td>10370.0</td>\n",
       "      <td>1.00</td>\n",
       "      <td>1493.0</td>\n",
       "      <td>8.55</td>\n",
       "      <td>5.80</td>\n",
       "      <td>NaN</td>\n",
       "    </tr>\n",
       "    <tr>\n",
       "      <th>36</th>\n",
       "      <td>474.0</td>\n",
       "      <td>KSS해운</td>\n",
       "      <td>8520.0</td>\n",
       "      <td>30.0</td>\n",
       "      <td>-0.35%</td>\n",
       "      <td>500.0</td>\n",
       "      <td>1975.0</td>\n",
       "      <td>23186.0</td>\n",
       "      <td>7.61</td>\n",
       "      <td>32569.0</td>\n",
       "      <td>8.44</td>\n",
       "      <td>8.79</td>\n",
       "      <td>NaN</td>\n",
       "    </tr>\n",
       "    <tr>\n",
       "      <th>49</th>\n",
       "      <td>481.0</td>\n",
       "      <td>현대상사</td>\n",
       "      <td>14650.0</td>\n",
       "      <td>50.0</td>\n",
       "      <td>-0.34%</td>\n",
       "      <td>5000.0</td>\n",
       "      <td>1938.0</td>\n",
       "      <td>13229.0</td>\n",
       "      <td>6.72</td>\n",
       "      <td>40501.0</td>\n",
       "      <td>9.79</td>\n",
       "      <td>5.07</td>\n",
       "      <td>NaN</td>\n",
       "    </tr>\n",
       "    <tr>\n",
       "      <th>53</th>\n",
       "      <td>485.0</td>\n",
       "      <td>대덕</td>\n",
       "      <td>6630.0</td>\n",
       "      <td>40.0</td>\n",
       "      <td>+0.61%</td>\n",
       "      <td>500.0</td>\n",
       "      <td>1896.0</td>\n",
       "      <td>28590.0</td>\n",
       "      <td>14.62</td>\n",
       "      <td>1262043.0</td>\n",
       "      <td>9.48</td>\n",
       "      <td>6.38</td>\n",
       "      <td>NaN</td>\n",
       "    </tr>\n",
       "    <tr>\n",
       "      <th>74</th>\n",
       "      <td>497.0</td>\n",
       "      <td>KPX홀딩스</td>\n",
       "      <td>42200.0</td>\n",
       "      <td>0.0</td>\n",
       "      <td>0.00%</td>\n",
       "      <td>5000.0</td>\n",
       "      <td>1783.0</td>\n",
       "      <td>4225.0</td>\n",
       "      <td>32.08</td>\n",
       "      <td>931.0</td>\n",
       "      <td>6.31</td>\n",
       "      <td>5.55</td>\n",
       "      <td>NaN</td>\n",
       "    </tr>\n",
       "  </tbody>\n",
       "</table>\n",
       "<p>87 rows × 13 columns</p>\n",
       "</div>"
      ],
      "text/plain": [
       "        N     종목명       현재가     전일비     등락률     액면가      시가총액     상장주식수  \\\n",
       "18   12.0   현대모비스  220500.0  7500.0  +3.52%  5000.0  209596.0   95055.0   \n",
       "3    53.0  현대글로비스  114000.0  3500.0  +3.17%   500.0   42750.0   37500.0   \n",
       "9    56.0    현대건설   34950.0   400.0  -1.13%  5000.0   38919.0  111356.0   \n",
       "19   63.0  DB손해보험   47950.0  1200.0  -2.44%   500.0   33949.0   70800.0   \n",
       "25   66.0    삼성카드   28750.0     0.0   0.00%  5000.0   33309.0  115859.0   \n",
       "..    ...     ...       ...     ...     ...     ...       ...       ...   \n",
       "33  471.0    부국증권   19250.0   250.0  +1.32%  5000.0    1996.0   10370.0   \n",
       "36  474.0   KSS해운    8520.0    30.0  -0.35%   500.0    1975.0   23186.0   \n",
       "49  481.0    현대상사   14650.0    50.0  -0.34%  5000.0    1938.0   13229.0   \n",
       "53  485.0      대덕    6630.0    40.0  +0.61%   500.0    1896.0   28590.0   \n",
       "74  497.0  KPX홀딩스   42200.0     0.0   0.00%  5000.0    1783.0    4225.0   \n",
       "\n",
       "    외국인비율        거래량   PER    ROE  토론실  \n",
       "18  45.11   431543.0  9.76   7.28  NaN  \n",
       "3   34.69   113987.0  7.68  11.25  NaN  \n",
       "9   22.11   641786.0  8.95   6.30  NaN  \n",
       "19  39.33   152276.0  7.42   6.92  NaN  \n",
       "25   9.68    65244.0  9.91   5.04  NaN  \n",
       "..    ...        ...   ...    ...  ...  \n",
       "33   1.00     1493.0  8.55   5.80  NaN  \n",
       "36   7.61    32569.0  8.44   8.79  NaN  \n",
       "49   6.72    40501.0  9.79   5.07  NaN  \n",
       "53  14.62  1262043.0  9.48   6.38  NaN  \n",
       "74  32.08      931.0  6.31   5.55  NaN  \n",
       "\n",
       "[87 rows x 13 columns]"
      ]
     },
     "execution_count": 90,
     "metadata": {},
     "output_type": "execute_result"
    }
   ],
   "source": [
    "merged.query('5 < PER < 10')"
   ]
  },
  {
   "cell_type": "code",
   "execution_count": null,
   "metadata": {},
   "outputs": [],
   "source": []
  }
 ],
 "metadata": {
  "kernelspec": {
   "display_name": "Python 3",
   "language": "python",
   "name": "python3"
  },
  "language_info": {
   "codemirror_mode": {
    "name": "ipython",
    "version": 3
   },
   "file_extension": ".py",
   "mimetype": "text/x-python",
   "name": "python",
   "nbconvert_exporter": "python",
   "pygments_lexer": "ipython3",
   "version": "3.7.6"
  }
 },
 "nbformat": 4,
 "nbformat_minor": 4
}
