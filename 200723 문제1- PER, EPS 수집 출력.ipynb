{
 "cells": [
  {
   "cell_type": "code",
   "execution_count": 15,
   "metadata": {},
   "outputs": [
    {
     "data": {
      "text/plain": [
       "17.45"
      ]
     },
     "execution_count": 15,
     "metadata": {},
     "output_type": "execute_result"
    }
   ],
   "source": [
    "import requests\n",
    "from bs4 import BeautifulSoup\n",
    "\n",
    "r = requests.get('https://finance.naver.com/item/sise.nhn?code=005930')\n",
    "soup = BeautifulSoup(r.text)\n",
    "span = soup.find(id='_sise_per')\n",
    "float(span.text.replace(',', ''))"
   ]
  },
  {
   "cell_type": "code",
   "execution_count": 43,
   "metadata": {},
   "outputs": [],
   "source": [
    "def get_factor(code):\n",
    "    r = requests.get('https://finance.naver.com/item/sise.nhn?code='+code)\n",
    "    soup = BeautifulSoup(r.text)\n",
    "    span = soup.find(id='_sise_per')\n",
    "    span2 = soup.find(id='_sise_eps')\n",
    "    return float(span.text.replace(',', '')) , float(span2.text.replace(',', ''))"
   ]
  },
  {
   "cell_type": "code",
   "execution_count": 61,
   "metadata": {
    "scrolled": true
   },
   "outputs": [
    {
     "name": "stdout",
     "output_type": "stream",
     "text": [
      "삼성전자 (17.45, 3134.0)\n",
      "sk하이닉스 (38.86, 2141.0)\n",
      "삼성전자우 (15.08, 3134.0)\n",
      "삼성바이오로직스 (188.01, 4202.0)\n",
      "NAVER (69.71, 3873.0)\n",
      "셀트리온 (127.88, 2514.0)\n",
      "LG화학 (294.74, 1788.0)\n",
      "LG생활건강 (31.21, 44318.0)\n"
     ]
    }
   ],
   "source": [
    "print('삼성전자',get_factor('005930'))\n",
    "print('sk하이닉스',get_factor('000660'))\n",
    "print('삼성전자우',get_factor('005935'))\n",
    "print('삼성바이오로직스',get_factor('207940'))\n",
    "print('NAVER',get_factor('035420'))\n",
    "print('셀트리온',get_factor('068270'))\n",
    "print('LG화학',get_factor('051910'))\n",
    "print('LG생활건강',get_factor('051900'))"
   ]
  }
 ],
 "metadata": {
  "kernelspec": {
   "display_name": "Python 3",
   "language": "python",
   "name": "python3"
  },
  "language_info": {
   "codemirror_mode": {
    "name": "ipython",
    "version": 3
   },
   "file_extension": ".py",
   "mimetype": "text/x-python",
   "name": "python",
   "nbconvert_exporter": "python",
   "pygments_lexer": "ipython3",
   "version": "3.7.6"
  }
 },
 "nbformat": 4,
 "nbformat_minor": 4
}
