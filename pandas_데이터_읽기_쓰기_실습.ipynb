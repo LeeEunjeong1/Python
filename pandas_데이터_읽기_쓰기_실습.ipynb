{
  "nbformat": 4,
  "nbformat_minor": 0,
  "metadata": {
    "colab": {
      "name": "pandas_데이터_읽기_쓰기_실습.ipynb",
      "provenance": [],
      "collapsed_sections": [],
      "include_colab_link": true
    },
    "kernelspec": {
      "display_name": "Python 3",
      "language": "python",
      "name": "python3"
    },
    "language_info": {
      "codemirror_mode": {
        "name": "ipython",
        "version": 3
      },
      "file_extension": ".py",
      "mimetype": "text/x-python",
      "name": "python",
      "nbconvert_exporter": "python",
      "pygments_lexer": "ipython3",
      "version": "3.7.4"
    }
  },
  "cells": [
    {
      "cell_type": "markdown",
      "metadata": {
        "id": "view-in-github",
        "colab_type": "text"
      },
      "source": [
        "<a href=\"https://colab.research.google.com/github/LeeEunjeong1/Python/blob/master/pandas_%EB%8D%B0%EC%9D%B4%ED%84%B0_%EC%9D%BD%EA%B8%B0_%EC%93%B0%EA%B8%B0_%EC%8B%A4%EC%8A%B5.ipynb\" target=\"_parent\"><img src=\"https://colab.research.google.com/assets/colab-badge.svg\" alt=\"Open In Colab\"/></a>"
      ]
    },
    {
      "cell_type": "markdown",
      "metadata": {
        "id": "BA95qX6H4yYu",
        "colab_type": "text"
      },
      "source": [
        "# pandas 데이터  읽기 쓰기 - 실습\n",
        "\n",
        "#### 2020 [FinanceData.KR](http://financedata.kr) | [facebook.com/financedata](http://facebook.com/financedata)"
      ]
    },
    {
      "cell_type": "code",
      "metadata": {
        "colab_type": "code",
        "id": "UthAiw3tSBDN",
        "colab": {
          "base_uri": "https://localhost:8080/",
          "height": 122
        },
        "outputId": "fc86f209-be24-49c4-9451-cb9d68d97d63"
      },
      "source": [
        "import pandas as pd\n",
        "\n",
        "s = pd.Series([7, 0, -3, 8, 1])\n",
        "s"
      ],
      "execution_count": 1,
      "outputs": [
        {
          "output_type": "execute_result",
          "data": {
            "text/plain": [
              "0    7\n",
              "1    0\n",
              "2   -3\n",
              "3    8\n",
              "4    1\n",
              "dtype: int64"
            ]
          },
          "metadata": {
            "tags": []
          },
          "execution_count": 1
        }
      ]
    },
    {
      "cell_type": "code",
      "metadata": {
        "id": "c0RwfKsVKeqL",
        "colab_type": "code",
        "colab": {
          "base_uri": "https://localhost:8080/",
          "height": 122
        },
        "outputId": "d17bce38-2d7a-457a-d1f5-f92ede119e15"
      },
      "source": [
        "data = [7, 0, -3, 8, 1]\n",
        "inx = ['A', 'B', 'C', 'D', 'E']\n",
        "\n",
        "s = pd.Series(data, index=inx)\n",
        "s"
      ],
      "execution_count": 2,
      "outputs": [
        {
          "output_type": "execute_result",
          "data": {
            "text/plain": [
              "A    7\n",
              "B    0\n",
              "C   -3\n",
              "D    8\n",
              "E    1\n",
              "dtype: int64"
            ]
          },
          "metadata": {
            "tags": []
          },
          "execution_count": 2
        }
      ]
    },
    {
      "cell_type": "code",
      "metadata": {
        "id": "dpEl53nXKeqO",
        "colab_type": "code",
        "colab": {
          "base_uri": "https://localhost:8080/",
          "height": 34
        },
        "outputId": "47f78193-e929-4538-f20d-8c202d773c25"
      },
      "source": [
        "s[0]"
      ],
      "execution_count": 3,
      "outputs": [
        {
          "output_type": "execute_result",
          "data": {
            "text/plain": [
              "7"
            ]
          },
          "metadata": {
            "tags": []
          },
          "execution_count": 3
        }
      ]
    },
    {
      "cell_type": "code",
      "metadata": {
        "id": "M6SSZXuuKeqR",
        "colab_type": "code",
        "colab": {
          "base_uri": "https://localhost:8080/",
          "height": 34
        },
        "outputId": "f8d6354f-4407-4f99-cdeb-50a7b28aafc5"
      },
      "source": [
        "s['A']"
      ],
      "execution_count": 4,
      "outputs": [
        {
          "output_type": "execute_result",
          "data": {
            "text/plain": [
              "7"
            ]
          },
          "metadata": {
            "tags": []
          },
          "execution_count": 4
        }
      ]
    },
    {
      "cell_type": "code",
      "metadata": {
        "colab_type": "code",
        "id": "uFNHh1G5CBgI",
        "colab": {
          "base_uri": "https://localhost:8080/",
          "height": 136
        },
        "outputId": "492522d7-1f36-4928-e538-01a2f205eeeb"
      },
      "source": [
        "## pandas 핵심 자료구조 - DataFrame\n",
        "# dict로 부터 생성하기\n",
        "\n",
        "data = {\n",
        "  'A' : [10, 20, 30], \n",
        "  'B' : [40, 50, 60], \n",
        "  'C' : [70, 80, 90],\n",
        "}\n",
        "\n",
        "df = pd.DataFrame(data, index = [1, 2, 3])\n",
        "df"
      ],
      "execution_count": 5,
      "outputs": [
        {
          "output_type": "execute_result",
          "data": {
            "text/html": [
              "<div>\n",
              "<style scoped>\n",
              "    .dataframe tbody tr th:only-of-type {\n",
              "        vertical-align: middle;\n",
              "    }\n",
              "\n",
              "    .dataframe tbody tr th {\n",
              "        vertical-align: top;\n",
              "    }\n",
              "\n",
              "    .dataframe thead th {\n",
              "        text-align: right;\n",
              "    }\n",
              "</style>\n",
              "<table border=\"1\" class=\"dataframe\">\n",
              "  <thead>\n",
              "    <tr style=\"text-align: right;\">\n",
              "      <th></th>\n",
              "      <th>A</th>\n",
              "      <th>B</th>\n",
              "      <th>C</th>\n",
              "    </tr>\n",
              "  </thead>\n",
              "  <tbody>\n",
              "    <tr>\n",
              "      <th>1</th>\n",
              "      <td>10</td>\n",
              "      <td>40</td>\n",
              "      <td>70</td>\n",
              "    </tr>\n",
              "    <tr>\n",
              "      <th>2</th>\n",
              "      <td>20</td>\n",
              "      <td>50</td>\n",
              "      <td>80</td>\n",
              "    </tr>\n",
              "    <tr>\n",
              "      <th>3</th>\n",
              "      <td>30</td>\n",
              "      <td>60</td>\n",
              "      <td>90</td>\n",
              "    </tr>\n",
              "  </tbody>\n",
              "</table>\n",
              "</div>"
            ],
            "text/plain": [
              "    A   B   C\n",
              "1  10  40  70\n",
              "2  20  50  80\n",
              "3  30  60  90"
            ]
          },
          "metadata": {
            "tags": []
          },
          "execution_count": 5
        }
      ]
    },
    {
      "cell_type": "code",
      "metadata": {
        "colab_type": "code",
        "id": "yVQ-PjqLEE7i",
        "colab": {
          "base_uri": "https://localhost:8080/",
          "height": 136
        },
        "outputId": "cd3d6d07-6d91-4617-a3f7-087cda408619"
      },
      "source": [
        "import pandas as pd\n",
        "\n",
        "values = [[10, 20, 30], [40, 50, 60], [70, 80, 90]]\n",
        "index = [1,2,3]\n",
        "columns = ['A', 'B', 'C']\n",
        "\n",
        "df = pd.DataFrame(values, index=index, columns=columns)\n",
        "df"
      ],
      "execution_count": 6,
      "outputs": [
        {
          "output_type": "execute_result",
          "data": {
            "text/html": [
              "<div>\n",
              "<style scoped>\n",
              "    .dataframe tbody tr th:only-of-type {\n",
              "        vertical-align: middle;\n",
              "    }\n",
              "\n",
              "    .dataframe tbody tr th {\n",
              "        vertical-align: top;\n",
              "    }\n",
              "\n",
              "    .dataframe thead th {\n",
              "        text-align: right;\n",
              "    }\n",
              "</style>\n",
              "<table border=\"1\" class=\"dataframe\">\n",
              "  <thead>\n",
              "    <tr style=\"text-align: right;\">\n",
              "      <th></th>\n",
              "      <th>A</th>\n",
              "      <th>B</th>\n",
              "      <th>C</th>\n",
              "    </tr>\n",
              "  </thead>\n",
              "  <tbody>\n",
              "    <tr>\n",
              "      <th>1</th>\n",
              "      <td>10</td>\n",
              "      <td>20</td>\n",
              "      <td>30</td>\n",
              "    </tr>\n",
              "    <tr>\n",
              "      <th>2</th>\n",
              "      <td>40</td>\n",
              "      <td>50</td>\n",
              "      <td>60</td>\n",
              "    </tr>\n",
              "    <tr>\n",
              "      <th>3</th>\n",
              "      <td>70</td>\n",
              "      <td>80</td>\n",
              "      <td>90</td>\n",
              "    </tr>\n",
              "  </tbody>\n",
              "</table>\n",
              "</div>"
            ],
            "text/plain": [
              "    A   B   C\n",
              "1  10  20  30\n",
              "2  40  50  60\n",
              "3  70  80  90"
            ]
          },
          "metadata": {
            "tags": []
          },
          "execution_count": 6
        }
      ]
    },
    {
      "cell_type": "code",
      "metadata": {
        "colab_type": "code",
        "id": "3wzkJ0964zMp",
        "colab": {
          "base_uri": "https://localhost:8080/",
          "height": 106
        },
        "outputId": "a48eefb4-dcaa-4ba3-b165-f9d1945af1d9"
      },
      "source": [
        "df.head(2) # 처음 2개 행"
      ],
      "execution_count": 7,
      "outputs": [
        {
          "output_type": "execute_result",
          "data": {
            "text/html": [
              "<div>\n",
              "<style scoped>\n",
              "    .dataframe tbody tr th:only-of-type {\n",
              "        vertical-align: middle;\n",
              "    }\n",
              "\n",
              "    .dataframe tbody tr th {\n",
              "        vertical-align: top;\n",
              "    }\n",
              "\n",
              "    .dataframe thead th {\n",
              "        text-align: right;\n",
              "    }\n",
              "</style>\n",
              "<table border=\"1\" class=\"dataframe\">\n",
              "  <thead>\n",
              "    <tr style=\"text-align: right;\">\n",
              "      <th></th>\n",
              "      <th>A</th>\n",
              "      <th>B</th>\n",
              "      <th>C</th>\n",
              "    </tr>\n",
              "  </thead>\n",
              "  <tbody>\n",
              "    <tr>\n",
              "      <th>1</th>\n",
              "      <td>10</td>\n",
              "      <td>20</td>\n",
              "      <td>30</td>\n",
              "    </tr>\n",
              "    <tr>\n",
              "      <th>2</th>\n",
              "      <td>40</td>\n",
              "      <td>50</td>\n",
              "      <td>60</td>\n",
              "    </tr>\n",
              "  </tbody>\n",
              "</table>\n",
              "</div>"
            ],
            "text/plain": [
              "    A   B   C\n",
              "1  10  20  30\n",
              "2  40  50  60"
            ]
          },
          "metadata": {
            "tags": []
          },
          "execution_count": 7
        }
      ]
    },
    {
      "cell_type": "code",
      "metadata": {
        "colab_type": "code",
        "id": "0DBdhkTs5APB",
        "colab": {
          "base_uri": "https://localhost:8080/",
          "height": 106
        },
        "outputId": "0ac20ef7-a791-4293-ae5a-1067304f4086"
      },
      "source": [
        "df.tail(2) # 뒷부분 2개 행"
      ],
      "execution_count": 8,
      "outputs": [
        {
          "output_type": "execute_result",
          "data": {
            "text/html": [
              "<div>\n",
              "<style scoped>\n",
              "    .dataframe tbody tr th:only-of-type {\n",
              "        vertical-align: middle;\n",
              "    }\n",
              "\n",
              "    .dataframe tbody tr th {\n",
              "        vertical-align: top;\n",
              "    }\n",
              "\n",
              "    .dataframe thead th {\n",
              "        text-align: right;\n",
              "    }\n",
              "</style>\n",
              "<table border=\"1\" class=\"dataframe\">\n",
              "  <thead>\n",
              "    <tr style=\"text-align: right;\">\n",
              "      <th></th>\n",
              "      <th>A</th>\n",
              "      <th>B</th>\n",
              "      <th>C</th>\n",
              "    </tr>\n",
              "  </thead>\n",
              "  <tbody>\n",
              "    <tr>\n",
              "      <th>2</th>\n",
              "      <td>40</td>\n",
              "      <td>50</td>\n",
              "      <td>60</td>\n",
              "    </tr>\n",
              "    <tr>\n",
              "      <th>3</th>\n",
              "      <td>70</td>\n",
              "      <td>80</td>\n",
              "      <td>90</td>\n",
              "    </tr>\n",
              "  </tbody>\n",
              "</table>\n",
              "</div>"
            ],
            "text/plain": [
              "    A   B   C\n",
              "2  40  50  60\n",
              "3  70  80  90"
            ]
          },
          "metadata": {
            "tags": []
          },
          "execution_count": 8
        }
      ]
    },
    {
      "cell_type": "code",
      "metadata": {
        "colab_type": "code",
        "id": "yhs9lMQx5Dh8",
        "colab": {
          "base_uri": "https://localhost:8080/",
          "height": 77
        },
        "outputId": "a1939ee2-7450-4714-afac-e664dcb531b2"
      },
      "source": [
        "df[df.A >= 50] # 컬럼 A가 50 이상인 행을 조회"
      ],
      "execution_count": 9,
      "outputs": [
        {
          "output_type": "execute_result",
          "data": {
            "text/html": [
              "<div>\n",
              "<style scoped>\n",
              "    .dataframe tbody tr th:only-of-type {\n",
              "        vertical-align: middle;\n",
              "    }\n",
              "\n",
              "    .dataframe tbody tr th {\n",
              "        vertical-align: top;\n",
              "    }\n",
              "\n",
              "    .dataframe thead th {\n",
              "        text-align: right;\n",
              "    }\n",
              "</style>\n",
              "<table border=\"1\" class=\"dataframe\">\n",
              "  <thead>\n",
              "    <tr style=\"text-align: right;\">\n",
              "      <th></th>\n",
              "      <th>A</th>\n",
              "      <th>B</th>\n",
              "      <th>C</th>\n",
              "    </tr>\n",
              "  </thead>\n",
              "  <tbody>\n",
              "    <tr>\n",
              "      <th>3</th>\n",
              "      <td>70</td>\n",
              "      <td>80</td>\n",
              "      <td>90</td>\n",
              "    </tr>\n",
              "  </tbody>\n",
              "</table>\n",
              "</div>"
            ],
            "text/plain": [
              "    A   B   C\n",
              "3  70  80  90"
            ]
          },
          "metadata": {
            "tags": []
          },
          "execution_count": 9
        }
      ]
    },
    {
      "cell_type": "code",
      "metadata": {
        "colab_type": "code",
        "id": "8E1VwNG95Q5w",
        "colab": {
          "base_uri": "https://localhost:8080/",
          "height": 106
        },
        "outputId": "ac2092c4-4d2a-437a-9ffe-2baa151fc172"
      },
      "source": [
        "# 정수 인덱싱\n",
        "df.iloc[1:3]"
      ],
      "execution_count": 10,
      "outputs": [
        {
          "output_type": "execute_result",
          "data": {
            "text/html": [
              "<div>\n",
              "<style scoped>\n",
              "    .dataframe tbody tr th:only-of-type {\n",
              "        vertical-align: middle;\n",
              "    }\n",
              "\n",
              "    .dataframe tbody tr th {\n",
              "        vertical-align: top;\n",
              "    }\n",
              "\n",
              "    .dataframe thead th {\n",
              "        text-align: right;\n",
              "    }\n",
              "</style>\n",
              "<table border=\"1\" class=\"dataframe\">\n",
              "  <thead>\n",
              "    <tr style=\"text-align: right;\">\n",
              "      <th></th>\n",
              "      <th>A</th>\n",
              "      <th>B</th>\n",
              "      <th>C</th>\n",
              "    </tr>\n",
              "  </thead>\n",
              "  <tbody>\n",
              "    <tr>\n",
              "      <th>2</th>\n",
              "      <td>40</td>\n",
              "      <td>50</td>\n",
              "      <td>60</td>\n",
              "    </tr>\n",
              "    <tr>\n",
              "      <th>3</th>\n",
              "      <td>70</td>\n",
              "      <td>80</td>\n",
              "      <td>90</td>\n",
              "    </tr>\n",
              "  </tbody>\n",
              "</table>\n",
              "</div>"
            ],
            "text/plain": [
              "    A   B   C\n",
              "2  40  50  60\n",
              "3  70  80  90"
            ]
          },
          "metadata": {
            "tags": []
          },
          "execution_count": 10
        }
      ]
    },
    {
      "cell_type": "code",
      "metadata": {
        "colab_type": "code",
        "id": "riqYOExO5YV_",
        "colab": {
          "base_uri": "https://localhost:8080/",
          "height": 136
        },
        "outputId": "82ca1ffb-fff4-4ad0-c4df-49f0f255e092"
      },
      "source": [
        "df.iloc[:, [1, 0]]"
      ],
      "execution_count": 11,
      "outputs": [
        {
          "output_type": "execute_result",
          "data": {
            "text/html": [
              "<div>\n",
              "<style scoped>\n",
              "    .dataframe tbody tr th:only-of-type {\n",
              "        vertical-align: middle;\n",
              "    }\n",
              "\n",
              "    .dataframe tbody tr th {\n",
              "        vertical-align: top;\n",
              "    }\n",
              "\n",
              "    .dataframe thead th {\n",
              "        text-align: right;\n",
              "    }\n",
              "</style>\n",
              "<table border=\"1\" class=\"dataframe\">\n",
              "  <thead>\n",
              "    <tr style=\"text-align: right;\">\n",
              "      <th></th>\n",
              "      <th>B</th>\n",
              "      <th>A</th>\n",
              "    </tr>\n",
              "  </thead>\n",
              "  <tbody>\n",
              "    <tr>\n",
              "      <th>1</th>\n",
              "      <td>20</td>\n",
              "      <td>10</td>\n",
              "    </tr>\n",
              "    <tr>\n",
              "      <th>2</th>\n",
              "      <td>50</td>\n",
              "      <td>40</td>\n",
              "    </tr>\n",
              "    <tr>\n",
              "      <th>3</th>\n",
              "      <td>80</td>\n",
              "      <td>70</td>\n",
              "    </tr>\n",
              "  </tbody>\n",
              "</table>\n",
              "</div>"
            ],
            "text/plain": [
              "    B   A\n",
              "1  20  10\n",
              "2  50  40\n",
              "3  80  70"
            ]
          },
          "metadata": {
            "tags": []
          },
          "execution_count": 11
        }
      ]
    },
    {
      "cell_type": "code",
      "metadata": {
        "colab_type": "code",
        "id": "aHZj99V65ftH",
        "colab": {
          "base_uri": "https://localhost:8080/",
          "height": 136
        },
        "outputId": "becd8d80-3824-4df8-b14b-3adddea72cb4"
      },
      "source": [
        "# 레이블 인덱싱\n",
        "df.loc[:,'A':'B']"
      ],
      "execution_count": 12,
      "outputs": [
        {
          "output_type": "execute_result",
          "data": {
            "text/html": [
              "<div>\n",
              "<style scoped>\n",
              "    .dataframe tbody tr th:only-of-type {\n",
              "        vertical-align: middle;\n",
              "    }\n",
              "\n",
              "    .dataframe tbody tr th {\n",
              "        vertical-align: top;\n",
              "    }\n",
              "\n",
              "    .dataframe thead th {\n",
              "        text-align: right;\n",
              "    }\n",
              "</style>\n",
              "<table border=\"1\" class=\"dataframe\">\n",
              "  <thead>\n",
              "    <tr style=\"text-align: right;\">\n",
              "      <th></th>\n",
              "      <th>A</th>\n",
              "      <th>B</th>\n",
              "    </tr>\n",
              "  </thead>\n",
              "  <tbody>\n",
              "    <tr>\n",
              "      <th>1</th>\n",
              "      <td>10</td>\n",
              "      <td>20</td>\n",
              "    </tr>\n",
              "    <tr>\n",
              "      <th>2</th>\n",
              "      <td>40</td>\n",
              "      <td>50</td>\n",
              "    </tr>\n",
              "    <tr>\n",
              "      <th>3</th>\n",
              "      <td>70</td>\n",
              "      <td>80</td>\n",
              "    </tr>\n",
              "  </tbody>\n",
              "</table>\n",
              "</div>"
            ],
            "text/plain": [
              "    A   B\n",
              "1  10  20\n",
              "2  40  50\n",
              "3  70  80"
            ]
          },
          "metadata": {
            "tags": []
          },
          "execution_count": 12
        }
      ]
    },
    {
      "cell_type": "code",
      "metadata": {
        "colab_type": "code",
        "id": "NiokmFVM5qE5",
        "colab": {
          "base_uri": "https://localhost:8080/",
          "height": 106
        },
        "outputId": "83928c7a-45a5-4702-fb3b-ffbbaa70cf40"
      },
      "source": [
        "df.loc[df['B'] > 40, ['B', 'A']]"
      ],
      "execution_count": 13,
      "outputs": [
        {
          "output_type": "execute_result",
          "data": {
            "text/html": [
              "<div>\n",
              "<style scoped>\n",
              "    .dataframe tbody tr th:only-of-type {\n",
              "        vertical-align: middle;\n",
              "    }\n",
              "\n",
              "    .dataframe tbody tr th {\n",
              "        vertical-align: top;\n",
              "    }\n",
              "\n",
              "    .dataframe thead th {\n",
              "        text-align: right;\n",
              "    }\n",
              "</style>\n",
              "<table border=\"1\" class=\"dataframe\">\n",
              "  <thead>\n",
              "    <tr style=\"text-align: right;\">\n",
              "      <th></th>\n",
              "      <th>B</th>\n",
              "      <th>A</th>\n",
              "    </tr>\n",
              "  </thead>\n",
              "  <tbody>\n",
              "    <tr>\n",
              "      <th>2</th>\n",
              "      <td>50</td>\n",
              "      <td>40</td>\n",
              "    </tr>\n",
              "    <tr>\n",
              "      <th>3</th>\n",
              "      <td>80</td>\n",
              "      <td>70</td>\n",
              "    </tr>\n",
              "  </tbody>\n",
              "</table>\n",
              "</div>"
            ],
            "text/plain": [
              "    B   A\n",
              "2  50  40\n",
              "3  80  70"
            ]
          },
          "metadata": {
            "tags": []
          },
          "execution_count": 13
        }
      ]
    },
    {
      "cell_type": "code",
      "metadata": {
        "colab_type": "code",
        "id": "_xPXo_AM5pYw",
        "colab": {
          "base_uri": "https://localhost:8080/",
          "height": 87
        },
        "outputId": "fa76b4ff-33f3-4d5a-f00a-6c13bf602f02"
      },
      "source": [
        "df['C'] # 혹은 df.C"
      ],
      "execution_count": 14,
      "outputs": [
        {
          "output_type": "execute_result",
          "data": {
            "text/plain": [
              "1    30\n",
              "2    60\n",
              "3    90\n",
              "Name: C, dtype: int64"
            ]
          },
          "metadata": {
            "tags": []
          },
          "execution_count": 14
        }
      ]
    },
    {
      "cell_type": "code",
      "metadata": {
        "colab_type": "code",
        "id": "Zz-pQlx66AUo",
        "colab": {
          "base_uri": "https://localhost:8080/",
          "height": 136
        },
        "outputId": "3341cc12-16c7-48be-ad00-f50ed2d7557f"
      },
      "source": [
        "df[['C','A','B']] # 특정 컬럼만 지정해서 순서대로 읽기"
      ],
      "execution_count": 15,
      "outputs": [
        {
          "output_type": "execute_result",
          "data": {
            "text/html": [
              "<div>\n",
              "<style scoped>\n",
              "    .dataframe tbody tr th:only-of-type {\n",
              "        vertical-align: middle;\n",
              "    }\n",
              "\n",
              "    .dataframe tbody tr th {\n",
              "        vertical-align: top;\n",
              "    }\n",
              "\n",
              "    .dataframe thead th {\n",
              "        text-align: right;\n",
              "    }\n",
              "</style>\n",
              "<table border=\"1\" class=\"dataframe\">\n",
              "  <thead>\n",
              "    <tr style=\"text-align: right;\">\n",
              "      <th></th>\n",
              "      <th>C</th>\n",
              "      <th>A</th>\n",
              "      <th>B</th>\n",
              "    </tr>\n",
              "  </thead>\n",
              "  <tbody>\n",
              "    <tr>\n",
              "      <th>1</th>\n",
              "      <td>30</td>\n",
              "      <td>10</td>\n",
              "      <td>20</td>\n",
              "    </tr>\n",
              "    <tr>\n",
              "      <th>2</th>\n",
              "      <td>60</td>\n",
              "      <td>40</td>\n",
              "      <td>50</td>\n",
              "    </tr>\n",
              "    <tr>\n",
              "      <th>3</th>\n",
              "      <td>90</td>\n",
              "      <td>70</td>\n",
              "      <td>80</td>\n",
              "    </tr>\n",
              "  </tbody>\n",
              "</table>\n",
              "</div>"
            ],
            "text/plain": [
              "    C   A   B\n",
              "1  30  10  20\n",
              "2  60  40  50\n",
              "3  90  70  80"
            ]
          },
          "metadata": {
            "tags": []
          },
          "execution_count": 15
        }
      ]
    },
    {
      "cell_type": "code",
      "metadata": {
        "colab_type": "code",
        "id": "qOroc05REE7q",
        "colab": {
          "base_uri": "https://localhost:8080/",
          "height": 225
        },
        "outputId": "b027ce5b-0623-41e2-d397-419acc1938f8"
      },
      "source": [
        "# 리스트로 부터 생성하기\n",
        "\n",
        "values = [\n",
        "  ['2019-10', 17213058, 17695770, 7691742, 5811352, 4966225],\n",
        "  ['2019-11', 15767139, 18344561, 9932071, 5760428, 2329041],\n",
        "  ['2019-12', 14289812, 14807176, 12660962, 6626276, 8914585],\n",
        "  ['2020-01', 4972074, 11391979, 9596229, 5834792, 3650543],\n",
        "  ['2020-02', 23522875, 4874541, 4993788, 2757485, 5236393],\n",
        "  ['2020-03', 25040023, 17347968, 6374132, 3168658, 6835417],\n",
        "]\n",
        "\n",
        "df = pd.DataFrame(values)\n",
        "df"
      ],
      "execution_count": 16,
      "outputs": [
        {
          "output_type": "execute_result",
          "data": {
            "text/html": [
              "<div>\n",
              "<style scoped>\n",
              "    .dataframe tbody tr th:only-of-type {\n",
              "        vertical-align: middle;\n",
              "    }\n",
              "\n",
              "    .dataframe tbody tr th {\n",
              "        vertical-align: top;\n",
              "    }\n",
              "\n",
              "    .dataframe thead th {\n",
              "        text-align: right;\n",
              "    }\n",
              "</style>\n",
              "<table border=\"1\" class=\"dataframe\">\n",
              "  <thead>\n",
              "    <tr style=\"text-align: right;\">\n",
              "      <th></th>\n",
              "      <th>0</th>\n",
              "      <th>1</th>\n",
              "      <th>2</th>\n",
              "      <th>3</th>\n",
              "      <th>4</th>\n",
              "      <th>5</th>\n",
              "    </tr>\n",
              "  </thead>\n",
              "  <tbody>\n",
              "    <tr>\n",
              "      <th>0</th>\n",
              "      <td>2019-10</td>\n",
              "      <td>17213058</td>\n",
              "      <td>17695770</td>\n",
              "      <td>7691742</td>\n",
              "      <td>5811352</td>\n",
              "      <td>4966225</td>\n",
              "    </tr>\n",
              "    <tr>\n",
              "      <th>1</th>\n",
              "      <td>2019-11</td>\n",
              "      <td>15767139</td>\n",
              "      <td>18344561</td>\n",
              "      <td>9932071</td>\n",
              "      <td>5760428</td>\n",
              "      <td>2329041</td>\n",
              "    </tr>\n",
              "    <tr>\n",
              "      <th>2</th>\n",
              "      <td>2019-12</td>\n",
              "      <td>14289812</td>\n",
              "      <td>14807176</td>\n",
              "      <td>12660962</td>\n",
              "      <td>6626276</td>\n",
              "      <td>8914585</td>\n",
              "    </tr>\n",
              "    <tr>\n",
              "      <th>3</th>\n",
              "      <td>2020-01</td>\n",
              "      <td>4972074</td>\n",
              "      <td>11391979</td>\n",
              "      <td>9596229</td>\n",
              "      <td>5834792</td>\n",
              "      <td>3650543</td>\n",
              "    </tr>\n",
              "    <tr>\n",
              "      <th>4</th>\n",
              "      <td>2020-02</td>\n",
              "      <td>23522875</td>\n",
              "      <td>4874541</td>\n",
              "      <td>4993788</td>\n",
              "      <td>2757485</td>\n",
              "      <td>5236393</td>\n",
              "    </tr>\n",
              "    <tr>\n",
              "      <th>5</th>\n",
              "      <td>2020-03</td>\n",
              "      <td>25040023</td>\n",
              "      <td>17347968</td>\n",
              "      <td>6374132</td>\n",
              "      <td>3168658</td>\n",
              "      <td>6835417</td>\n",
              "    </tr>\n",
              "  </tbody>\n",
              "</table>\n",
              "</div>"
            ],
            "text/plain": [
              "         0         1         2         3        4        5\n",
              "0  2019-10  17213058  17695770   7691742  5811352  4966225\n",
              "1  2019-11  15767139  18344561   9932071  5760428  2329041\n",
              "2  2019-12  14289812  14807176  12660962  6626276  8914585\n",
              "3  2020-01   4972074  11391979   9596229  5834792  3650543\n",
              "4  2020-02  23522875   4874541   4993788  2757485  5236393\n",
              "5  2020-03  25040023  17347968   6374132  3168658  6835417"
            ]
          },
          "metadata": {
            "tags": []
          },
          "execution_count": 16
        }
      ]
    },
    {
      "cell_type": "code",
      "metadata": {
        "colab_type": "code",
        "id": "0M8xGYC_EE7t",
        "colab": {
          "base_uri": "https://localhost:8080/",
          "height": 225
        },
        "outputId": "eceabd5b-b730-4560-80d9-08da00b53d10"
      },
      "source": [
        "# DataFrame을 생성하면서 컬럼 지정하기\n",
        "\n",
        "cols = ['날짜', '삼성전자', 'LG전자', '현대자동차', 'SK텔레콤', 'KT']\n",
        "df = pd.DataFrame(values, columns=cols)\n",
        "df"
      ],
      "execution_count": 17,
      "outputs": [
        {
          "output_type": "execute_result",
          "data": {
            "text/html": [
              "<div>\n",
              "<style scoped>\n",
              "    .dataframe tbody tr th:only-of-type {\n",
              "        vertical-align: middle;\n",
              "    }\n",
              "\n",
              "    .dataframe tbody tr th {\n",
              "        vertical-align: top;\n",
              "    }\n",
              "\n",
              "    .dataframe thead th {\n",
              "        text-align: right;\n",
              "    }\n",
              "</style>\n",
              "<table border=\"1\" class=\"dataframe\">\n",
              "  <thead>\n",
              "    <tr style=\"text-align: right;\">\n",
              "      <th></th>\n",
              "      <th>날짜</th>\n",
              "      <th>삼성전자</th>\n",
              "      <th>LG전자</th>\n",
              "      <th>현대자동차</th>\n",
              "      <th>SK텔레콤</th>\n",
              "      <th>KT</th>\n",
              "    </tr>\n",
              "  </thead>\n",
              "  <tbody>\n",
              "    <tr>\n",
              "      <th>0</th>\n",
              "      <td>2019-10</td>\n",
              "      <td>17213058</td>\n",
              "      <td>17695770</td>\n",
              "      <td>7691742</td>\n",
              "      <td>5811352</td>\n",
              "      <td>4966225</td>\n",
              "    </tr>\n",
              "    <tr>\n",
              "      <th>1</th>\n",
              "      <td>2019-11</td>\n",
              "      <td>15767139</td>\n",
              "      <td>18344561</td>\n",
              "      <td>9932071</td>\n",
              "      <td>5760428</td>\n",
              "      <td>2329041</td>\n",
              "    </tr>\n",
              "    <tr>\n",
              "      <th>2</th>\n",
              "      <td>2019-12</td>\n",
              "      <td>14289812</td>\n",
              "      <td>14807176</td>\n",
              "      <td>12660962</td>\n",
              "      <td>6626276</td>\n",
              "      <td>8914585</td>\n",
              "    </tr>\n",
              "    <tr>\n",
              "      <th>3</th>\n",
              "      <td>2020-01</td>\n",
              "      <td>4972074</td>\n",
              "      <td>11391979</td>\n",
              "      <td>9596229</td>\n",
              "      <td>5834792</td>\n",
              "      <td>3650543</td>\n",
              "    </tr>\n",
              "    <tr>\n",
              "      <th>4</th>\n",
              "      <td>2020-02</td>\n",
              "      <td>23522875</td>\n",
              "      <td>4874541</td>\n",
              "      <td>4993788</td>\n",
              "      <td>2757485</td>\n",
              "      <td>5236393</td>\n",
              "    </tr>\n",
              "    <tr>\n",
              "      <th>5</th>\n",
              "      <td>2020-03</td>\n",
              "      <td>25040023</td>\n",
              "      <td>17347968</td>\n",
              "      <td>6374132</td>\n",
              "      <td>3168658</td>\n",
              "      <td>6835417</td>\n",
              "    </tr>\n",
              "  </tbody>\n",
              "</table>\n",
              "</div>"
            ],
            "text/plain": [
              "        날짜      삼성전자      LG전자     현대자동차    SK텔레콤       KT\n",
              "0  2019-10  17213058  17695770   7691742  5811352  4966225\n",
              "1  2019-11  15767139  18344561   9932071  5760428  2329041\n",
              "2  2019-12  14289812  14807176  12660962  6626276  8914585\n",
              "3  2020-01   4972074  11391979   9596229  5834792  3650543\n",
              "4  2020-02  23522875   4874541   4993788  2757485  5236393\n",
              "5  2020-03  25040023  17347968   6374132  3168658  6835417"
            ]
          },
          "metadata": {
            "tags": []
          },
          "execution_count": 17
        }
      ]
    },
    {
      "cell_type": "code",
      "metadata": {
        "colab_type": "code",
        "id": "_KviYmboEE7y",
        "colab": {
          "base_uri": "https://localhost:8080/",
          "height": 225
        },
        "outputId": "e2fb6c6a-ebcb-40f3-c36b-9dfd63b0af84"
      },
      "source": [
        "# 딕셔너리로 부터 생성\n",
        "values = {\n",
        "    '날짜': ['2019-10', '2019-11', '2019-12', '2020-01', '2020-02', '2020-03'],\n",
        "    '삼성전자': [17213058, 15767139, 14289812,  4972074, 23522875, 25040023], \n",
        "    'LG전자': [17695770, 18344561, 14807176, 11391979,  4874541, 17347968],\n",
        "    '현대자동차': [ 7691742,  9932071, 12660962,  9596229,  4993788,  6374132],\n",
        "    'SK텔레콤' : [5811352, 5760428, 6626276, 5834792, 2757485, 3168658],\n",
        "    'KT': [4966225, 2329041, 8914585, 3650543, 5236393, 6835417],\n",
        "}\n",
        "\n",
        "df = pd.DataFrame(values)\n",
        "df"
      ],
      "execution_count": 18,
      "outputs": [
        {
          "output_type": "execute_result",
          "data": {
            "text/html": [
              "<div>\n",
              "<style scoped>\n",
              "    .dataframe tbody tr th:only-of-type {\n",
              "        vertical-align: middle;\n",
              "    }\n",
              "\n",
              "    .dataframe tbody tr th {\n",
              "        vertical-align: top;\n",
              "    }\n",
              "\n",
              "    .dataframe thead th {\n",
              "        text-align: right;\n",
              "    }\n",
              "</style>\n",
              "<table border=\"1\" class=\"dataframe\">\n",
              "  <thead>\n",
              "    <tr style=\"text-align: right;\">\n",
              "      <th></th>\n",
              "      <th>날짜</th>\n",
              "      <th>삼성전자</th>\n",
              "      <th>LG전자</th>\n",
              "      <th>현대자동차</th>\n",
              "      <th>SK텔레콤</th>\n",
              "      <th>KT</th>\n",
              "    </tr>\n",
              "  </thead>\n",
              "  <tbody>\n",
              "    <tr>\n",
              "      <th>0</th>\n",
              "      <td>2019-10</td>\n",
              "      <td>17213058</td>\n",
              "      <td>17695770</td>\n",
              "      <td>7691742</td>\n",
              "      <td>5811352</td>\n",
              "      <td>4966225</td>\n",
              "    </tr>\n",
              "    <tr>\n",
              "      <th>1</th>\n",
              "      <td>2019-11</td>\n",
              "      <td>15767139</td>\n",
              "      <td>18344561</td>\n",
              "      <td>9932071</td>\n",
              "      <td>5760428</td>\n",
              "      <td>2329041</td>\n",
              "    </tr>\n",
              "    <tr>\n",
              "      <th>2</th>\n",
              "      <td>2019-12</td>\n",
              "      <td>14289812</td>\n",
              "      <td>14807176</td>\n",
              "      <td>12660962</td>\n",
              "      <td>6626276</td>\n",
              "      <td>8914585</td>\n",
              "    </tr>\n",
              "    <tr>\n",
              "      <th>3</th>\n",
              "      <td>2020-01</td>\n",
              "      <td>4972074</td>\n",
              "      <td>11391979</td>\n",
              "      <td>9596229</td>\n",
              "      <td>5834792</td>\n",
              "      <td>3650543</td>\n",
              "    </tr>\n",
              "    <tr>\n",
              "      <th>4</th>\n",
              "      <td>2020-02</td>\n",
              "      <td>23522875</td>\n",
              "      <td>4874541</td>\n",
              "      <td>4993788</td>\n",
              "      <td>2757485</td>\n",
              "      <td>5236393</td>\n",
              "    </tr>\n",
              "    <tr>\n",
              "      <th>5</th>\n",
              "      <td>2020-03</td>\n",
              "      <td>25040023</td>\n",
              "      <td>17347968</td>\n",
              "      <td>6374132</td>\n",
              "      <td>3168658</td>\n",
              "      <td>6835417</td>\n",
              "    </tr>\n",
              "  </tbody>\n",
              "</table>\n",
              "</div>"
            ],
            "text/plain": [
              "        날짜      삼성전자      LG전자     현대자동차    SK텔레콤       KT\n",
              "0  2019-10  17213058  17695770   7691742  5811352  4966225\n",
              "1  2019-11  15767139  18344561   9932071  5760428  2329041\n",
              "2  2019-12  14289812  14807176  12660962  6626276  8914585\n",
              "3  2020-01   4972074  11391979   9596229  5834792  3650543\n",
              "4  2020-02  23522875   4874541   4993788  2757485  5236393\n",
              "5  2020-03  25040023  17347968   6374132  3168658  6835417"
            ]
          },
          "metadata": {
            "tags": []
          },
          "execution_count": 18
        }
      ]
    },
    {
      "cell_type": "code",
      "metadata": {
        "colab_type": "code",
        "id": "VTf5h2PcLNMS",
        "colab": {
          "base_uri": "https://localhost:8080/",
          "height": 70
        },
        "outputId": "606f9b7a-e4ab-4c0e-f46d-2ff5e08df351"
      },
      "source": [
        "dates = pd.to_datetime(['2019-10', '2019-11', '2019-12', '2020-01', '2020-02', '2020-03'])\n",
        "dates"
      ],
      "execution_count": 19,
      "outputs": [
        {
          "output_type": "execute_result",
          "data": {
            "text/plain": [
              "DatetimeIndex(['2019-10-01', '2019-11-01', '2019-12-01', '2020-01-01',\n",
              "               '2020-02-01', '2020-03-01'],\n",
              "              dtype='datetime64[ns]', freq=None)"
            ]
          },
          "metadata": {
            "tags": []
          },
          "execution_count": 19
        }
      ]
    },
    {
      "cell_type": "code",
      "metadata": {
        "colab_type": "code",
        "id": "LJge3HhVHlrT",
        "colab": {
          "base_uri": "https://localhost:8080/",
          "height": 225
        },
        "outputId": "f23f7984-b28d-4820-a8a4-7a196c14fdda"
      },
      "source": [
        "# 딕셔너리로 부터 생성\n",
        "# 생성하면서 인덱스를 지정\n",
        "import pandas as pd\n",
        "\n",
        "values = {\n",
        "    '삼성전자': [17213058, 15767139, 14289812,  4972074, 23522875, 25040023], \n",
        "    'LG전자': [17695770, 18344561, 14807176, 11391979,  4874541, 17347968],\n",
        "    '현대자동차': [ 7691742,  9932071, 12660962,  9596229,  4993788,  6374132],\n",
        "    'SK텔레콤' : [5811352, 5760428, 6626276, 5834792, 2757485, 3168658],\n",
        "    'KT': [4966225, 2329041, 8914585, 3650543, 5236393, 6835417],\n",
        "}\n",
        "\n",
        "dates = pd.to_datetime(['2019-10', '2019-11', '2019-12', '2020-01', '2020-02', '2020-03'])\n",
        "df = pd.DataFrame(values, index=dates)\n",
        "df"
      ],
      "execution_count": 20,
      "outputs": [
        {
          "output_type": "execute_result",
          "data": {
            "text/html": [
              "<div>\n",
              "<style scoped>\n",
              "    .dataframe tbody tr th:only-of-type {\n",
              "        vertical-align: middle;\n",
              "    }\n",
              "\n",
              "    .dataframe tbody tr th {\n",
              "        vertical-align: top;\n",
              "    }\n",
              "\n",
              "    .dataframe thead th {\n",
              "        text-align: right;\n",
              "    }\n",
              "</style>\n",
              "<table border=\"1\" class=\"dataframe\">\n",
              "  <thead>\n",
              "    <tr style=\"text-align: right;\">\n",
              "      <th></th>\n",
              "      <th>삼성전자</th>\n",
              "      <th>LG전자</th>\n",
              "      <th>현대자동차</th>\n",
              "      <th>SK텔레콤</th>\n",
              "      <th>KT</th>\n",
              "    </tr>\n",
              "  </thead>\n",
              "  <tbody>\n",
              "    <tr>\n",
              "      <th>2019-10-01</th>\n",
              "      <td>17213058</td>\n",
              "      <td>17695770</td>\n",
              "      <td>7691742</td>\n",
              "      <td>5811352</td>\n",
              "      <td>4966225</td>\n",
              "    </tr>\n",
              "    <tr>\n",
              "      <th>2019-11-01</th>\n",
              "      <td>15767139</td>\n",
              "      <td>18344561</td>\n",
              "      <td>9932071</td>\n",
              "      <td>5760428</td>\n",
              "      <td>2329041</td>\n",
              "    </tr>\n",
              "    <tr>\n",
              "      <th>2019-12-01</th>\n",
              "      <td>14289812</td>\n",
              "      <td>14807176</td>\n",
              "      <td>12660962</td>\n",
              "      <td>6626276</td>\n",
              "      <td>8914585</td>\n",
              "    </tr>\n",
              "    <tr>\n",
              "      <th>2020-01-01</th>\n",
              "      <td>4972074</td>\n",
              "      <td>11391979</td>\n",
              "      <td>9596229</td>\n",
              "      <td>5834792</td>\n",
              "      <td>3650543</td>\n",
              "    </tr>\n",
              "    <tr>\n",
              "      <th>2020-02-01</th>\n",
              "      <td>23522875</td>\n",
              "      <td>4874541</td>\n",
              "      <td>4993788</td>\n",
              "      <td>2757485</td>\n",
              "      <td>5236393</td>\n",
              "    </tr>\n",
              "    <tr>\n",
              "      <th>2020-03-01</th>\n",
              "      <td>25040023</td>\n",
              "      <td>17347968</td>\n",
              "      <td>6374132</td>\n",
              "      <td>3168658</td>\n",
              "      <td>6835417</td>\n",
              "    </tr>\n",
              "  </tbody>\n",
              "</table>\n",
              "</div>"
            ],
            "text/plain": [
              "                삼성전자      LG전자     현대자동차    SK텔레콤       KT\n",
              "2019-10-01  17213058  17695770   7691742  5811352  4966225\n",
              "2019-11-01  15767139  18344561   9932071  5760428  2329041\n",
              "2019-12-01  14289812  14807176  12660962  6626276  8914585\n",
              "2020-01-01   4972074  11391979   9596229  5834792  3650543\n",
              "2020-02-01  23522875   4874541   4993788  2757485  5236393\n",
              "2020-03-01  25040023  17347968   6374132  3168658  6835417"
            ]
          },
          "metadata": {
            "tags": []
          },
          "execution_count": 20
        }
      ]
    },
    {
      "cell_type": "code",
      "metadata": {
        "colab_type": "code",
        "id": "wo9tVRycEE77",
        "colab": {
          "base_uri": "https://localhost:8080/",
          "height": 70
        },
        "outputId": "0d1a7471-5b7d-426f-f331-31848ae25a4f"
      },
      "source": [
        "# 인덱스(index)\n",
        "df.index"
      ],
      "execution_count": 21,
      "outputs": [
        {
          "output_type": "execute_result",
          "data": {
            "text/plain": [
              "DatetimeIndex(['2019-10-01', '2019-11-01', '2019-12-01', '2020-01-01',\n",
              "               '2020-02-01', '2020-03-01'],\n",
              "              dtype='datetime64[ns]', freq=None)"
            ]
          },
          "metadata": {
            "tags": []
          },
          "execution_count": 21
        }
      ]
    },
    {
      "cell_type": "code",
      "metadata": {
        "colab_type": "code",
        "id": "F9iJFJDAEE8A",
        "colab": {
          "base_uri": "https://localhost:8080/",
          "height": 34
        },
        "outputId": "5fd8b997-9db4-4fb8-82db-01a4cc95faac"
      },
      "source": [
        "# 열(column)\n",
        "df.columns"
      ],
      "execution_count": 22,
      "outputs": [
        {
          "output_type": "execute_result",
          "data": {
            "text/plain": [
              "Index(['삼성전자', 'LG전자', '현대자동차', 'SK텔레콤', 'KT'], dtype='object')"
            ]
          },
          "metadata": {
            "tags": []
          },
          "execution_count": 22
        }
      ]
    },
    {
      "cell_type": "code",
      "metadata": {
        "colab_type": "code",
        "id": "ehwAFypAEE8D",
        "colab": {
          "base_uri": "https://localhost:8080/",
          "height": 122
        },
        "outputId": "987f231b-e1a0-4f30-e412-2935ca61ad8a"
      },
      "source": [
        "# 값 (2차원 배열)\n",
        "df.values"
      ],
      "execution_count": 23,
      "outputs": [
        {
          "output_type": "execute_result",
          "data": {
            "text/plain": [
              "array([[17213058, 17695770,  7691742,  5811352,  4966225],\n",
              "       [15767139, 18344561,  9932071,  5760428,  2329041],\n",
              "       [14289812, 14807176, 12660962,  6626276,  8914585],\n",
              "       [ 4972074, 11391979,  9596229,  5834792,  3650543],\n",
              "       [23522875,  4874541,  4993788,  2757485,  5236393],\n",
              "       [25040023, 17347968,  6374132,  3168658,  6835417]])"
            ]
          },
          "metadata": {
            "tags": []
          },
          "execution_count": 23
        }
      ]
    },
    {
      "cell_type": "markdown",
      "metadata": {
        "colab_type": "text",
        "id": "S_PFSOpnEE8H"
      },
      "source": [
        "## df.dtypes\n",
        "df.dtypes - 각 컬럼의 데이터 타입을 확인"
      ]
    },
    {
      "cell_type": "code",
      "metadata": {
        "colab_type": "code",
        "id": "QRXx3KJ-EE8I",
        "colab": {
          "base_uri": "https://localhost:8080/",
          "height": 122
        },
        "outputId": "39125012-42f8-46c1-b600-820a77d22d66"
      },
      "source": [
        "# 열(column)과 타입\n",
        "df.dtypes"
      ],
      "execution_count": 24,
      "outputs": [
        {
          "output_type": "execute_result",
          "data": {
            "text/plain": [
              "삼성전자     int64\n",
              "LG전자     int64\n",
              "현대자동차    int64\n",
              "SK텔레콤    int64\n",
              "KT       int64\n",
              "dtype: object"
            ]
          },
          "metadata": {
            "tags": []
          },
          "execution_count": 24
        }
      ]
    },
    {
      "cell_type": "markdown",
      "metadata": {
        "colab_type": "text",
        "id": "sDWAywZ_EE8L"
      },
      "source": [
        "## DataFrame 데이터 살펴보기"
      ]
    },
    {
      "cell_type": "code",
      "metadata": {
        "colab_type": "code",
        "id": "sBbaTm3nEE8k",
        "colab": {
          "base_uri": "https://localhost:8080/",
          "height": 225
        },
        "outputId": "64a3c6d6-a41f-42a9-efba-ab23af2b72e9"
      },
      "source": [
        "# 전체 살펴보기\n",
        "df "
      ],
      "execution_count": 25,
      "outputs": [
        {
          "output_type": "execute_result",
          "data": {
            "text/html": [
              "<div>\n",
              "<style scoped>\n",
              "    .dataframe tbody tr th:only-of-type {\n",
              "        vertical-align: middle;\n",
              "    }\n",
              "\n",
              "    .dataframe tbody tr th {\n",
              "        vertical-align: top;\n",
              "    }\n",
              "\n",
              "    .dataframe thead th {\n",
              "        text-align: right;\n",
              "    }\n",
              "</style>\n",
              "<table border=\"1\" class=\"dataframe\">\n",
              "  <thead>\n",
              "    <tr style=\"text-align: right;\">\n",
              "      <th></th>\n",
              "      <th>삼성전자</th>\n",
              "      <th>LG전자</th>\n",
              "      <th>현대자동차</th>\n",
              "      <th>SK텔레콤</th>\n",
              "      <th>KT</th>\n",
              "    </tr>\n",
              "  </thead>\n",
              "  <tbody>\n",
              "    <tr>\n",
              "      <th>2019-10-01</th>\n",
              "      <td>17213058</td>\n",
              "      <td>17695770</td>\n",
              "      <td>7691742</td>\n",
              "      <td>5811352</td>\n",
              "      <td>4966225</td>\n",
              "    </tr>\n",
              "    <tr>\n",
              "      <th>2019-11-01</th>\n",
              "      <td>15767139</td>\n",
              "      <td>18344561</td>\n",
              "      <td>9932071</td>\n",
              "      <td>5760428</td>\n",
              "      <td>2329041</td>\n",
              "    </tr>\n",
              "    <tr>\n",
              "      <th>2019-12-01</th>\n",
              "      <td>14289812</td>\n",
              "      <td>14807176</td>\n",
              "      <td>12660962</td>\n",
              "      <td>6626276</td>\n",
              "      <td>8914585</td>\n",
              "    </tr>\n",
              "    <tr>\n",
              "      <th>2020-01-01</th>\n",
              "      <td>4972074</td>\n",
              "      <td>11391979</td>\n",
              "      <td>9596229</td>\n",
              "      <td>5834792</td>\n",
              "      <td>3650543</td>\n",
              "    </tr>\n",
              "    <tr>\n",
              "      <th>2020-02-01</th>\n",
              "      <td>23522875</td>\n",
              "      <td>4874541</td>\n",
              "      <td>4993788</td>\n",
              "      <td>2757485</td>\n",
              "      <td>5236393</td>\n",
              "    </tr>\n",
              "    <tr>\n",
              "      <th>2020-03-01</th>\n",
              "      <td>25040023</td>\n",
              "      <td>17347968</td>\n",
              "      <td>6374132</td>\n",
              "      <td>3168658</td>\n",
              "      <td>6835417</td>\n",
              "    </tr>\n",
              "  </tbody>\n",
              "</table>\n",
              "</div>"
            ],
            "text/plain": [
              "                삼성전자      LG전자     현대자동차    SK텔레콤       KT\n",
              "2019-10-01  17213058  17695770   7691742  5811352  4966225\n",
              "2019-11-01  15767139  18344561   9932071  5760428  2329041\n",
              "2019-12-01  14289812  14807176  12660962  6626276  8914585\n",
              "2020-01-01   4972074  11391979   9596229  5834792  3650543\n",
              "2020-02-01  23522875   4874541   4993788  2757485  5236393\n",
              "2020-03-01  25040023  17347968   6374132  3168658  6835417"
            ]
          },
          "metadata": {
            "tags": []
          },
          "execution_count": 25
        }
      ]
    },
    {
      "cell_type": "markdown",
      "metadata": {
        "colab_type": "text",
        "id": "_dyjPGx3tfVV"
      },
      "source": [
        "len(df) - 행(row)의 수\n"
      ]
    },
    {
      "cell_type": "code",
      "metadata": {
        "colab_type": "code",
        "id": "HyHCbTETEE8V",
        "colab": {
          "base_uri": "https://localhost:8080/",
          "height": 34
        },
        "outputId": "74eba9b0-b2ab-4561-a6fe-ed557d1069a8"
      },
      "source": [
        "# 행(row) 수 (df.shape[0] 와 동일하다)\n",
        "len(df)"
      ],
      "execution_count": 26,
      "outputs": [
        {
          "output_type": "execute_result",
          "data": {
            "text/plain": [
              "6"
            ]
          },
          "metadata": {
            "tags": []
          },
          "execution_count": 26
        }
      ]
    },
    {
      "cell_type": "code",
      "metadata": {
        "colab_type": "code",
        "id": "pLZCbgIVEE8o",
        "colab": {
          "base_uri": "https://localhost:8080/",
          "height": 140
        },
        "outputId": "17acc8cf-9557-47a2-e92c-8148da85e8a3"
      },
      "source": [
        "# 컬럼 살펴보기\n",
        "df.삼성전자 "
      ],
      "execution_count": 27,
      "outputs": [
        {
          "output_type": "execute_result",
          "data": {
            "text/plain": [
              "2019-10-01    17213058\n",
              "2019-11-01    15767139\n",
              "2019-12-01    14289812\n",
              "2020-01-01     4972074\n",
              "2020-02-01    23522875\n",
              "2020-03-01    25040023\n",
              "Name: 삼성전자, dtype: int64"
            ]
          },
          "metadata": {
            "tags": []
          },
          "execution_count": 27
        }
      ]
    },
    {
      "cell_type": "code",
      "metadata": {
        "colab_type": "code",
        "id": "O_xexIgHEE8r",
        "colab": {
          "base_uri": "https://localhost:8080/",
          "height": 140
        },
        "outputId": "ed5ca603-6aac-471c-828d-2e716a0bba66"
      },
      "source": [
        "# 컬럼(Series) 살펴보기\n",
        "df['삼성전자']"
      ],
      "execution_count": 28,
      "outputs": [
        {
          "output_type": "execute_result",
          "data": {
            "text/plain": [
              "2019-10-01    17213058\n",
              "2019-11-01    15767139\n",
              "2019-12-01    14289812\n",
              "2020-01-01     4972074\n",
              "2020-02-01    23522875\n",
              "2020-03-01    25040023\n",
              "Name: 삼성전자, dtype: int64"
            ]
          },
          "metadata": {
            "tags": []
          },
          "execution_count": 28
        }
      ]
    },
    {
      "cell_type": "markdown",
      "metadata": {
        "colab_type": "text",
        "id": "zCW1S-Aitlju"
      },
      "source": [
        "DataFrame 데이터 살펴보기\n",
        "* df.head() - 앞 부분 보기\n",
        "* df.tail() - 뒷 부분 보기\n"
      ]
    },
    {
      "cell_type": "code",
      "metadata": {
        "colab_type": "code",
        "id": "9Lbs7uZmEE8M",
        "colab": {
          "base_uri": "https://localhost:8080/",
          "height": 106
        },
        "outputId": "bcff35bc-8e19-45d2-c039-0d8002728f8b"
      },
      "source": [
        "# 앞 부분 보기 (기본 5행)\n",
        "df.head(2) "
      ],
      "execution_count": 29,
      "outputs": [
        {
          "output_type": "execute_result",
          "data": {
            "text/html": [
              "<div>\n",
              "<style scoped>\n",
              "    .dataframe tbody tr th:only-of-type {\n",
              "        vertical-align: middle;\n",
              "    }\n",
              "\n",
              "    .dataframe tbody tr th {\n",
              "        vertical-align: top;\n",
              "    }\n",
              "\n",
              "    .dataframe thead th {\n",
              "        text-align: right;\n",
              "    }\n",
              "</style>\n",
              "<table border=\"1\" class=\"dataframe\">\n",
              "  <thead>\n",
              "    <tr style=\"text-align: right;\">\n",
              "      <th></th>\n",
              "      <th>삼성전자</th>\n",
              "      <th>LG전자</th>\n",
              "      <th>현대자동차</th>\n",
              "      <th>SK텔레콤</th>\n",
              "      <th>KT</th>\n",
              "    </tr>\n",
              "  </thead>\n",
              "  <tbody>\n",
              "    <tr>\n",
              "      <th>2019-10-01</th>\n",
              "      <td>17213058</td>\n",
              "      <td>17695770</td>\n",
              "      <td>7691742</td>\n",
              "      <td>5811352</td>\n",
              "      <td>4966225</td>\n",
              "    </tr>\n",
              "    <tr>\n",
              "      <th>2019-11-01</th>\n",
              "      <td>15767139</td>\n",
              "      <td>18344561</td>\n",
              "      <td>9932071</td>\n",
              "      <td>5760428</td>\n",
              "      <td>2329041</td>\n",
              "    </tr>\n",
              "  </tbody>\n",
              "</table>\n",
              "</div>"
            ],
            "text/plain": [
              "                삼성전자      LG전자    현대자동차    SK텔레콤       KT\n",
              "2019-10-01  17213058  17695770  7691742  5811352  4966225\n",
              "2019-11-01  15767139  18344561  9932071  5760428  2329041"
            ]
          },
          "metadata": {
            "tags": []
          },
          "execution_count": 29
        }
      ]
    },
    {
      "cell_type": "code",
      "metadata": {
        "colab_type": "code",
        "id": "8iNrRXwIEE8Q",
        "colab": {
          "base_uri": "https://localhost:8080/",
          "height": 106
        },
        "outputId": "d17d5f7e-578d-4265-e72f-6115a1e91bed"
      },
      "source": [
        "# 뒷 부분 보기 (기본 5행)\n",
        "df.tail(2) "
      ],
      "execution_count": 30,
      "outputs": [
        {
          "output_type": "execute_result",
          "data": {
            "text/html": [
              "<div>\n",
              "<style scoped>\n",
              "    .dataframe tbody tr th:only-of-type {\n",
              "        vertical-align: middle;\n",
              "    }\n",
              "\n",
              "    .dataframe tbody tr th {\n",
              "        vertical-align: top;\n",
              "    }\n",
              "\n",
              "    .dataframe thead th {\n",
              "        text-align: right;\n",
              "    }\n",
              "</style>\n",
              "<table border=\"1\" class=\"dataframe\">\n",
              "  <thead>\n",
              "    <tr style=\"text-align: right;\">\n",
              "      <th></th>\n",
              "      <th>삼성전자</th>\n",
              "      <th>LG전자</th>\n",
              "      <th>현대자동차</th>\n",
              "      <th>SK텔레콤</th>\n",
              "      <th>KT</th>\n",
              "    </tr>\n",
              "  </thead>\n",
              "  <tbody>\n",
              "    <tr>\n",
              "      <th>2020-02-01</th>\n",
              "      <td>23522875</td>\n",
              "      <td>4874541</td>\n",
              "      <td>4993788</td>\n",
              "      <td>2757485</td>\n",
              "      <td>5236393</td>\n",
              "    </tr>\n",
              "    <tr>\n",
              "      <th>2020-03-01</th>\n",
              "      <td>25040023</td>\n",
              "      <td>17347968</td>\n",
              "      <td>6374132</td>\n",
              "      <td>3168658</td>\n",
              "      <td>6835417</td>\n",
              "    </tr>\n",
              "  </tbody>\n",
              "</table>\n",
              "</div>"
            ],
            "text/plain": [
              "                삼성전자      LG전자    현대자동차    SK텔레콤       KT\n",
              "2020-02-01  23522875   4874541  4993788  2757485  5236393\n",
              "2020-03-01  25040023  17347968  6374132  3168658  6835417"
            ]
          },
          "metadata": {
            "tags": []
          },
          "execution_count": 30
        }
      ]
    },
    {
      "cell_type": "markdown",
      "metadata": {
        "colab_type": "text",
        "id": "yD8qDy03uHkd"
      },
      "source": [
        "## 컬럼 지정하기"
      ]
    },
    {
      "cell_type": "code",
      "metadata": {
        "colab_type": "code",
        "id": "tWGh4CVgKEVo",
        "colab": {
          "base_uri": "https://localhost:8080/",
          "height": 140
        },
        "outputId": "b9b88ba5-9cfa-4758-8c20-de26eb64cc18"
      },
      "source": [
        "df.KT"
      ],
      "execution_count": 31,
      "outputs": [
        {
          "output_type": "execute_result",
          "data": {
            "text/plain": [
              "2019-10-01    4966225\n",
              "2019-11-01    2329041\n",
              "2019-12-01    8914585\n",
              "2020-01-01    3650543\n",
              "2020-02-01    5236393\n",
              "2020-03-01    6835417\n",
              "Name: KT, dtype: int64"
            ]
          },
          "metadata": {
            "tags": []
          },
          "execution_count": 31
        }
      ]
    },
    {
      "cell_type": "code",
      "metadata": {
        "colab_type": "code",
        "id": "qeq9cSeKKIM2",
        "colab": {
          "base_uri": "https://localhost:8080/",
          "height": 140
        },
        "outputId": "845f0ac7-5129-434b-b244-fd62d8eff15e"
      },
      "source": [
        "df['KT']"
      ],
      "execution_count": 32,
      "outputs": [
        {
          "output_type": "execute_result",
          "data": {
            "text/plain": [
              "2019-10-01    4966225\n",
              "2019-11-01    2329041\n",
              "2019-12-01    8914585\n",
              "2020-01-01    3650543\n",
              "2020-02-01    5236393\n",
              "2020-03-01    6835417\n",
              "Name: KT, dtype: int64"
            ]
          },
          "metadata": {
            "tags": []
          },
          "execution_count": 32
        }
      ]
    },
    {
      "cell_type": "code",
      "metadata": {
        "colab_type": "code",
        "id": "OfZrQqjCK4TT",
        "colab": {
          "base_uri": "https://localhost:8080/",
          "height": 122
        },
        "outputId": "e9a30a94-9a80-4325-baea-8ae0221d87fd"
      },
      "source": [
        "df.values"
      ],
      "execution_count": 33,
      "outputs": [
        {
          "output_type": "execute_result",
          "data": {
            "text/plain": [
              "array([[17213058, 17695770,  7691742,  5811352,  4966225],\n",
              "       [15767139, 18344561,  9932071,  5760428,  2329041],\n",
              "       [14289812, 14807176, 12660962,  6626276,  8914585],\n",
              "       [ 4972074, 11391979,  9596229,  5834792,  3650543],\n",
              "       [23522875,  4874541,  4993788,  2757485,  5236393],\n",
              "       [25040023, 17347968,  6374132,  3168658,  6835417]])"
            ]
          },
          "metadata": {
            "tags": []
          },
          "execution_count": 33
        }
      ]
    },
    {
      "cell_type": "code",
      "metadata": {
        "colab_type": "code",
        "id": "B1NNDlsopj14",
        "colab": {
          "base_uri": "https://localhost:8080/",
          "height": 34
        },
        "outputId": "3fbf8b41-9448-4d9b-e87e-e98bc9e7a0e1"
      },
      "source": [
        "df.KT.values"
      ],
      "execution_count": 34,
      "outputs": [
        {
          "output_type": "execute_result",
          "data": {
            "text/plain": [
              "array([4966225, 2329041, 8914585, 3650543, 5236393, 6835417])"
            ]
          },
          "metadata": {
            "tags": []
          },
          "execution_count": 34
        }
      ]
    },
    {
      "cell_type": "markdown",
      "metadata": {
        "colab_type": "text",
        "id": "3vIr3WZAEE8Z"
      },
      "source": [
        "## 데이터 요약 - df.describe()"
      ]
    },
    {
      "cell_type": "code",
      "metadata": {
        "colab_type": "code",
        "id": "HS5KYUStEE8b",
        "colab": {
          "base_uri": "https://localhost:8080/",
          "height": 284
        },
        "outputId": "c332d7d4-8a5d-4524-a3f8-8ee087c65bf5"
      },
      "source": [
        "# 모든 컬럼의 기술통계(descriptive stats) 값\n",
        "df.describe()"
      ],
      "execution_count": 35,
      "outputs": [
        {
          "output_type": "execute_result",
          "data": {
            "text/html": [
              "<div>\n",
              "<style scoped>\n",
              "    .dataframe tbody tr th:only-of-type {\n",
              "        vertical-align: middle;\n",
              "    }\n",
              "\n",
              "    .dataframe tbody tr th {\n",
              "        vertical-align: top;\n",
              "    }\n",
              "\n",
              "    .dataframe thead th {\n",
              "        text-align: right;\n",
              "    }\n",
              "</style>\n",
              "<table border=\"1\" class=\"dataframe\">\n",
              "  <thead>\n",
              "    <tr style=\"text-align: right;\">\n",
              "      <th></th>\n",
              "      <th>삼성전자</th>\n",
              "      <th>LG전자</th>\n",
              "      <th>현대자동차</th>\n",
              "      <th>SK텔레콤</th>\n",
              "      <th>KT</th>\n",
              "    </tr>\n",
              "  </thead>\n",
              "  <tbody>\n",
              "    <tr>\n",
              "      <th>count</th>\n",
              "      <td>6.000000e+00</td>\n",
              "      <td>6.000000e+00</td>\n",
              "      <td>6.000000e+00</td>\n",
              "      <td>6.000000e+00</td>\n",
              "      <td>6.000000e+00</td>\n",
              "    </tr>\n",
              "    <tr>\n",
              "      <th>mean</th>\n",
              "      <td>1.680083e+07</td>\n",
              "      <td>1.407700e+07</td>\n",
              "      <td>8.541487e+06</td>\n",
              "      <td>4.993165e+06</td>\n",
              "      <td>5.322034e+06</td>\n",
              "    </tr>\n",
              "    <tr>\n",
              "      <th>std</th>\n",
              "      <td>7.218495e+06</td>\n",
              "      <td>5.185259e+06</td>\n",
              "      <td>2.757606e+06</td>\n",
              "      <td>1.610006e+06</td>\n",
              "      <td>2.327341e+06</td>\n",
              "    </tr>\n",
              "    <tr>\n",
              "      <th>min</th>\n",
              "      <td>4.972074e+06</td>\n",
              "      <td>4.874541e+06</td>\n",
              "      <td>4.993788e+06</td>\n",
              "      <td>2.757485e+06</td>\n",
              "      <td>2.329041e+06</td>\n",
              "    </tr>\n",
              "    <tr>\n",
              "      <th>25%</th>\n",
              "      <td>1.465914e+07</td>\n",
              "      <td>1.224578e+07</td>\n",
              "      <td>6.703534e+06</td>\n",
              "      <td>3.816600e+06</td>\n",
              "      <td>3.979464e+06</td>\n",
              "    </tr>\n",
              "    <tr>\n",
              "      <th>50%</th>\n",
              "      <td>1.649010e+07</td>\n",
              "      <td>1.607757e+07</td>\n",
              "      <td>8.643986e+06</td>\n",
              "      <td>5.785890e+06</td>\n",
              "      <td>5.101309e+06</td>\n",
              "    </tr>\n",
              "    <tr>\n",
              "      <th>75%</th>\n",
              "      <td>2.194542e+07</td>\n",
              "      <td>1.760882e+07</td>\n",
              "      <td>9.848110e+06</td>\n",
              "      <td>5.828932e+06</td>\n",
              "      <td>6.435661e+06</td>\n",
              "    </tr>\n",
              "    <tr>\n",
              "      <th>max</th>\n",
              "      <td>2.504002e+07</td>\n",
              "      <td>1.834456e+07</td>\n",
              "      <td>1.266096e+07</td>\n",
              "      <td>6.626276e+06</td>\n",
              "      <td>8.914585e+06</td>\n",
              "    </tr>\n",
              "  </tbody>\n",
              "</table>\n",
              "</div>"
            ],
            "text/plain": [
              "               삼성전자          LG전자         현대자동차         SK텔레콤            KT\n",
              "count  6.000000e+00  6.000000e+00  6.000000e+00  6.000000e+00  6.000000e+00\n",
              "mean   1.680083e+07  1.407700e+07  8.541487e+06  4.993165e+06  5.322034e+06\n",
              "std    7.218495e+06  5.185259e+06  2.757606e+06  1.610006e+06  2.327341e+06\n",
              "min    4.972074e+06  4.874541e+06  4.993788e+06  2.757485e+06  2.329041e+06\n",
              "25%    1.465914e+07  1.224578e+07  6.703534e+06  3.816600e+06  3.979464e+06\n",
              "50%    1.649010e+07  1.607757e+07  8.643986e+06  5.785890e+06  5.101309e+06\n",
              "75%    2.194542e+07  1.760882e+07  9.848110e+06  5.828932e+06  6.435661e+06\n",
              "max    2.504002e+07  1.834456e+07  1.266096e+07  6.626276e+06  8.914585e+06"
            ]
          },
          "metadata": {
            "tags": []
          },
          "execution_count": 35
        }
      ]
    },
    {
      "cell_type": "markdown",
      "metadata": {
        "colab_type": "text",
        "id": "IRiCtb5oEE8y"
      },
      "source": [
        "## 인덱스 기반 조회\n",
        "* loc: 라벨 인덱싱\n",
        "* iloc: 정수 인덱싱"
      ]
    },
    {
      "cell_type": "code",
      "metadata": {
        "id": "f1rCFOowKesT",
        "colab_type": "code",
        "colab": {
          "base_uri": "https://localhost:8080/",
          "height": 225
        },
        "outputId": "44cad846-5af8-4a87-a3d5-2f226bb96021"
      },
      "source": [
        "df"
      ],
      "execution_count": 36,
      "outputs": [
        {
          "output_type": "execute_result",
          "data": {
            "text/html": [
              "<div>\n",
              "<style scoped>\n",
              "    .dataframe tbody tr th:only-of-type {\n",
              "        vertical-align: middle;\n",
              "    }\n",
              "\n",
              "    .dataframe tbody tr th {\n",
              "        vertical-align: top;\n",
              "    }\n",
              "\n",
              "    .dataframe thead th {\n",
              "        text-align: right;\n",
              "    }\n",
              "</style>\n",
              "<table border=\"1\" class=\"dataframe\">\n",
              "  <thead>\n",
              "    <tr style=\"text-align: right;\">\n",
              "      <th></th>\n",
              "      <th>삼성전자</th>\n",
              "      <th>LG전자</th>\n",
              "      <th>현대자동차</th>\n",
              "      <th>SK텔레콤</th>\n",
              "      <th>KT</th>\n",
              "    </tr>\n",
              "  </thead>\n",
              "  <tbody>\n",
              "    <tr>\n",
              "      <th>2019-10-01</th>\n",
              "      <td>17213058</td>\n",
              "      <td>17695770</td>\n",
              "      <td>7691742</td>\n",
              "      <td>5811352</td>\n",
              "      <td>4966225</td>\n",
              "    </tr>\n",
              "    <tr>\n",
              "      <th>2019-11-01</th>\n",
              "      <td>15767139</td>\n",
              "      <td>18344561</td>\n",
              "      <td>9932071</td>\n",
              "      <td>5760428</td>\n",
              "      <td>2329041</td>\n",
              "    </tr>\n",
              "    <tr>\n",
              "      <th>2019-12-01</th>\n",
              "      <td>14289812</td>\n",
              "      <td>14807176</td>\n",
              "      <td>12660962</td>\n",
              "      <td>6626276</td>\n",
              "      <td>8914585</td>\n",
              "    </tr>\n",
              "    <tr>\n",
              "      <th>2020-01-01</th>\n",
              "      <td>4972074</td>\n",
              "      <td>11391979</td>\n",
              "      <td>9596229</td>\n",
              "      <td>5834792</td>\n",
              "      <td>3650543</td>\n",
              "    </tr>\n",
              "    <tr>\n",
              "      <th>2020-02-01</th>\n",
              "      <td>23522875</td>\n",
              "      <td>4874541</td>\n",
              "      <td>4993788</td>\n",
              "      <td>2757485</td>\n",
              "      <td>5236393</td>\n",
              "    </tr>\n",
              "    <tr>\n",
              "      <th>2020-03-01</th>\n",
              "      <td>25040023</td>\n",
              "      <td>17347968</td>\n",
              "      <td>6374132</td>\n",
              "      <td>3168658</td>\n",
              "      <td>6835417</td>\n",
              "    </tr>\n",
              "  </tbody>\n",
              "</table>\n",
              "</div>"
            ],
            "text/plain": [
              "                삼성전자      LG전자     현대자동차    SK텔레콤       KT\n",
              "2019-10-01  17213058  17695770   7691742  5811352  4966225\n",
              "2019-11-01  15767139  18344561   9932071  5760428  2329041\n",
              "2019-12-01  14289812  14807176  12660962  6626276  8914585\n",
              "2020-01-01   4972074  11391979   9596229  5834792  3650543\n",
              "2020-02-01  23522875   4874541   4993788  2757485  5236393\n",
              "2020-03-01  25040023  17347968   6374132  3168658  6835417"
            ]
          },
          "metadata": {
            "tags": []
          },
          "execution_count": 36
        }
      ]
    },
    {
      "cell_type": "code",
      "metadata": {
        "colab_type": "code",
        "id": "qxTVugXV0tfG",
        "colab": {}
      },
      "source": [
        "# 특정 날짜를 지정\n",
        "df.loc['2020-01-01']"
      ],
      "execution_count": null,
      "outputs": []
    },
    {
      "cell_type": "code",
      "metadata": {
        "colab_type": "code",
        "id": "fqFL77C60taW",
        "colab": {}
      },
      "source": [
        "# 컬럼을 추출\n",
        "\n",
        "df.loc[:, ['SK텔레콤','KT']]"
      ],
      "execution_count": null,
      "outputs": []
    },
    {
      "cell_type": "code",
      "metadata": {
        "colab_type": "code",
        "id": "zEQNUGc00tUl",
        "colab": {}
      },
      "source": [
        "# 날짜의 범위를 지정\n",
        "df.loc['20200101': '20200229',['SK텔레콤','KT']]"
      ],
      "execution_count": null,
      "outputs": []
    },
    {
      "cell_type": "code",
      "metadata": {
        "colab_type": "code",
        "id": "-jszfwaG3hoZ",
        "colab": {}
      },
      "source": [
        "df.loc[:, ['삼성전자','KT']] # 모든 로우, 컬럼 '삼성전자','KT' 선택"
      ],
      "execution_count": null,
      "outputs": []
    },
    {
      "cell_type": "code",
      "metadata": {
        "colab_type": "code",
        "id": "6-kCrzxl1fUD",
        "colab": {}
      },
      "source": [
        "# 특정 행을 지정 (결과는 Series가 됩니다)\n",
        "df.loc['20200101', ['SK텔레콤','KT']]"
      ],
      "execution_count": null,
      "outputs": []
    },
    {
      "cell_type": "code",
      "metadata": {
        "colab_type": "code",
        "id": "mu0VuCs31fOr",
        "colab": {}
      },
      "source": [
        "# 특정 값 하나를 얻습니다.\n",
        "df.loc['20200101', '현대자동차']"
      ],
      "execution_count": null,
      "outputs": []
    },
    {
      "cell_type": "code",
      "metadata": {
        "colab_type": "code",
        "id": "YWBqxD3h1fJU",
        "colab": {}
      },
      "source": [
        "# 특정 값 하나를 얻습니다. (동일한 표현입니다. 값 1개만 찾을때 사용하며 속도가 더 빠릅니다)\n",
        "df.at['20200101', '현대자동차']"
      ],
      "execution_count": null,
      "outputs": []
    },
    {
      "cell_type": "code",
      "metadata": {
        "colab_type": "code",
        "id": "3u1XiltIEE8z",
        "colab": {}
      },
      "source": [
        "df.iloc[1] # 1 행(두번째 행)"
      ],
      "execution_count": null,
      "outputs": []
    },
    {
      "cell_type": "code",
      "metadata": {
        "colab_type": "code",
        "id": "-2JNEmWYEE8_",
        "colab": {}
      },
      "source": [
        "df.iloc[1:3] # 1~2행"
      ],
      "execution_count": null,
      "outputs": []
    },
    {
      "cell_type": "code",
      "metadata": {
        "colab_type": "code",
        "id": "Cbi2OF2DEE9C",
        "colab": {}
      },
      "source": [
        "#첫번째 행(row), 첫번째 열(column)\n",
        "df.iloc[0,0]"
      ],
      "execution_count": null,
      "outputs": []
    },
    {
      "cell_type": "code",
      "metadata": {
        "colab_type": "code",
        "id": "-o0MrIgsEE9F",
        "colab": {}
      },
      "source": [
        "# 처음 4개 행(row), 처음 2개 열(column)\n",
        "df.iloc[0:4, :2]"
      ],
      "execution_count": null,
      "outputs": []
    },
    {
      "cell_type": "code",
      "metadata": {
        "colab_type": "code",
        "id": "yPn-DNu42uZg",
        "colab": {}
      },
      "source": [
        "# 특정 행을 지정하고, 컬럼의 범위를 지정\n",
        "df.iloc[[5, 2], 1:3]"
      ],
      "execution_count": null,
      "outputs": []
    },
    {
      "cell_type": "markdown",
      "metadata": {
        "colab_type": "text",
        "id": "9Bv83K4nEE9N"
      },
      "source": [
        "# 컬럼 연산\n",
        "* 컬럼 추가\n",
        "* 컬럼간 사칙연산\n",
        "* 컬럼 삭제 (del)"
      ]
    },
    {
      "cell_type": "code",
      "metadata": {
        "id": "qYKTmhDdKes5",
        "colab_type": "code",
        "colab": {}
      },
      "source": [
        "df"
      ],
      "execution_count": null,
      "outputs": []
    },
    {
      "cell_type": "code",
      "metadata": {
        "colab_type": "code",
        "id": "nINs20OfEE9K",
        "colab": {}
      },
      "source": [
        "# 컬럼 추가\n",
        "\n",
        "df['텔레콤_합계'] = 0  \n",
        "df"
      ],
      "execution_count": null,
      "outputs": []
    },
    {
      "cell_type": "code",
      "metadata": {
        "colab_type": "code",
        "id": "J8y79Q4eEE9P",
        "colab": {}
      },
      "source": [
        "# 컬럼 덧셈하여 결과를 새로운 컬럼으로\n",
        "df['텔레콤_합계'] = df['SK텔레콤'] + df['KT']\n",
        "df"
      ],
      "execution_count": null,
      "outputs": []
    },
    {
      "cell_type": "code",
      "metadata": {
        "colab_type": "code",
        "id": "nuZZlsOC5Y9U",
        "colab": {}
      },
      "source": [
        "df['전자_합계'] = df['삼성전자'] + df['LG전자']\n",
        "df"
      ],
      "execution_count": null,
      "outputs": []
    },
    {
      "cell_type": "markdown",
      "metadata": {
        "colab_type": "text",
        "id": "KuIyzMrpEE9T"
      },
      "source": [
        "## 컬럼 단위 데이터 변경\n"
      ]
    },
    {
      "cell_type": "code",
      "metadata": {
        "colab_type": "code",
        "id": "5ZRsKjvZ5FVI",
        "colab": {}
      },
      "source": [
        "# 모든 개별값을 100000으로 나눈 결과를 df에 할당\n",
        "df = df / 100000.\n",
        "df"
      ],
      "execution_count": null,
      "outputs": []
    },
    {
      "cell_type": "markdown",
      "metadata": {
        "colab_type": "text",
        "id": "gPGCAcXrEE9e"
      },
      "source": [
        "## 컬럼 삭제\n",
        "df.drop() 사용하면서 축(axis)를 지정"
      ]
    },
    {
      "cell_type": "code",
      "metadata": {
        "colab_type": "code",
        "id": "moqvHZk5EE9j",
        "colab": {}
      },
      "source": [
        "# 특정 컬럼 삭제\n",
        "df = df.drop('텔레콤_합계', axis=1)\n",
        "df"
      ],
      "execution_count": null,
      "outputs": []
    },
    {
      "cell_type": "code",
      "metadata": {
        "colab_type": "code",
        "id": "-FGhtcSZ2h02",
        "colab": {}
      },
      "source": [
        "# del 명령으로 특정 컬럼 삭제\n",
        "del df['전자_합계']\n",
        "df"
      ],
      "execution_count": null,
      "outputs": []
    },
    {
      "cell_type": "markdown",
      "metadata": {
        "colab_type": "text",
        "id": "TWTyUcYTEE-O"
      },
      "source": [
        "## 부울 인덱스 (데이터 필터링)"
      ]
    },
    {
      "cell_type": "code",
      "metadata": {
        "colab_type": "code",
        "id": "13ftwyPUEE-P",
        "colab": {}
      },
      "source": [
        "df"
      ],
      "execution_count": null,
      "outputs": []
    },
    {
      "cell_type": "code",
      "metadata": {
        "colab_type": "code",
        "id": "nF-Btt_A62Lv",
        "colab": {}
      },
      "source": [
        "df.삼성전자 < 150"
      ],
      "execution_count": null,
      "outputs": []
    },
    {
      "cell_type": "code",
      "metadata": {
        "colab_type": "code",
        "id": "j_7paH_H63xo",
        "colab": {}
      },
      "source": [
        "# '삼성전자'컬럼이 150초과인 행(row) 추출\n",
        "df[df.삼성전자 < 150]"
      ],
      "execution_count": null,
      "outputs": []
    },
    {
      "cell_type": "code",
      "metadata": {
        "colab_type": "code",
        "id": "umI38fpIwMxC",
        "colab": {}
      },
      "source": [
        "df.삼성전자.mean()"
      ],
      "execution_count": null,
      "outputs": []
    },
    {
      "cell_type": "code",
      "metadata": {
        "colab_type": "code",
        "id": "IOqP0GLnvbEh",
        "colab": {}
      },
      "source": [
        "# 삼성전자 컬럼의 값이 평균보다 큰 행(row) 추출 \n",
        "df[df.삼성전자 > df.삼성전자.mean()]"
      ],
      "execution_count": null,
      "outputs": []
    },
    {
      "cell_type": "markdown",
      "metadata": {
        "colab_type": "text",
        "id": "Y19cmBvZEE-R"
      },
      "source": [
        "## 다수의 조건으로 필터링하기"
      ]
    },
    {
      "cell_type": "code",
      "metadata": {
        "colab_type": "code",
        "id": "jXjMTrYkEE-R",
        "colab": {}
      },
      "source": [
        "df"
      ],
      "execution_count": null,
      "outputs": []
    },
    {
      "cell_type": "code",
      "metadata": {
        "colab_type": "code",
        "id": "ZWTBJMDBEE-U",
        "colab": {}
      },
      "source": [
        "(150 < df.삼성전자 ) & (df.삼성전자 < 200)"
      ],
      "execution_count": null,
      "outputs": []
    },
    {
      "cell_type": "code",
      "metadata": {
        "colab_type": "code",
        "id": "BVfl7uqMEE-W",
        "colab": {}
      },
      "source": [
        "df[(150 < df.삼성전자 ) & (df.삼성전자 < 200)]"
      ],
      "execution_count": null,
      "outputs": []
    },
    {
      "cell_type": "markdown",
      "metadata": {
        "colab_type": "text",
        "id": "YV-EvzhKwTeW"
      },
      "source": [
        "## df.query()\n",
        "\n",
        "```python\n",
        "df.query('쿼리문자열')\n",
        "```"
      ]
    },
    {
      "cell_type": "code",
      "metadata": {
        "colab_type": "code",
        "id": "4xrGsj448Jbh",
        "colab": {}
      },
      "source": [
        "df.query('150 < 삼성전자 < 200')"
      ],
      "execution_count": null,
      "outputs": []
    },
    {
      "cell_type": "code",
      "metadata": {
        "colab_type": "code",
        "id": "GLDG0uxUwZ3i",
        "colab": {}
      },
      "source": [
        "df.query('삼성전자 > 삼성전자.mean() and  LG전자 > LG전자.mean()')"
      ],
      "execution_count": null,
      "outputs": []
    },
    {
      "cell_type": "markdown",
      "metadata": {
        "colab_type": "text",
        "id": "HmblevZuEE-d"
      },
      "source": [
        "## 데이터 소트하기"
      ]
    },
    {
      "cell_type": "code",
      "metadata": {
        "colab_type": "code",
        "id": "A7ktv_B7EE-f",
        "colab": {}
      },
      "source": [
        "df.sort_index(ascending=False) "
      ],
      "execution_count": null,
      "outputs": []
    },
    {
      "cell_type": "code",
      "metadata": {
        "colab_type": "code",
        "id": "jH9bHsivEE-l",
        "colab": {}
      },
      "source": [
        "df.sort_values(by='삼성전자', ascending=False) "
      ],
      "execution_count": null,
      "outputs": []
    },
    {
      "cell_type": "markdown",
      "metadata": {
        "colab_type": "text",
        "id": "6j8UlCIoMLUv"
      },
      "source": [
        "## 차트 그리기 - df.plot()\n",
        "\n",
        "폰트 설치 (한글 폰트가 없다면)\n",
        "* https://hangeul.naver.com/2017/nanum\n"
      ]
    },
    {
      "cell_type": "code",
      "metadata": {
        "colab_type": "code",
        "id": "6s-GRvH3LaQ6",
        "colab": {}
      },
      "source": [
        "# matplotlib 설정\n",
        "import matplotlib.pyplot as plt\n",
        "\n",
        "plt.rcParams[\"font.family\"] = 'NanumBarunGothic'\n",
        "plt.rcParams[\"axes.grid\"] = True\n",
        "plt.rcParams[\"figure.figsize\"] = (10,6)"
      ],
      "execution_count": null,
      "outputs": []
    },
    {
      "cell_type": "code",
      "metadata": {
        "colab_type": "code",
        "id": "xXJz6zgDPd9y",
        "colab": {}
      },
      "source": [
        "# 특정 컬럼만 지정해서 그리기\n",
        "df[['삼성전자', 'LG전자']].plot()"
      ],
      "execution_count": null,
      "outputs": []
    },
    {
      "cell_type": "code",
      "metadata": {
        "colab_type": "code",
        "id": "BWKE9DS1NunL",
        "colab": {}
      },
      "source": [
        "# 크기와 제목 지정하기\n",
        "df.plot(figsize=(10,6), title='광고비(월별)')"
      ],
      "execution_count": null,
      "outputs": []
    },
    {
      "cell_type": "code",
      "metadata": {
        "colab_type": "code",
        "id": "IAyGkBjpT8or",
        "colab": {}
      },
      "source": [
        "# 막대 차트 그리기\n",
        "df.plot.bar()"
      ],
      "execution_count": null,
      "outputs": []
    },
    {
      "cell_type": "markdown",
      "metadata": {
        "colab_type": "text",
        "id": "zwI3a-fk7P_7"
      },
      "source": [
        "## pandas_datareader\n",
        "https://pandas-datareader.readthedocs.io\n"
      ]
    },
    {
      "cell_type": "markdown",
      "metadata": {
        "colab_type": "text",
        "id": "S-8Zf21K7P7a"
      },
      "source": [
        "만일 pandas_datareader가 설치되어 있지 않다면,\n",
        "\n",
        "```bash\n",
        "C:\\users\\plusjune> pip install pandas_datareader\n",
        "```\n"
      ]
    },
    {
      "cell_type": "markdown",
      "metadata": {
        "id": "rhTuUEMJKeuN",
        "colab_type": "text"
      },
      "source": [
        "\n",
        "## FRED에서 환율 데이터 가져오기\n",
        "FRED는 세인트 루이스 연방준비은행((Federal Reserve Bank of St. Louis)에서 제공하는 경제 데이터(Economic Data) 입니다\n",
        "\n",
        "1달러당 원화와 위엔화\n",
        "* https://fred.stlouisfed.org/series/DEXKOUS\n",
        "* https://fred.stlouisfed.org/series/DEXCHUS\n"
      ]
    },
    {
      "cell_type": "code",
      "metadata": {
        "colab_type": "code",
        "id": "qCwjEdwX7YbL",
        "colab": {},
        "outputId": "195f272e-1d74-41b9-8bbb-aa266e0ebda5"
      },
      "source": [
        "import pandas_datareader as pdr\n",
        "\n",
        "# FRED에서 달러당 원화환율 데이터 가져오기\n",
        "df = pdr.DataReader('DEXKOUS', 'fred', '1995', '2021')\n",
        "df"
      ],
      "execution_count": null,
      "outputs": [
        {
          "output_type": "execute_result",
          "data": {
            "text/html": [
              "<div>\n",
              "<style scoped>\n",
              "    .dataframe tbody tr th:only-of-type {\n",
              "        vertical-align: middle;\n",
              "    }\n",
              "\n",
              "    .dataframe tbody tr th {\n",
              "        vertical-align: top;\n",
              "    }\n",
              "\n",
              "    .dataframe thead th {\n",
              "        text-align: right;\n",
              "    }\n",
              "</style>\n",
              "<table border=\"1\" class=\"dataframe\">\n",
              "  <thead>\n",
              "    <tr style=\"text-align: right;\">\n",
              "      <th></th>\n",
              "      <th>DEXKOUS</th>\n",
              "    </tr>\n",
              "    <tr>\n",
              "      <th>DATE</th>\n",
              "      <th></th>\n",
              "    </tr>\n",
              "  </thead>\n",
              "  <tbody>\n",
              "    <tr>\n",
              "      <th>1995-01-02</th>\n",
              "      <td>NaN</td>\n",
              "    </tr>\n",
              "    <tr>\n",
              "      <th>1995-01-03</th>\n",
              "      <td>791.80</td>\n",
              "    </tr>\n",
              "    <tr>\n",
              "      <th>1995-01-04</th>\n",
              "      <td>791.60</td>\n",
              "    </tr>\n",
              "    <tr>\n",
              "      <th>1995-01-05</th>\n",
              "      <td>792.40</td>\n",
              "    </tr>\n",
              "    <tr>\n",
              "      <th>1995-01-06</th>\n",
              "      <td>792.70</td>\n",
              "    </tr>\n",
              "    <tr>\n",
              "      <th>...</th>\n",
              "      <td>...</td>\n",
              "    </tr>\n",
              "    <tr>\n",
              "      <th>2020-06-15</th>\n",
              "      <td>1212.21</td>\n",
              "    </tr>\n",
              "    <tr>\n",
              "      <th>2020-06-16</th>\n",
              "      <td>1207.26</td>\n",
              "    </tr>\n",
              "    <tr>\n",
              "      <th>2020-06-17</th>\n",
              "      <td>1215.02</td>\n",
              "    </tr>\n",
              "    <tr>\n",
              "      <th>2020-06-18</th>\n",
              "      <td>1211.65</td>\n",
              "    </tr>\n",
              "    <tr>\n",
              "      <th>2020-06-19</th>\n",
              "      <td>1208.38</td>\n",
              "    </tr>\n",
              "  </tbody>\n",
              "</table>\n",
              "<p>6645 rows × 1 columns</p>\n",
              "</div>"
            ],
            "text/plain": [
              "            DEXKOUS\n",
              "DATE               \n",
              "1995-01-02      NaN\n",
              "1995-01-03   791.80\n",
              "1995-01-04   791.60\n",
              "1995-01-05   792.40\n",
              "1995-01-06   792.70\n",
              "...             ...\n",
              "2020-06-15  1212.21\n",
              "2020-06-16  1207.26\n",
              "2020-06-17  1215.02\n",
              "2020-06-18  1211.65\n",
              "2020-06-19  1208.38\n",
              "\n",
              "[6645 rows x 1 columns]"
            ]
          },
          "metadata": {
            "tags": []
          },
          "execution_count": 75
        }
      ]
    },
    {
      "cell_type": "code",
      "metadata": {
        "colab_type": "code",
        "id": "Jlzg7Cb87YVn",
        "colab": {},
        "outputId": "66d3912c-45fb-443d-a620-8a29c44b5ba2"
      },
      "source": [
        "import pandas_datareader as pdr\n",
        "\n",
        "# 달러당원화환율(DEXKOUS), 달러당 위엔화환율(DEXCHUS)\n",
        "df = pdr.DataReader(['DEXKOUS', 'DEXCHUS'], 'fred', '1995')\n",
        "df"
      ],
      "execution_count": null,
      "outputs": [
        {
          "output_type": "execute_result",
          "data": {
            "text/html": [
              "<div>\n",
              "<style scoped>\n",
              "    .dataframe tbody tr th:only-of-type {\n",
              "        vertical-align: middle;\n",
              "    }\n",
              "\n",
              "    .dataframe tbody tr th {\n",
              "        vertical-align: top;\n",
              "    }\n",
              "\n",
              "    .dataframe thead th {\n",
              "        text-align: right;\n",
              "    }\n",
              "</style>\n",
              "<table border=\"1\" class=\"dataframe\">\n",
              "  <thead>\n",
              "    <tr style=\"text-align: right;\">\n",
              "      <th></th>\n",
              "      <th>DEXKOUS</th>\n",
              "      <th>DEXCHUS</th>\n",
              "    </tr>\n",
              "    <tr>\n",
              "      <th>DATE</th>\n",
              "      <th></th>\n",
              "      <th></th>\n",
              "    </tr>\n",
              "  </thead>\n",
              "  <tbody>\n",
              "    <tr>\n",
              "      <th>1995-01-02</th>\n",
              "      <td>NaN</td>\n",
              "      <td>NaN</td>\n",
              "    </tr>\n",
              "    <tr>\n",
              "      <th>1995-01-03</th>\n",
              "      <td>791.80</td>\n",
              "      <td>8.4647</td>\n",
              "    </tr>\n",
              "    <tr>\n",
              "      <th>1995-01-04</th>\n",
              "      <td>791.60</td>\n",
              "      <td>8.4647</td>\n",
              "    </tr>\n",
              "    <tr>\n",
              "      <th>1995-01-05</th>\n",
              "      <td>792.40</td>\n",
              "      <td>8.4630</td>\n",
              "    </tr>\n",
              "    <tr>\n",
              "      <th>1995-01-06</th>\n",
              "      <td>792.70</td>\n",
              "      <td>8.4626</td>\n",
              "    </tr>\n",
              "    <tr>\n",
              "      <th>...</th>\n",
              "      <td>...</td>\n",
              "      <td>...</td>\n",
              "    </tr>\n",
              "    <tr>\n",
              "      <th>2020-06-15</th>\n",
              "      <td>1212.21</td>\n",
              "      <td>7.0887</td>\n",
              "    </tr>\n",
              "    <tr>\n",
              "      <th>2020-06-16</th>\n",
              "      <td>1207.26</td>\n",
              "      <td>7.0854</td>\n",
              "    </tr>\n",
              "    <tr>\n",
              "      <th>2020-06-17</th>\n",
              "      <td>1215.02</td>\n",
              "      <td>7.0840</td>\n",
              "    </tr>\n",
              "    <tr>\n",
              "      <th>2020-06-18</th>\n",
              "      <td>1211.65</td>\n",
              "      <td>7.0869</td>\n",
              "    </tr>\n",
              "    <tr>\n",
              "      <th>2020-06-19</th>\n",
              "      <td>1208.38</td>\n",
              "      <td>7.0707</td>\n",
              "    </tr>\n",
              "  </tbody>\n",
              "</table>\n",
              "<p>6645 rows × 2 columns</p>\n",
              "</div>"
            ],
            "text/plain": [
              "            DEXKOUS  DEXCHUS\n",
              "DATE                        \n",
              "1995-01-02      NaN      NaN\n",
              "1995-01-03   791.80   8.4647\n",
              "1995-01-04   791.60   8.4647\n",
              "1995-01-05   792.40   8.4630\n",
              "1995-01-06   792.70   8.4626\n",
              "...             ...      ...\n",
              "2020-06-15  1212.21   7.0887\n",
              "2020-06-16  1207.26   7.0854\n",
              "2020-06-17  1215.02   7.0840\n",
              "2020-06-18  1211.65   7.0869\n",
              "2020-06-19  1208.38   7.0707\n",
              "\n",
              "[6645 rows x 2 columns]"
            ]
          },
          "metadata": {
            "tags": []
          },
          "execution_count": 76
        }
      ]
    },
    {
      "cell_type": "code",
      "metadata": {
        "colab_type": "code",
        "id": "_lUYifZM_Gsg",
        "colab": {},
        "outputId": "2d0597db-5df2-4187-9261-c6a69d5c39db"
      },
      "source": [
        "df.plot()"
      ],
      "execution_count": null,
      "outputs": [
        {
          "output_type": "execute_result",
          "data": {
            "text/plain": [
              "<matplotlib.axes._subplots.AxesSubplot at 0x7fd57b222490>"
            ]
          },
          "metadata": {
            "tags": []
          },
          "execution_count": 77
        },
        {
          "output_type": "display_data",
          "data": {
            "image/png": "[encoded data removed]",
            "text/plain": [
              "<Figure size 432x288 with 1 Axes>"
            ]
          },
          "metadata": {
            "tags": [],
            "needs_background": "light"
          }
        }
      ]
    },
    {
      "cell_type": "code",
      "metadata": {
        "colab_type": "code",
        "id": "sRZrV93n97Zw",
        "colab": {},
        "outputId": "7f60b9bb-5469-433e-e00b-1e85402aa8f7"
      },
      "source": [
        "df.plot(secondary_y='DEXCHUS')"
      ],
      "execution_count": null,
      "outputs": [
        {
          "output_type": "execute_result",
          "data": {
            "text/plain": [
              "<matplotlib.axes._subplots.AxesSubplot at 0x7fd57bb6b8d0>"
            ]
          },
          "metadata": {
            "tags": []
          },
          "execution_count": 78
        },
        {
          "output_type": "display_data",
          "data": {
            "image/png": "[encoded data removed]",
            "text/plain": [
              "<Figure size 432x288 with 2 Axes>"
            ]
          },
          "metadata": {
            "tags": [],
            "needs_background": "light"
          }
        }
      ]
    },
    {
      "cell_type": "markdown",
      "metadata": {
        "colab_type": "text",
        "id": "5C8sBOkaC7us"
      },
      "source": [
        "## 엑셀 파일로 쓰기/읽기"
      ]
    },
    {
      "cell_type": "code",
      "metadata": {
        "colab_type": "code",
        "id": "mUlf9Ej5QML0",
        "colab": {},
        "outputId": "648257a3-cf27-4cc0-b606-25aac3e67ea9"
      },
      "source": [
        "# 엑셀로 저장\n",
        "df.to_excel('exchanges.xlsx')\n",
        "\n",
        "# 엑셀 파일 읽기\n",
        "df = pd.read_excel('exchanges.xlsx', index_col='DATE')\n",
        "df"
      ],
      "execution_count": null,
      "outputs": [
        {
          "output_type": "execute_result",
          "data": {
            "text/html": [
              "<div>\n",
              "<style scoped>\n",
              "    .dataframe tbody tr th:only-of-type {\n",
              "        vertical-align: middle;\n",
              "    }\n",
              "\n",
              "    .dataframe tbody tr th {\n",
              "        vertical-align: top;\n",
              "    }\n",
              "\n",
              "    .dataframe thead th {\n",
              "        text-align: right;\n",
              "    }\n",
              "</style>\n",
              "<table border=\"1\" class=\"dataframe\">\n",
              "  <thead>\n",
              "    <tr style=\"text-align: right;\">\n",
              "      <th></th>\n",
              "      <th>DEXKOUS</th>\n",
              "      <th>DEXCHUS</th>\n",
              "    </tr>\n",
              "    <tr>\n",
              "      <th>DATE</th>\n",
              "      <th></th>\n",
              "      <th></th>\n",
              "    </tr>\n",
              "  </thead>\n",
              "  <tbody>\n",
              "    <tr>\n",
              "      <th>1995-01-02</th>\n",
              "      <td>NaN</td>\n",
              "      <td>NaN</td>\n",
              "    </tr>\n",
              "    <tr>\n",
              "      <th>1995-01-03</th>\n",
              "      <td>791.80</td>\n",
              "      <td>8.4647</td>\n",
              "    </tr>\n",
              "    <tr>\n",
              "      <th>1995-01-04</th>\n",
              "      <td>791.60</td>\n",
              "      <td>8.4647</td>\n",
              "    </tr>\n",
              "    <tr>\n",
              "      <th>1995-01-05</th>\n",
              "      <td>792.40</td>\n",
              "      <td>8.4630</td>\n",
              "    </tr>\n",
              "    <tr>\n",
              "      <th>1995-01-06</th>\n",
              "      <td>792.70</td>\n",
              "      <td>8.4626</td>\n",
              "    </tr>\n",
              "    <tr>\n",
              "      <th>...</th>\n",
              "      <td>...</td>\n",
              "      <td>...</td>\n",
              "    </tr>\n",
              "    <tr>\n",
              "      <th>2020-06-15</th>\n",
              "      <td>1212.21</td>\n",
              "      <td>7.0887</td>\n",
              "    </tr>\n",
              "    <tr>\n",
              "      <th>2020-06-16</th>\n",
              "      <td>1207.26</td>\n",
              "      <td>7.0854</td>\n",
              "    </tr>\n",
              "    <tr>\n",
              "      <th>2020-06-17</th>\n",
              "      <td>1215.02</td>\n",
              "      <td>7.0840</td>\n",
              "    </tr>\n",
              "    <tr>\n",
              "      <th>2020-06-18</th>\n",
              "      <td>1211.65</td>\n",
              "      <td>7.0869</td>\n",
              "    </tr>\n",
              "    <tr>\n",
              "      <th>2020-06-19</th>\n",
              "      <td>1208.38</td>\n",
              "      <td>7.0707</td>\n",
              "    </tr>\n",
              "  </tbody>\n",
              "</table>\n",
              "<p>6645 rows × 2 columns</p>\n",
              "</div>"
            ],
            "text/plain": [
              "            DEXKOUS  DEXCHUS\n",
              "DATE                        \n",
              "1995-01-02      NaN      NaN\n",
              "1995-01-03   791.80   8.4647\n",
              "1995-01-04   791.60   8.4647\n",
              "1995-01-05   792.40   8.4630\n",
              "1995-01-06   792.70   8.4626\n",
              "...             ...      ...\n",
              "2020-06-15  1212.21   7.0887\n",
              "2020-06-16  1207.26   7.0854\n",
              "2020-06-17  1215.02   7.0840\n",
              "2020-06-18  1211.65   7.0869\n",
              "2020-06-19  1208.38   7.0707\n",
              "\n",
              "[6645 rows x 2 columns]"
            ]
          },
          "metadata": {
            "tags": []
          },
          "execution_count": 79
        }
      ]
    },
    {
      "cell_type": "markdown",
      "metadata": {
        "colab_type": "text",
        "id": "Mlz9zb_-Ef8V"
      },
      "source": [
        "## CSV 파일로 쓰기/읽기"
      ]
    },
    {
      "cell_type": "code",
      "metadata": {
        "colab_type": "code",
        "id": "nuAvznHWDEA_",
        "colab": {},
        "outputId": "8fd606af-bf6e-48df-afd8-e105899e119d"
      },
      "source": [
        "# CSV 저장\n",
        "df.to_csv('exchanges.csv')\n",
        "\n",
        "# CSV 파일 읽기\n",
        "df = pd.read_csv('exchanges.csv', index_col='DATE')\n",
        "df"
      ],
      "execution_count": null,
      "outputs": [
        {
          "output_type": "execute_result",
          "data": {
            "text/html": [
              "<div>\n",
              "<style scoped>\n",
              "    .dataframe tbody tr th:only-of-type {\n",
              "        vertical-align: middle;\n",
              "    }\n",
              "\n",
              "    .dataframe tbody tr th {\n",
              "        vertical-align: top;\n",
              "    }\n",
              "\n",
              "    .dataframe thead th {\n",
              "        text-align: right;\n",
              "    }\n",
              "</style>\n",
              "<table border=\"1\" class=\"dataframe\">\n",
              "  <thead>\n",
              "    <tr style=\"text-align: right;\">\n",
              "      <th></th>\n",
              "      <th>DEXKOUS</th>\n",
              "      <th>DEXCHUS</th>\n",
              "    </tr>\n",
              "    <tr>\n",
              "      <th>DATE</th>\n",
              "      <th></th>\n",
              "      <th></th>\n",
              "    </tr>\n",
              "  </thead>\n",
              "  <tbody>\n",
              "    <tr>\n",
              "      <th>1995-01-02</th>\n",
              "      <td>NaN</td>\n",
              "      <td>NaN</td>\n",
              "    </tr>\n",
              "    <tr>\n",
              "      <th>1995-01-03</th>\n",
              "      <td>791.80</td>\n",
              "      <td>8.4647</td>\n",
              "    </tr>\n",
              "    <tr>\n",
              "      <th>1995-01-04</th>\n",
              "      <td>791.60</td>\n",
              "      <td>8.4647</td>\n",
              "    </tr>\n",
              "    <tr>\n",
              "      <th>1995-01-05</th>\n",
              "      <td>792.40</td>\n",
              "      <td>8.4630</td>\n",
              "    </tr>\n",
              "    <tr>\n",
              "      <th>1995-01-06</th>\n",
              "      <td>792.70</td>\n",
              "      <td>8.4626</td>\n",
              "    </tr>\n",
              "    <tr>\n",
              "      <th>...</th>\n",
              "      <td>...</td>\n",
              "      <td>...</td>\n",
              "    </tr>\n",
              "    <tr>\n",
              "      <th>2020-06-15</th>\n",
              "      <td>1212.21</td>\n",
              "      <td>7.0887</td>\n",
              "    </tr>\n",
              "    <tr>\n",
              "      <th>2020-06-16</th>\n",
              "      <td>1207.26</td>\n",
              "      <td>7.0854</td>\n",
              "    </tr>\n",
              "    <tr>\n",
              "      <th>2020-06-17</th>\n",
              "      <td>1215.02</td>\n",
              "      <td>7.0840</td>\n",
              "    </tr>\n",
              "    <tr>\n",
              "      <th>2020-06-18</th>\n",
              "      <td>1211.65</td>\n",
              "      <td>7.0869</td>\n",
              "    </tr>\n",
              "    <tr>\n",
              "      <th>2020-06-19</th>\n",
              "      <td>1208.38</td>\n",
              "      <td>7.0707</td>\n",
              "    </tr>\n",
              "  </tbody>\n",
              "</table>\n",
              "<p>6645 rows × 2 columns</p>\n",
              "</div>"
            ],
            "text/plain": [
              "            DEXKOUS  DEXCHUS\n",
              "DATE                        \n",
              "1995-01-02      NaN      NaN\n",
              "1995-01-03   791.80   8.4647\n",
              "1995-01-04   791.60   8.4647\n",
              "1995-01-05   792.40   8.4630\n",
              "1995-01-06   792.70   8.4626\n",
              "...             ...      ...\n",
              "2020-06-15  1212.21   7.0887\n",
              "2020-06-16  1207.26   7.0854\n",
              "2020-06-17  1215.02   7.0840\n",
              "2020-06-18  1211.65   7.0869\n",
              "2020-06-19  1208.38   7.0707\n",
              "\n",
              "[6645 rows x 2 columns]"
            ]
          },
          "metadata": {
            "tags": []
          },
          "execution_count": 80
        }
      ]
    },
    {
      "cell_type": "markdown",
      "metadata": {
        "id": "0OvvF1eTKeuZ",
        "colab_type": "text"
      },
      "source": [
        "#### 2020 [FinanceData.KR](http://financedata.kr) | [facebook.com/financedata](http://facebook.com/financedata)"
      ]
    }
  ]
}