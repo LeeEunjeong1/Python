{
  "nbformat": 4,
  "nbformat_minor": 0,
  "metadata": {
    "colab": {
      "name": "데이터_수집과_전처리_02.ipynb",
      "provenance": [],
      "collapsed_sections": [],
      "include_colab_link": true
    },
    "kernelspec": {
      "display_name": "Python 3",
      "language": "python",
      "name": "python3"
    },
    "language_info": {
      "codemirror_mode": {
        "name": "ipython",
        "version": 3
      },
      "file_extension": ".py",
      "mimetype": "text/x-python",
      "name": "python",
      "nbconvert_exporter": "python",
      "pygments_lexer": "ipython3",
      "version": "3.7.4"
    }
  },
  "cells": [
    {
      "cell_type": "markdown",
      "metadata": {
        "id": "view-in-github",
        "colab_type": "text"
      },
      "source": [
        "<a href=\"https://colab.research.google.com/github/LeeEunjeong1/Python/blob/master/%EB%8D%B0%EC%9D%B4%ED%84%B0_%EC%88%98%EC%A7%91%EA%B3%BC_%EC%A0%84%EC%B2%98%EB%A6%AC_02.ipynb\" target=\"_parent\"><img src=\"https://colab.research.google.com/assets/colab-badge.svg\" alt=\"Open In Colab\"/></a>"
      ]
    },
    {
      "cell_type": "markdown",
      "metadata": {
        "colab_type": "text",
        "id": "zcIO-pRCQOCB"
      },
      "source": [
        "# 데이터 수집과 전처리 02 - 구현\n",
        "\n",
        "<img width=\"60%\" src=\"https://i.imgur.com/nJdtMzO.jpg\" >\n",
        "\n",
        "#### 2018-2020 [FinanceData.KR](http://financedata.kr) | [facebook.com/financedata](http://facebook.com/financedata)"
      ]
    },
    {
      "cell_type": "markdown",
      "metadata": {
        "colab_type": "text",
        "id": "OLMMIQ6UQOCC"
      },
      "source": [
        "# 데이터 준비"
      ]
    },
    {
      "cell_type": "code",
      "metadata": {
        "colab_type": "code",
        "id": "ha-T5Rg_QOCD",
        "colab": {}
      },
      "source": [
        "import numpy as np\n",
        "\n",
        "data = [\n",
        "    [20.1, 32.4, 42.4, 86.3],\n",
        "    [20.2, 35.2, np.nan, np.nan], \n",
        "    [22.1, 30.1, 45.2, np.nan],\n",
        "    [23.5, np.nan, 42.1, 85.1],\n",
        "    [21.3, 32.1, 46.2, 81.3],\n",
        "]"
      ],
      "execution_count": null,
      "outputs": []
    },
    {
      "cell_type": "code",
      "metadata": {
        "colab_type": "code",
        "id": "SQOMycx1QOCH",
        "colab": {
          "base_uri": "https://localhost:8080/",
          "height": 204
        },
        "outputId": "fb41912f-3074-4baf-a736-6908e739be3d"
      },
      "source": [
        "import pandas as pd\n",
        "import io\n",
        "\n",
        "df = pd.DataFrame(data, columns=list('ABCD'))\n",
        "df"
      ],
      "execution_count": null,
      "outputs": [
        {
          "output_type": "execute_result",
          "data": {
            "text/html": [
              "<div>\n",
              "<style scoped>\n",
              "    .dataframe tbody tr th:only-of-type {\n",
              "        vertical-align: middle;\n",
              "    }\n",
              "\n",
              "    .dataframe tbody tr th {\n",
              "        vertical-align: top;\n",
              "    }\n",
              "\n",
              "    .dataframe thead th {\n",
              "        text-align: right;\n",
              "    }\n",
              "</style>\n",
              "<table border=\"1\" class=\"dataframe\">\n",
              "  <thead>\n",
              "    <tr style=\"text-align: right;\">\n",
              "      <th></th>\n",
              "      <th>A</th>\n",
              "      <th>B</th>\n",
              "      <th>C</th>\n",
              "      <th>D</th>\n",
              "    </tr>\n",
              "  </thead>\n",
              "  <tbody>\n",
              "    <tr>\n",
              "      <th>0</th>\n",
              "      <td>20.1</td>\n",
              "      <td>32.4</td>\n",
              "      <td>42.4</td>\n",
              "      <td>86.3</td>\n",
              "    </tr>\n",
              "    <tr>\n",
              "      <th>1</th>\n",
              "      <td>20.2</td>\n",
              "      <td>35.2</td>\n",
              "      <td>NaN</td>\n",
              "      <td>NaN</td>\n",
              "    </tr>\n",
              "    <tr>\n",
              "      <th>2</th>\n",
              "      <td>22.1</td>\n",
              "      <td>30.1</td>\n",
              "      <td>45.2</td>\n",
              "      <td>NaN</td>\n",
              "    </tr>\n",
              "    <tr>\n",
              "      <th>3</th>\n",
              "      <td>23.5</td>\n",
              "      <td>NaN</td>\n",
              "      <td>42.1</td>\n",
              "      <td>85.1</td>\n",
              "    </tr>\n",
              "    <tr>\n",
              "      <th>4</th>\n",
              "      <td>21.3</td>\n",
              "      <td>32.1</td>\n",
              "      <td>46.2</td>\n",
              "      <td>81.3</td>\n",
              "    </tr>\n",
              "  </tbody>\n",
              "</table>\n",
              "</div>"
            ],
            "text/plain": [
              "      A     B     C     D\n",
              "0  20.1  32.4  42.4  86.3\n",
              "1  20.2  35.2   NaN   NaN\n",
              "2  22.1  30.1  45.2   NaN\n",
              "3  23.5   NaN  42.1  85.1\n",
              "4  21.3  32.1  46.2  81.3"
            ]
          },
          "metadata": {
            "tags": []
          },
          "execution_count": 2
        }
      ]
    },
    {
      "cell_type": "markdown",
      "metadata": {
        "colab_type": "text",
        "id": "TKXFReqPQOCN"
      },
      "source": [
        "# 데이터 개괄 확인"
      ]
    },
    {
      "cell_type": "code",
      "metadata": {
        "colab_type": "code",
        "id": "1CIg3v1aQOCO",
        "colab": {
          "base_uri": "https://localhost:8080/",
          "height": 111
        },
        "outputId": "a7c744cc-96b6-4c0f-8948-3d9d05e06374"
      },
      "source": [
        "df.head(2) # 앞부분"
      ],
      "execution_count": null,
      "outputs": [
        {
          "output_type": "execute_result",
          "data": {
            "text/html": [
              "<div>\n",
              "<style scoped>\n",
              "    .dataframe tbody tr th:only-of-type {\n",
              "        vertical-align: middle;\n",
              "    }\n",
              "\n",
              "    .dataframe tbody tr th {\n",
              "        vertical-align: top;\n",
              "    }\n",
              "\n",
              "    .dataframe thead th {\n",
              "        text-align: right;\n",
              "    }\n",
              "</style>\n",
              "<table border=\"1\" class=\"dataframe\">\n",
              "  <thead>\n",
              "    <tr style=\"text-align: right;\">\n",
              "      <th></th>\n",
              "      <th>A</th>\n",
              "      <th>B</th>\n",
              "      <th>C</th>\n",
              "      <th>D</th>\n",
              "    </tr>\n",
              "  </thead>\n",
              "  <tbody>\n",
              "    <tr>\n",
              "      <th>0</th>\n",
              "      <td>20.1</td>\n",
              "      <td>32.4</td>\n",
              "      <td>42.4</td>\n",
              "      <td>86.3</td>\n",
              "    </tr>\n",
              "    <tr>\n",
              "      <th>1</th>\n",
              "      <td>20.2</td>\n",
              "      <td>35.2</td>\n",
              "      <td>NaN</td>\n",
              "      <td>NaN</td>\n",
              "    </tr>\n",
              "  </tbody>\n",
              "</table>\n",
              "</div>"
            ],
            "text/plain": [
              "      A     B     C     D\n",
              "0  20.1  32.4  42.4  86.3\n",
              "1  20.2  35.2   NaN   NaN"
            ]
          },
          "metadata": {
            "tags": []
          },
          "execution_count": 3
        }
      ]
    },
    {
      "cell_type": "code",
      "metadata": {
        "colab_type": "code",
        "id": "eOIyfQNrQOCR",
        "colab": {
          "base_uri": "https://localhost:8080/",
          "height": 111
        },
        "outputId": "1eaefbd5-8e37-42c6-adc7-fb5480ee9c9b"
      },
      "source": [
        "df.tail(2) # 앞부분"
      ],
      "execution_count": null,
      "outputs": [
        {
          "output_type": "execute_result",
          "data": {
            "text/html": [
              "<div>\n",
              "<style scoped>\n",
              "    .dataframe tbody tr th:only-of-type {\n",
              "        vertical-align: middle;\n",
              "    }\n",
              "\n",
              "    .dataframe tbody tr th {\n",
              "        vertical-align: top;\n",
              "    }\n",
              "\n",
              "    .dataframe thead th {\n",
              "        text-align: right;\n",
              "    }\n",
              "</style>\n",
              "<table border=\"1\" class=\"dataframe\">\n",
              "  <thead>\n",
              "    <tr style=\"text-align: right;\">\n",
              "      <th></th>\n",
              "      <th>A</th>\n",
              "      <th>B</th>\n",
              "      <th>C</th>\n",
              "      <th>D</th>\n",
              "    </tr>\n",
              "  </thead>\n",
              "  <tbody>\n",
              "    <tr>\n",
              "      <th>3</th>\n",
              "      <td>23.5</td>\n",
              "      <td>NaN</td>\n",
              "      <td>42.1</td>\n",
              "      <td>85.1</td>\n",
              "    </tr>\n",
              "    <tr>\n",
              "      <th>4</th>\n",
              "      <td>21.3</td>\n",
              "      <td>32.1</td>\n",
              "      <td>46.2</td>\n",
              "      <td>81.3</td>\n",
              "    </tr>\n",
              "  </tbody>\n",
              "</table>\n",
              "</div>"
            ],
            "text/plain": [
              "      A     B     C     D\n",
              "3  23.5   NaN  42.1  85.1\n",
              "4  21.3  32.1  46.2  81.3"
            ]
          },
          "metadata": {
            "tags": []
          },
          "execution_count": 4
        }
      ]
    },
    {
      "cell_type": "code",
      "metadata": {
        "colab_type": "code",
        "id": "1bpE-HreQOCV",
        "colab": {
          "base_uri": "https://localhost:8080/",
          "height": 179
        },
        "outputId": "0fc44c9f-f7df-4cfc-e064-63117e2987a1"
      },
      "source": [
        "df.info() # 기본 정보"
      ],
      "execution_count": null,
      "outputs": [
        {
          "output_type": "stream",
          "text": [
            "<class 'pandas.core.frame.DataFrame'>\n",
            "RangeIndex: 5 entries, 0 to 4\n",
            "Data columns (total 4 columns):\n",
            "A    5 non-null float64\n",
            "B    4 non-null float64\n",
            "C    4 non-null float64\n",
            "D    3 non-null float64\n",
            "dtypes: float64(4)\n",
            "memory usage: 288.0 bytes\n"
          ],
          "name": "stdout"
        }
      ]
    },
    {
      "cell_type": "code",
      "metadata": {
        "colab_type": "code",
        "id": "oJ50sP1mQOCY",
        "colab": {
          "base_uri": "https://localhost:8080/",
          "height": 297
        },
        "outputId": "da0cedfd-a075-4d3c-8be3-c3ea41fcf1a7"
      },
      "source": [
        "df.describe() # 기본 통계량"
      ],
      "execution_count": null,
      "outputs": [
        {
          "output_type": "execute_result",
          "data": {
            "text/html": [
              "<div>\n",
              "<style scoped>\n",
              "    .dataframe tbody tr th:only-of-type {\n",
              "        vertical-align: middle;\n",
              "    }\n",
              "\n",
              "    .dataframe tbody tr th {\n",
              "        vertical-align: top;\n",
              "    }\n",
              "\n",
              "    .dataframe thead th {\n",
              "        text-align: right;\n",
              "    }\n",
              "</style>\n",
              "<table border=\"1\" class=\"dataframe\">\n",
              "  <thead>\n",
              "    <tr style=\"text-align: right;\">\n",
              "      <th></th>\n",
              "      <th>A</th>\n",
              "      <th>B</th>\n",
              "      <th>C</th>\n",
              "      <th>D</th>\n",
              "    </tr>\n",
              "  </thead>\n",
              "  <tbody>\n",
              "    <tr>\n",
              "      <th>count</th>\n",
              "      <td>5.000000</td>\n",
              "      <td>4.000000</td>\n",
              "      <td>4.00000</td>\n",
              "      <td>3.000000</td>\n",
              "    </tr>\n",
              "    <tr>\n",
              "      <th>mean</th>\n",
              "      <td>21.440000</td>\n",
              "      <td>32.450000</td>\n",
              "      <td>43.97500</td>\n",
              "      <td>84.233333</td>\n",
              "    </tr>\n",
              "    <tr>\n",
              "      <th>std</th>\n",
              "      <td>1.417039</td>\n",
              "      <td>2.098412</td>\n",
              "      <td>2.03695</td>\n",
              "      <td>2.610236</td>\n",
              "    </tr>\n",
              "    <tr>\n",
              "      <th>min</th>\n",
              "      <td>20.100000</td>\n",
              "      <td>30.100000</td>\n",
              "      <td>42.10000</td>\n",
              "      <td>81.300000</td>\n",
              "    </tr>\n",
              "    <tr>\n",
              "      <th>25%</th>\n",
              "      <td>20.200000</td>\n",
              "      <td>31.600000</td>\n",
              "      <td>42.32500</td>\n",
              "      <td>83.200000</td>\n",
              "    </tr>\n",
              "    <tr>\n",
              "      <th>50%</th>\n",
              "      <td>21.300000</td>\n",
              "      <td>32.250000</td>\n",
              "      <td>43.80000</td>\n",
              "      <td>85.100000</td>\n",
              "    </tr>\n",
              "    <tr>\n",
              "      <th>75%</th>\n",
              "      <td>22.100000</td>\n",
              "      <td>33.100000</td>\n",
              "      <td>45.45000</td>\n",
              "      <td>85.700000</td>\n",
              "    </tr>\n",
              "    <tr>\n",
              "      <th>max</th>\n",
              "      <td>23.500000</td>\n",
              "      <td>35.200000</td>\n",
              "      <td>46.20000</td>\n",
              "      <td>86.300000</td>\n",
              "    </tr>\n",
              "  </tbody>\n",
              "</table>\n",
              "</div>"
            ],
            "text/plain": [
              "               A          B         C          D\n",
              "count   5.000000   4.000000   4.00000   3.000000\n",
              "mean   21.440000  32.450000  43.97500  84.233333\n",
              "std     1.417039   2.098412   2.03695   2.610236\n",
              "min    20.100000  30.100000  42.10000  81.300000\n",
              "25%    20.200000  31.600000  42.32500  83.200000\n",
              "50%    21.300000  32.250000  43.80000  85.100000\n",
              "75%    22.100000  33.100000  45.45000  85.700000\n",
              "max    23.500000  35.200000  46.20000  86.300000"
            ]
          },
          "metadata": {
            "tags": []
          },
          "execution_count": 6
        }
      ]
    },
    {
      "cell_type": "markdown",
      "metadata": {
        "colab_type": "text",
        "id": "qJwJMYlZQOCc"
      },
      "source": [
        "# 결측치 처리: 개수 확인"
      ]
    },
    {
      "cell_type": "code",
      "metadata": {
        "colab_type": "code",
        "id": "YeYU74-AQOCd",
        "colab": {
          "base_uri": "https://localhost:8080/",
          "height": 107
        },
        "outputId": "28e41f75-c11c-47e5-c3b8-540fa7e68e01"
      },
      "source": [
        "# 결측치 개수\n",
        "\n",
        "df.isnull().sum()"
      ],
      "execution_count": null,
      "outputs": [
        {
          "output_type": "execute_result",
          "data": {
            "text/plain": [
              "A    0\n",
              "B    1\n",
              "C    1\n",
              "D    2\n",
              "dtype: int64"
            ]
          },
          "metadata": {
            "tags": []
          },
          "execution_count": 7
        }
      ]
    },
    {
      "cell_type": "code",
      "metadata": {
        "colab_type": "code",
        "id": "qfufMO2yQOCh",
        "colab": {
          "base_uri": "https://localhost:8080/",
          "height": 35
        },
        "outputId": "95c438e3-c2f6-49a0-ef5c-bba325912d40"
      },
      "source": [
        "# 결측치 개수 (전체)\n",
        "\n",
        "df.isnull().sum().sum()"
      ],
      "execution_count": null,
      "outputs": [
        {
          "output_type": "execute_result",
          "data": {
            "text/plain": [
              "4"
            ]
          },
          "metadata": {
            "tags": []
          },
          "execution_count": 8
        }
      ]
    },
    {
      "cell_type": "code",
      "metadata": {
        "colab_type": "code",
        "id": "kaF6Pa7CQOCm",
        "colab": {
          "base_uri": "https://localhost:8080/",
          "height": 111
        },
        "outputId": "28c0e025-d09a-41b3-c038-84a715475314"
      },
      "source": [
        "df.dropna() # df.dropna(axis=0)"
      ],
      "execution_count": null,
      "outputs": [
        {
          "output_type": "execute_result",
          "data": {
            "text/html": [
              "<div>\n",
              "<style scoped>\n",
              "    .dataframe tbody tr th:only-of-type {\n",
              "        vertical-align: middle;\n",
              "    }\n",
              "\n",
              "    .dataframe tbody tr th {\n",
              "        vertical-align: top;\n",
              "    }\n",
              "\n",
              "    .dataframe thead th {\n",
              "        text-align: right;\n",
              "    }\n",
              "</style>\n",
              "<table border=\"1\" class=\"dataframe\">\n",
              "  <thead>\n",
              "    <tr style=\"text-align: right;\">\n",
              "      <th></th>\n",
              "      <th>A</th>\n",
              "      <th>B</th>\n",
              "      <th>C</th>\n",
              "      <th>D</th>\n",
              "    </tr>\n",
              "  </thead>\n",
              "  <tbody>\n",
              "    <tr>\n",
              "      <th>0</th>\n",
              "      <td>20.1</td>\n",
              "      <td>32.4</td>\n",
              "      <td>42.4</td>\n",
              "      <td>86.3</td>\n",
              "    </tr>\n",
              "    <tr>\n",
              "      <th>4</th>\n",
              "      <td>21.3</td>\n",
              "      <td>32.1</td>\n",
              "      <td>46.2</td>\n",
              "      <td>81.3</td>\n",
              "    </tr>\n",
              "  </tbody>\n",
              "</table>\n",
              "</div>"
            ],
            "text/plain": [
              "      A     B     C     D\n",
              "0  20.1  32.4  42.4  86.3\n",
              "4  21.3  32.1  46.2  81.3"
            ]
          },
          "metadata": {
            "tags": []
          },
          "execution_count": 9
        }
      ]
    },
    {
      "cell_type": "markdown",
      "metadata": {
        "colab_type": "text",
        "id": "QF40sUoJQOCp"
      },
      "source": [
        "# 결측치 처리: dropna()\n",
        "\n",
        "간편하지만, 관측점 (혹은 변수)가 줄어 "
      ]
    },
    {
      "cell_type": "code",
      "metadata": {
        "colab_type": "code",
        "id": "Ss1gxJ-5QOCq",
        "colab": {
          "base_uri": "https://localhost:8080/",
          "height": 204
        },
        "outputId": "e5313c37-7fdd-44d8-8815-ba18b3929602"
      },
      "source": [
        "df.dropna(axis=1)"
      ],
      "execution_count": null,
      "outputs": [
        {
          "output_type": "execute_result",
          "data": {
            "text/html": [
              "<div>\n",
              "<style scoped>\n",
              "    .dataframe tbody tr th:only-of-type {\n",
              "        vertical-align: middle;\n",
              "    }\n",
              "\n",
              "    .dataframe tbody tr th {\n",
              "        vertical-align: top;\n",
              "    }\n",
              "\n",
              "    .dataframe thead th {\n",
              "        text-align: right;\n",
              "    }\n",
              "</style>\n",
              "<table border=\"1\" class=\"dataframe\">\n",
              "  <thead>\n",
              "    <tr style=\"text-align: right;\">\n",
              "      <th></th>\n",
              "      <th>A</th>\n",
              "    </tr>\n",
              "  </thead>\n",
              "  <tbody>\n",
              "    <tr>\n",
              "      <th>0</th>\n",
              "      <td>20.1</td>\n",
              "    </tr>\n",
              "    <tr>\n",
              "      <th>1</th>\n",
              "      <td>20.2</td>\n",
              "    </tr>\n",
              "    <tr>\n",
              "      <th>2</th>\n",
              "      <td>22.1</td>\n",
              "    </tr>\n",
              "    <tr>\n",
              "      <th>3</th>\n",
              "      <td>23.5</td>\n",
              "    </tr>\n",
              "    <tr>\n",
              "      <th>4</th>\n",
              "      <td>21.3</td>\n",
              "    </tr>\n",
              "  </tbody>\n",
              "</table>\n",
              "</div>"
            ],
            "text/plain": [
              "      A\n",
              "0  20.1\n",
              "1  20.2\n",
              "2  22.1\n",
              "3  23.5\n",
              "4  21.3"
            ]
          },
          "metadata": {
            "tags": []
          },
          "execution_count": 10
        }
      ]
    },
    {
      "cell_type": "code",
      "metadata": {
        "colab_type": "code",
        "id": "b75EAPEGQOCt",
        "colab": {
          "base_uri": "https://localhost:8080/",
          "height": 204
        },
        "outputId": "a32a4c7e-7520-4c80-a8ec-f80a3e9d2916"
      },
      "source": [
        "df.dropna(axis=1, how='all') # 컬럼의 모든 값이 NaN 경우만"
      ],
      "execution_count": null,
      "outputs": [
        {
          "output_type": "execute_result",
          "data": {
            "text/html": [
              "<div>\n",
              "<style scoped>\n",
              "    .dataframe tbody tr th:only-of-type {\n",
              "        vertical-align: middle;\n",
              "    }\n",
              "\n",
              "    .dataframe tbody tr th {\n",
              "        vertical-align: top;\n",
              "    }\n",
              "\n",
              "    .dataframe thead th {\n",
              "        text-align: right;\n",
              "    }\n",
              "</style>\n",
              "<table border=\"1\" class=\"dataframe\">\n",
              "  <thead>\n",
              "    <tr style=\"text-align: right;\">\n",
              "      <th></th>\n",
              "      <th>A</th>\n",
              "      <th>B</th>\n",
              "      <th>C</th>\n",
              "      <th>D</th>\n",
              "    </tr>\n",
              "  </thead>\n",
              "  <tbody>\n",
              "    <tr>\n",
              "      <th>0</th>\n",
              "      <td>20.1</td>\n",
              "      <td>32.4</td>\n",
              "      <td>42.4</td>\n",
              "      <td>86.3</td>\n",
              "    </tr>\n",
              "    <tr>\n",
              "      <th>1</th>\n",
              "      <td>20.2</td>\n",
              "      <td>35.2</td>\n",
              "      <td>NaN</td>\n",
              "      <td>NaN</td>\n",
              "    </tr>\n",
              "    <tr>\n",
              "      <th>2</th>\n",
              "      <td>22.1</td>\n",
              "      <td>30.1</td>\n",
              "      <td>45.2</td>\n",
              "      <td>NaN</td>\n",
              "    </tr>\n",
              "    <tr>\n",
              "      <th>3</th>\n",
              "      <td>23.5</td>\n",
              "      <td>NaN</td>\n",
              "      <td>42.1</td>\n",
              "      <td>85.1</td>\n",
              "    </tr>\n",
              "    <tr>\n",
              "      <th>4</th>\n",
              "      <td>21.3</td>\n",
              "      <td>32.1</td>\n",
              "      <td>46.2</td>\n",
              "      <td>81.3</td>\n",
              "    </tr>\n",
              "  </tbody>\n",
              "</table>\n",
              "</div>"
            ],
            "text/plain": [
              "      A     B     C     D\n",
              "0  20.1  32.4  42.4  86.3\n",
              "1  20.2  35.2   NaN   NaN\n",
              "2  22.1  30.1  45.2   NaN\n",
              "3  23.5   NaN  42.1  85.1\n",
              "4  21.3  32.1  46.2  81.3"
            ]
          },
          "metadata": {
            "tags": []
          },
          "execution_count": 11
        }
      ]
    },
    {
      "cell_type": "markdown",
      "metadata": {
        "colab_type": "text",
        "id": "h2uFItEzQOCw"
      },
      "source": [
        "# 결측치 처리: 대체 (imputation)"
      ]
    },
    {
      "cell_type": "code",
      "metadata": {
        "colab_type": "code",
        "id": "KkWwu-U6QOCx",
        "colab": {
          "base_uri": "https://localhost:8080/",
          "height": 107
        },
        "outputId": "95e4274b-bbfb-4755-9956-073c441910d8"
      },
      "source": [
        "df.median()"
      ],
      "execution_count": null,
      "outputs": [
        {
          "output_type": "execute_result",
          "data": {
            "text/plain": [
              "A    21.30\n",
              "B    32.25\n",
              "C    43.80\n",
              "D    85.10\n",
              "dtype: float64"
            ]
          },
          "metadata": {
            "tags": []
          },
          "execution_count": 12
        }
      ]
    },
    {
      "cell_type": "code",
      "metadata": {
        "colab_type": "code",
        "id": "AaSs7MzKQOC2",
        "colab": {
          "base_uri": "https://localhost:8080/",
          "height": 204
        },
        "outputId": "87f1b671-33dd-4334-bd7c-c4e42eecdd2c"
      },
      "source": [
        "# 결측치를 median으로 대체\n",
        "df.fillna(df.median())"
      ],
      "execution_count": null,
      "outputs": [
        {
          "output_type": "execute_result",
          "data": {
            "text/html": [
              "<div>\n",
              "<style scoped>\n",
              "    .dataframe tbody tr th:only-of-type {\n",
              "        vertical-align: middle;\n",
              "    }\n",
              "\n",
              "    .dataframe tbody tr th {\n",
              "        vertical-align: top;\n",
              "    }\n",
              "\n",
              "    .dataframe thead th {\n",
              "        text-align: right;\n",
              "    }\n",
              "</style>\n",
              "<table border=\"1\" class=\"dataframe\">\n",
              "  <thead>\n",
              "    <tr style=\"text-align: right;\">\n",
              "      <th></th>\n",
              "      <th>A</th>\n",
              "      <th>B</th>\n",
              "      <th>C</th>\n",
              "      <th>D</th>\n",
              "    </tr>\n",
              "  </thead>\n",
              "  <tbody>\n",
              "    <tr>\n",
              "      <th>0</th>\n",
              "      <td>20.1</td>\n",
              "      <td>32.40</td>\n",
              "      <td>42.4</td>\n",
              "      <td>86.3</td>\n",
              "    </tr>\n",
              "    <tr>\n",
              "      <th>1</th>\n",
              "      <td>20.2</td>\n",
              "      <td>35.20</td>\n",
              "      <td>43.8</td>\n",
              "      <td>85.1</td>\n",
              "    </tr>\n",
              "    <tr>\n",
              "      <th>2</th>\n",
              "      <td>22.1</td>\n",
              "      <td>30.10</td>\n",
              "      <td>45.2</td>\n",
              "      <td>85.1</td>\n",
              "    </tr>\n",
              "    <tr>\n",
              "      <th>3</th>\n",
              "      <td>23.5</td>\n",
              "      <td>32.25</td>\n",
              "      <td>42.1</td>\n",
              "      <td>85.1</td>\n",
              "    </tr>\n",
              "    <tr>\n",
              "      <th>4</th>\n",
              "      <td>21.3</td>\n",
              "      <td>32.10</td>\n",
              "      <td>46.2</td>\n",
              "      <td>81.3</td>\n",
              "    </tr>\n",
              "  </tbody>\n",
              "</table>\n",
              "</div>"
            ],
            "text/plain": [
              "      A      B     C     D\n",
              "0  20.1  32.40  42.4  86.3\n",
              "1  20.2  35.20  43.8  85.1\n",
              "2  22.1  30.10  45.2  85.1\n",
              "3  23.5  32.25  42.1  85.1\n",
              "4  21.3  32.10  46.2  81.3"
            ]
          },
          "metadata": {
            "tags": []
          },
          "execution_count": 13
        }
      ]
    },
    {
      "cell_type": "markdown",
      "metadata": {
        "colab_type": "text",
        "id": "8nUbxrZuQOC7"
      },
      "source": [
        "# 결측치 처리: Scikit-learn Imputation\n",
        "\n",
        "https://scikit-learn.org/stable/modules/impute.html#impute"
      ]
    },
    {
      "cell_type": "code",
      "metadata": {
        "colab_type": "code",
        "id": "s1TDdmytQOC8",
        "colab": {
          "base_uri": "https://localhost:8080/",
          "height": 107
        },
        "outputId": "0b7a06e1-126a-4ca4-cfae-72b84c00bc9c"
      },
      "source": [
        "# Scikit-learn Imputation\n",
        "\n",
        "from sklearn.impute import SimpleImputer\n",
        "imp = SimpleImputer(strategy='most_frequent')\n",
        "imp.fit_transform(df)"
      ],
      "execution_count": null,
      "outputs": [
        {
          "output_type": "execute_result",
          "data": {
            "text/plain": [
              "array([[20.1, 32.4, 42.4, 86.3],\n",
              "       [20.2, 35.2, 42.1, 81.3],\n",
              "       [22.1, 30.1, 45.2, 81.3],\n",
              "       [23.5, 30.1, 42.1, 85.1],\n",
              "       [21.3, 32.1, 46.2, 81.3]])"
            ]
          },
          "metadata": {
            "tags": []
          },
          "execution_count": 14
        }
      ]
    },
    {
      "cell_type": "markdown",
      "metadata": {
        "colab_type": "text",
        "id": "6AfBrEv2QODB"
      },
      "source": [
        "# Outlier 처리\n",
        "\n",
        "* 1) 표준편차 3 이상 \n",
        "* 2) IQR\n",
        "* 3) 도메인 지식"
      ]
    },
    {
      "cell_type": "code",
      "metadata": {
        "colab_type": "code",
        "id": "ZV1ts7cFQODC",
        "colab": {
          "base_uri": "https://localhost:8080/",
          "height": 204
        },
        "outputId": "09644570-19bd-407b-d591-2186447c437d"
      },
      "source": [
        "df = pd.DataFrame({'data': np.random.normal(size=500)})\n",
        "df.head()"
      ],
      "execution_count": null,
      "outputs": [
        {
          "output_type": "execute_result",
          "data": {
            "text/html": [
              "<div>\n",
              "<style scoped>\n",
              "    .dataframe tbody tr th:only-of-type {\n",
              "        vertical-align: middle;\n",
              "    }\n",
              "\n",
              "    .dataframe tbody tr th {\n",
              "        vertical-align: top;\n",
              "    }\n",
              "\n",
              "    .dataframe thead th {\n",
              "        text-align: right;\n",
              "    }\n",
              "</style>\n",
              "<table border=\"1\" class=\"dataframe\">\n",
              "  <thead>\n",
              "    <tr style=\"text-align: right;\">\n",
              "      <th></th>\n",
              "      <th>data</th>\n",
              "    </tr>\n",
              "  </thead>\n",
              "  <tbody>\n",
              "    <tr>\n",
              "      <th>0</th>\n",
              "      <td>1.185227</td>\n",
              "    </tr>\n",
              "    <tr>\n",
              "      <th>1</th>\n",
              "      <td>1.057760</td>\n",
              "    </tr>\n",
              "    <tr>\n",
              "      <th>2</th>\n",
              "      <td>-1.442863</td>\n",
              "    </tr>\n",
              "    <tr>\n",
              "      <th>3</th>\n",
              "      <td>1.008907</td>\n",
              "    </tr>\n",
              "    <tr>\n",
              "      <th>4</th>\n",
              "      <td>-0.516544</td>\n",
              "    </tr>\n",
              "  </tbody>\n",
              "</table>\n",
              "</div>"
            ],
            "text/plain": [
              "       data\n",
              "0  1.185227\n",
              "1  1.057760\n",
              "2 -1.442863\n",
              "3  1.008907\n",
              "4 -0.516544"
            ]
          },
          "metadata": {
            "tags": []
          },
          "execution_count": 15
        }
      ]
    },
    {
      "cell_type": "markdown",
      "metadata": {
        "colab_type": "text",
        "id": "ll0cEN4iQODF"
      },
      "source": [
        "# Outlier 처리: $3\\sigma$ 이상 값\n",
        "\n",
        "<img src=\"https://i.imgur.com/3stiKaz.png\" >\n",
        "https://en.wikipedia.org/wiki/Interquartile_range"
      ]
    },
    {
      "cell_type": "code",
      "metadata": {
        "colab_type": "code",
        "id": "6LBwmOw7QODG",
        "colab": {
          "base_uri": "https://localhost:8080/",
          "height": 35
        },
        "outputId": "67bd24c9-92c9-4568-a4e3-3cf0da16298e"
      },
      "source": [
        "# Outlier 조건\n",
        "outlier_conds = np.abs(df['data'] - df['data'].mean()) > (3*df['data'].std())\n",
        "print('row count', len(df[outlier_conds]))"
      ],
      "execution_count": null,
      "outputs": [
        {
          "output_type": "stream",
          "text": [
            "row count 3\n"
          ],
          "name": "stdout"
        }
      ]
    },
    {
      "cell_type": "code",
      "metadata": {
        "colab_type": "code",
        "id": "WlmzOnVvQODK",
        "colab": {
          "base_uri": "https://localhost:8080/",
          "height": 142
        },
        "outputId": "7444c645-48ca-4d74-e85e-493c87c8a72e"
      },
      "source": [
        "df[outlier_conds] # Outlier 확인"
      ],
      "execution_count": null,
      "outputs": [
        {
          "output_type": "execute_result",
          "data": {
            "text/html": [
              "<div>\n",
              "<style scoped>\n",
              "    .dataframe tbody tr th:only-of-type {\n",
              "        vertical-align: middle;\n",
              "    }\n",
              "\n",
              "    .dataframe tbody tr th {\n",
              "        vertical-align: top;\n",
              "    }\n",
              "\n",
              "    .dataframe thead th {\n",
              "        text-align: right;\n",
              "    }\n",
              "</style>\n",
              "<table border=\"1\" class=\"dataframe\">\n",
              "  <thead>\n",
              "    <tr style=\"text-align: right;\">\n",
              "      <th></th>\n",
              "      <th>data</th>\n",
              "    </tr>\n",
              "  </thead>\n",
              "  <tbody>\n",
              "    <tr>\n",
              "      <th>258</th>\n",
              "      <td>-2.966951</td>\n",
              "    </tr>\n",
              "    <tr>\n",
              "      <th>267</th>\n",
              "      <td>3.019987</td>\n",
              "    </tr>\n",
              "    <tr>\n",
              "      <th>484</th>\n",
              "      <td>-3.102141</td>\n",
              "    </tr>\n",
              "  </tbody>\n",
              "</table>\n",
              "</div>"
            ],
            "text/plain": [
              "         data\n",
              "258 -2.966951\n",
              "267  3.019987\n",
              "484 -3.102141"
            ]
          },
          "metadata": {
            "tags": []
          },
          "execution_count": 17
        }
      ]
    },
    {
      "cell_type": "code",
      "metadata": {
        "colab_type": "code",
        "id": "vfPEpYYDQODN",
        "colab": {
          "base_uri": "https://localhost:8080/",
          "height": 142
        },
        "outputId": "1a7573ee-dcd0-4883-9a76-a66b8d203714"
      },
      "source": [
        "# Outlier 위치에 NaN을 채움\n",
        "df[outlier_conds] = np.nan\n",
        "df[df['data'].isnull()]"
      ],
      "execution_count": null,
      "outputs": [
        {
          "output_type": "execute_result",
          "data": {
            "text/html": [
              "<div>\n",
              "<style scoped>\n",
              "    .dataframe tbody tr th:only-of-type {\n",
              "        vertical-align: middle;\n",
              "    }\n",
              "\n",
              "    .dataframe tbody tr th {\n",
              "        vertical-align: top;\n",
              "    }\n",
              "\n",
              "    .dataframe thead th {\n",
              "        text-align: right;\n",
              "    }\n",
              "</style>\n",
              "<table border=\"1\" class=\"dataframe\">\n",
              "  <thead>\n",
              "    <tr style=\"text-align: right;\">\n",
              "      <th></th>\n",
              "      <th>data</th>\n",
              "    </tr>\n",
              "  </thead>\n",
              "  <tbody>\n",
              "    <tr>\n",
              "      <th>258</th>\n",
              "      <td>NaN</td>\n",
              "    </tr>\n",
              "    <tr>\n",
              "      <th>267</th>\n",
              "      <td>NaN</td>\n",
              "    </tr>\n",
              "    <tr>\n",
              "      <th>484</th>\n",
              "      <td>NaN</td>\n",
              "    </tr>\n",
              "  </tbody>\n",
              "</table>\n",
              "</div>"
            ],
            "text/plain": [
              "     data\n",
              "258   NaN\n",
              "267   NaN\n",
              "484   NaN"
            ]
          },
          "metadata": {
            "tags": []
          },
          "execution_count": 18
        }
      ]
    },
    {
      "cell_type": "markdown",
      "metadata": {
        "colab_type": "text",
        "id": "5n2PMvlUQODQ"
      },
      "source": [
        "# Outlier 처리: IQR 이용하는 방법"
      ]
    },
    {
      "cell_type": "code",
      "metadata": {
        "colab_type": "code",
        "id": "NmpYyLKpQODR",
        "colab": {
          "base_uri": "https://localhost:8080/",
          "height": 71
        },
        "outputId": "d30f67cc-358b-4cc9-e89d-136e98b0382f"
      },
      "source": [
        "df['data'].quantile([0.25, 0.75])"
      ],
      "execution_count": null,
      "outputs": [
        {
          "output_type": "execute_result",
          "data": {
            "text/plain": [
              "0.25   -0.680335\n",
              "0.75    0.618382\n",
              "Name: data, dtype: float64"
            ]
          },
          "metadata": {
            "tags": []
          },
          "execution_count": 19
        }
      ]
    },
    {
      "cell_type": "code",
      "metadata": {
        "colab_type": "code",
        "id": "qEElAejAQODV",
        "colab": {
          "base_uri": "https://localhost:8080/",
          "height": 142
        },
        "outputId": "cef0feaa-4d40-4b10-f721-997c1addbbca"
      },
      "source": [
        "q1, q3 = df['data'].quantile([0.25, 0.75])\n",
        "IQR = q3 - q1\n",
        "lower_bound = q1 - (IQR * 1.5)\n",
        "upper_bound = q3 + (IQR * 1.5)\n",
        "\n",
        "out_conds = (df['data'] < lower_bound) | (upper_bound < df['data'])\n",
        "df[out_conds]"
      ],
      "execution_count": null,
      "outputs": [
        {
          "output_type": "execute_result",
          "data": {
            "text/html": [
              "<div>\n",
              "<style scoped>\n",
              "    .dataframe tbody tr th:only-of-type {\n",
              "        vertical-align: middle;\n",
              "    }\n",
              "\n",
              "    .dataframe tbody tr th {\n",
              "        vertical-align: top;\n",
              "    }\n",
              "\n",
              "    .dataframe thead th {\n",
              "        text-align: right;\n",
              "    }\n",
              "</style>\n",
              "<table border=\"1\" class=\"dataframe\">\n",
              "  <thead>\n",
              "    <tr style=\"text-align: right;\">\n",
              "      <th></th>\n",
              "      <th>data</th>\n",
              "    </tr>\n",
              "  </thead>\n",
              "  <tbody>\n",
              "    <tr>\n",
              "      <th>67</th>\n",
              "      <td>2.599193</td>\n",
              "    </tr>\n",
              "    <tr>\n",
              "      <th>77</th>\n",
              "      <td>2.576309</td>\n",
              "    </tr>\n",
              "    <tr>\n",
              "      <th>393</th>\n",
              "      <td>2.685943</td>\n",
              "    </tr>\n",
              "  </tbody>\n",
              "</table>\n",
              "</div>"
            ],
            "text/plain": [
              "         data\n",
              "67   2.599193\n",
              "77   2.576309\n",
              "393  2.685943"
            ]
          },
          "metadata": {
            "tags": []
          },
          "execution_count": 20
        }
      ]
    },
    {
      "cell_type": "markdown",
      "metadata": {
        "colab_type": "text",
        "id": "XSeSpt-hQODY"
      },
      "source": [
        "# 잡음값 (Noisy Value)\n",
        "* 비닝(Binning)\n",
        "* 회귀(Regression)\n",
        "* 이상점 분석(Outlier Analysis)\n",
        "* 데이터 평활화"
      ]
    },
    {
      "cell_type": "markdown",
      "metadata": {
        "colab_type": "text",
        "id": "WN9LoE-2QODZ"
      },
      "source": [
        "# 잡음값 처리: 비닝\n",
        "* 연속형 변수를 범주형 변수로\n",
        "* 몇 개의 BIN(혹은 버킷)으로 분할"
      ]
    },
    {
      "cell_type": "code",
      "metadata": {
        "colab_type": "code",
        "id": "J-boCHOwQODa",
        "colab": {
          "base_uri": "https://localhost:8080/",
          "height": 35
        },
        "outputId": "1bb73a9f-f561-4e15-eb38-f7f5f33fc215"
      },
      "source": [
        "data = np.random.randint(1, 10, 7)\n",
        "data"
      ],
      "execution_count": null,
      "outputs": [
        {
          "output_type": "execute_result",
          "data": {
            "text/plain": [
              "array([2, 2, 3, 6, 6, 8, 8])"
            ]
          },
          "metadata": {
            "tags": []
          },
          "execution_count": 21
        }
      ]
    },
    {
      "cell_type": "code",
      "metadata": {
        "colab_type": "code",
        "id": "v_z1sajNQODd",
        "colab": {
          "base_uri": "https://localhost:8080/",
          "height": 53
        },
        "outputId": "bf0ba3fd-c106-4637-ccab-0c53a40fdf35"
      },
      "source": [
        "pd.cut(data, 3)"
      ],
      "execution_count": null,
      "outputs": [
        {
          "output_type": "execute_result",
          "data": {
            "text/plain": [
              "[(1.994, 4.0], (1.994, 4.0], (1.994, 4.0], (4.0, 6.0], (4.0, 6.0], (6.0, 8.0], (6.0, 8.0]]\n",
              "Categories (3, interval[float64]): [(1.994, 4.0] < (4.0, 6.0] < (6.0, 8.0]]"
            ]
          },
          "metadata": {
            "tags": []
          },
          "execution_count": 22
        }
      ]
    },
    {
      "cell_type": "code",
      "metadata": {
        "colab_type": "code",
        "id": "-JVVUfVKQODg",
        "colab": {
          "base_uri": "https://localhost:8080/",
          "height": 53
        },
        "outputId": "c33623b5-8973-4a1e-e6f8-a1d01f7963ee"
      },
      "source": [
        "pd.cut(data, 3, labels=['별로', '보통', '좋음'])"
      ],
      "execution_count": null,
      "outputs": [
        {
          "output_type": "execute_result",
          "data": {
            "text/plain": [
              "[별로, 별로, 별로, 보통, 보통, 좋음, 좋음]\n",
              "Categories (3, object): [별로 < 보통 < 좋음]"
            ]
          },
          "metadata": {
            "tags": []
          },
          "execution_count": 23
        }
      ]
    },
    {
      "cell_type": "markdown",
      "metadata": {
        "colab_type": "text",
        "id": "Bv4bLIF9QODj"
      },
      "source": [
        "# 데이터 통합 (Data Itegration) \n",
        "다양한 소스에서 얻은  데이터를 정리\n",
        "* 데이터 변환 (Data Transformation) - Normalization, Aggregation, Generalization\n",
        "* 데이터 정리 (Data Reduction) - 중복제거, 효율적 재배치"
      ]
    },
    {
      "cell_type": "markdown",
      "metadata": {
        "colab_type": "text",
        "id": "LfuAqiaEQODk"
      },
      "source": [
        "# 데이터 변환 (Data Transformation)\n",
        "* Normalization - 동일한 범위로 변환 (예: 0~1사이 비율로 변환) \n",
        "* Aggregation - 2개이상의 feature를 하나로 조합 (예: 2개의 범주를 조합하여 새로운 그룹을 생성)\n",
        "* Generalization - 저수준의 속성을 고수준의 표준으로 변환"
      ]
    },
    {
      "cell_type": "markdown",
      "metadata": {
        "colab_type": "text",
        "id": "tfp-9rvjQODk"
      },
      "source": [
        "# 데이터 변환: 스케일링\n",
        "데이터에 선형 변환을 적용 자료의 분포를 균일하게 만드는 과정\n",
        "\n",
        "* scale(X): 기본 스케일, 평균이 0, 분산을 1으로 선형변환\n",
        "* robust_scale(X): 중앙값(median)0, IQR=1이 되도록 변환 (아웃라이어의 영향 최소화)\n",
        "* minmax_scale(X): 최대값과 최소값이 각각 1, 0이 되도록 스케일링\n",
        "* maxabs_scale(X): 최대절대값과 0이 각각 1, 0이 되도록 스케일링"
      ]
    },
    {
      "cell_type": "code",
      "metadata": {
        "colab_type": "code",
        "id": "kBagpeblQODm",
        "colab": {
          "base_uri": "https://localhost:8080/",
          "height": 421
        },
        "outputId": "97492ab8-11c4-46ba-b321-3dcf7dfbfce0"
      },
      "source": [
        "import numpy as np\n",
        "from sklearn.preprocessing import scale, robust_scale, minmax_scale, maxabs_scale\n",
        "\n",
        "df = pd.DataFrame({'x':np.arange(-3, 9, dtype=float) })\n",
        "df.iloc[-1] = 50 # outlier\n",
        "df"
      ],
      "execution_count": null,
      "outputs": [
        {
          "output_type": "execute_result",
          "data": {
            "text/html": [
              "<div>\n",
              "<style scoped>\n",
              "    .dataframe tbody tr th:only-of-type {\n",
              "        vertical-align: middle;\n",
              "    }\n",
              "\n",
              "    .dataframe tbody tr th {\n",
              "        vertical-align: top;\n",
              "    }\n",
              "\n",
              "    .dataframe thead th {\n",
              "        text-align: right;\n",
              "    }\n",
              "</style>\n",
              "<table border=\"1\" class=\"dataframe\">\n",
              "  <thead>\n",
              "    <tr style=\"text-align: right;\">\n",
              "      <th></th>\n",
              "      <th>x</th>\n",
              "    </tr>\n",
              "  </thead>\n",
              "  <tbody>\n",
              "    <tr>\n",
              "      <th>0</th>\n",
              "      <td>-3.0</td>\n",
              "    </tr>\n",
              "    <tr>\n",
              "      <th>1</th>\n",
              "      <td>-2.0</td>\n",
              "    </tr>\n",
              "    <tr>\n",
              "      <th>2</th>\n",
              "      <td>-1.0</td>\n",
              "    </tr>\n",
              "    <tr>\n",
              "      <th>3</th>\n",
              "      <td>0.0</td>\n",
              "    </tr>\n",
              "    <tr>\n",
              "      <th>4</th>\n",
              "      <td>1.0</td>\n",
              "    </tr>\n",
              "    <tr>\n",
              "      <th>5</th>\n",
              "      <td>2.0</td>\n",
              "    </tr>\n",
              "    <tr>\n",
              "      <th>6</th>\n",
              "      <td>3.0</td>\n",
              "    </tr>\n",
              "    <tr>\n",
              "      <th>7</th>\n",
              "      <td>4.0</td>\n",
              "    </tr>\n",
              "    <tr>\n",
              "      <th>8</th>\n",
              "      <td>5.0</td>\n",
              "    </tr>\n",
              "    <tr>\n",
              "      <th>9</th>\n",
              "      <td>6.0</td>\n",
              "    </tr>\n",
              "    <tr>\n",
              "      <th>10</th>\n",
              "      <td>7.0</td>\n",
              "    </tr>\n",
              "    <tr>\n",
              "      <th>11</th>\n",
              "      <td>50.0</td>\n",
              "    </tr>\n",
              "  </tbody>\n",
              "</table>\n",
              "</div>"
            ],
            "text/plain": [
              "       x\n",
              "0   -3.0\n",
              "1   -2.0\n",
              "2   -1.0\n",
              "3    0.0\n",
              "4    1.0\n",
              "5    2.0\n",
              "6    3.0\n",
              "7    4.0\n",
              "8    5.0\n",
              "9    6.0\n",
              "10   7.0\n",
              "11  50.0"
            ]
          },
          "metadata": {
            "tags": []
          },
          "execution_count": 24
        }
      ]
    },
    {
      "cell_type": "code",
      "metadata": {
        "colab_type": "code",
        "id": "fw7EJ8xFQODp",
        "colab": {
          "base_uri": "https://localhost:8080/",
          "height": 421
        },
        "outputId": "86ff24db-a6ac-4b3a-f2d0-1a00f287ea6e"
      },
      "source": [
        "df['scale(x)'] = scale(df[['x']])\n",
        "df['robust_scale(x)'] = robust_scale(df[['x']])\n",
        "df['minmax_scale(x)'] = minmax_scale(df[['x']])\n",
        "df['maxabs_scale(x)'] = maxabs_scale(df[['x']])\n",
        "df"
      ],
      "execution_count": null,
      "outputs": [
        {
          "output_type": "execute_result",
          "data": {
            "text/html": [
              "<div>\n",
              "<style scoped>\n",
              "    .dataframe tbody tr th:only-of-type {\n",
              "        vertical-align: middle;\n",
              "    }\n",
              "\n",
              "    .dataframe tbody tr th {\n",
              "        vertical-align: top;\n",
              "    }\n",
              "\n",
              "    .dataframe thead th {\n",
              "        text-align: right;\n",
              "    }\n",
              "</style>\n",
              "<table border=\"1\" class=\"dataframe\">\n",
              "  <thead>\n",
              "    <tr style=\"text-align: right;\">\n",
              "      <th></th>\n",
              "      <th>x</th>\n",
              "      <th>scale(x)</th>\n",
              "      <th>robust_scale(x)</th>\n",
              "      <th>minmax_scale(x)</th>\n",
              "      <th>maxabs_scale(x)</th>\n",
              "    </tr>\n",
              "  </thead>\n",
              "  <tbody>\n",
              "    <tr>\n",
              "      <th>0</th>\n",
              "      <td>-3.0</td>\n",
              "      <td>-0.661395</td>\n",
              "      <td>-1.000000</td>\n",
              "      <td>0.000000</td>\n",
              "      <td>-0.06</td>\n",
              "    </tr>\n",
              "    <tr>\n",
              "      <th>1</th>\n",
              "      <td>-2.0</td>\n",
              "      <td>-0.587907</td>\n",
              "      <td>-0.818182</td>\n",
              "      <td>0.018868</td>\n",
              "      <td>-0.04</td>\n",
              "    </tr>\n",
              "    <tr>\n",
              "      <th>2</th>\n",
              "      <td>-1.0</td>\n",
              "      <td>-0.514419</td>\n",
              "      <td>-0.636364</td>\n",
              "      <td>0.037736</td>\n",
              "      <td>-0.02</td>\n",
              "    </tr>\n",
              "    <tr>\n",
              "      <th>3</th>\n",
              "      <td>0.0</td>\n",
              "      <td>-0.440930</td>\n",
              "      <td>-0.454545</td>\n",
              "      <td>0.056604</td>\n",
              "      <td>0.00</td>\n",
              "    </tr>\n",
              "    <tr>\n",
              "      <th>4</th>\n",
              "      <td>1.0</td>\n",
              "      <td>-0.367442</td>\n",
              "      <td>-0.272727</td>\n",
              "      <td>0.075472</td>\n",
              "      <td>0.02</td>\n",
              "    </tr>\n",
              "    <tr>\n",
              "      <th>5</th>\n",
              "      <td>2.0</td>\n",
              "      <td>-0.293953</td>\n",
              "      <td>-0.090909</td>\n",
              "      <td>0.094340</td>\n",
              "      <td>0.04</td>\n",
              "    </tr>\n",
              "    <tr>\n",
              "      <th>6</th>\n",
              "      <td>3.0</td>\n",
              "      <td>-0.220465</td>\n",
              "      <td>0.090909</td>\n",
              "      <td>0.113208</td>\n",
              "      <td>0.06</td>\n",
              "    </tr>\n",
              "    <tr>\n",
              "      <th>7</th>\n",
              "      <td>4.0</td>\n",
              "      <td>-0.146977</td>\n",
              "      <td>0.272727</td>\n",
              "      <td>0.132075</td>\n",
              "      <td>0.08</td>\n",
              "    </tr>\n",
              "    <tr>\n",
              "      <th>8</th>\n",
              "      <td>5.0</td>\n",
              "      <td>-0.073488</td>\n",
              "      <td>0.454545</td>\n",
              "      <td>0.150943</td>\n",
              "      <td>0.10</td>\n",
              "    </tr>\n",
              "    <tr>\n",
              "      <th>9</th>\n",
              "      <td>6.0</td>\n",
              "      <td>0.000000</td>\n",
              "      <td>0.636364</td>\n",
              "      <td>0.169811</td>\n",
              "      <td>0.12</td>\n",
              "    </tr>\n",
              "    <tr>\n",
              "      <th>10</th>\n",
              "      <td>7.0</td>\n",
              "      <td>0.073488</td>\n",
              "      <td>0.818182</td>\n",
              "      <td>0.188679</td>\n",
              "      <td>0.14</td>\n",
              "    </tr>\n",
              "    <tr>\n",
              "      <th>11</th>\n",
              "      <td>50.0</td>\n",
              "      <td>3.233488</td>\n",
              "      <td>8.636364</td>\n",
              "      <td>1.000000</td>\n",
              "      <td>1.00</td>\n",
              "    </tr>\n",
              "  </tbody>\n",
              "</table>\n",
              "</div>"
            ],
            "text/plain": [
              "       x  scale(x)  robust_scale(x)  minmax_scale(x)  maxabs_scale(x)\n",
              "0   -3.0 -0.661395        -1.000000         0.000000            -0.06\n",
              "1   -2.0 -0.587907        -0.818182         0.018868            -0.04\n",
              "2   -1.0 -0.514419        -0.636364         0.037736            -0.02\n",
              "3    0.0 -0.440930        -0.454545         0.056604             0.00\n",
              "4    1.0 -0.367442        -0.272727         0.075472             0.02\n",
              "5    2.0 -0.293953        -0.090909         0.094340             0.04\n",
              "6    3.0 -0.220465         0.090909         0.113208             0.06\n",
              "7    4.0 -0.146977         0.272727         0.132075             0.08\n",
              "8    5.0 -0.073488         0.454545         0.150943             0.10\n",
              "9    6.0  0.000000         0.636364         0.169811             0.12\n",
              "10   7.0  0.073488         0.818182         0.188679             0.14\n",
              "11  50.0  3.233488         8.636364         1.000000             1.00"
            ]
          },
          "metadata": {
            "tags": []
          },
          "execution_count": 25
        }
      ]
    },
    {
      "cell_type": "code",
      "metadata": {
        "colab_type": "code",
        "id": "C4BU2jsVdwJA",
        "colab": {
          "base_uri": "https://localhost:8080/",
          "height": 297
        },
        "outputId": "14da26b6-56fd-4bc9-df55-f5efdfcbfc65"
      },
      "source": [
        "df.describe()"
      ],
      "execution_count": null,
      "outputs": [
        {
          "output_type": "execute_result",
          "data": {
            "text/html": [
              "<div>\n",
              "<style scoped>\n",
              "    .dataframe tbody tr th:only-of-type {\n",
              "        vertical-align: middle;\n",
              "    }\n",
              "\n",
              "    .dataframe tbody tr th {\n",
              "        vertical-align: top;\n",
              "    }\n",
              "\n",
              "    .dataframe thead th {\n",
              "        text-align: right;\n",
              "    }\n",
              "</style>\n",
              "<table border=\"1\" class=\"dataframe\">\n",
              "  <thead>\n",
              "    <tr style=\"text-align: right;\">\n",
              "      <th></th>\n",
              "      <th>x</th>\n",
              "      <th>scale(x)</th>\n",
              "      <th>robust_scale(x)</th>\n",
              "      <th>minmax_scale(x)</th>\n",
              "      <th>maxabs_scale(x)</th>\n",
              "    </tr>\n",
              "  </thead>\n",
              "  <tbody>\n",
              "    <tr>\n",
              "      <th>count</th>\n",
              "      <td>12.00000</td>\n",
              "      <td>1.200000e+01</td>\n",
              "      <td>12.000000</td>\n",
              "      <td>12.000000</td>\n",
              "      <td>12.000000</td>\n",
              "    </tr>\n",
              "    <tr>\n",
              "      <th>mean</th>\n",
              "      <td>6.00000</td>\n",
              "      <td>3.700743e-17</td>\n",
              "      <td>0.636364</td>\n",
              "      <td>0.169811</td>\n",
              "      <td>0.120000</td>\n",
              "    </tr>\n",
              "    <tr>\n",
              "      <th>std</th>\n",
              "      <td>14.21267</td>\n",
              "      <td>1.044466e+00</td>\n",
              "      <td>2.584122</td>\n",
              "      <td>0.268164</td>\n",
              "      <td>0.284253</td>\n",
              "    </tr>\n",
              "    <tr>\n",
              "      <th>min</th>\n",
              "      <td>-3.00000</td>\n",
              "      <td>-6.613953e-01</td>\n",
              "      <td>-1.000000</td>\n",
              "      <td>0.000000</td>\n",
              "      <td>-0.060000</td>\n",
              "    </tr>\n",
              "    <tr>\n",
              "      <th>25%</th>\n",
              "      <td>-0.25000</td>\n",
              "      <td>-4.593023e-01</td>\n",
              "      <td>-0.500000</td>\n",
              "      <td>0.051887</td>\n",
              "      <td>-0.005000</td>\n",
              "    </tr>\n",
              "    <tr>\n",
              "      <th>50%</th>\n",
              "      <td>2.50000</td>\n",
              "      <td>-2.572093e-01</td>\n",
              "      <td>0.000000</td>\n",
              "      <td>0.103774</td>\n",
              "      <td>0.050000</td>\n",
              "    </tr>\n",
              "    <tr>\n",
              "      <th>75%</th>\n",
              "      <td>5.25000</td>\n",
              "      <td>-5.511628e-02</td>\n",
              "      <td>0.500000</td>\n",
              "      <td>0.155660</td>\n",
              "      <td>0.105000</td>\n",
              "    </tr>\n",
              "    <tr>\n",
              "      <th>max</th>\n",
              "      <td>50.00000</td>\n",
              "      <td>3.233488e+00</td>\n",
              "      <td>8.636364</td>\n",
              "      <td>1.000000</td>\n",
              "      <td>1.000000</td>\n",
              "    </tr>\n",
              "  </tbody>\n",
              "</table>\n",
              "</div>"
            ],
            "text/plain": [
              "              x      scale(x)  ...  minmax_scale(x)  maxabs_scale(x)\n",
              "count  12.00000  1.200000e+01  ...        12.000000        12.000000\n",
              "mean    6.00000  3.700743e-17  ...         0.169811         0.120000\n",
              "std    14.21267  1.044466e+00  ...         0.268164         0.284253\n",
              "min    -3.00000 -6.613953e-01  ...         0.000000        -0.060000\n",
              "25%    -0.25000 -4.593023e-01  ...         0.051887        -0.005000\n",
              "50%     2.50000 -2.572093e-01  ...         0.103774         0.050000\n",
              "75%     5.25000 -5.511628e-02  ...         0.155660         0.105000\n",
              "max    50.00000  3.233488e+00  ...         1.000000         1.000000\n",
              "\n",
              "[8 rows x 5 columns]"
            ]
          },
          "metadata": {
            "tags": []
          },
          "execution_count": 26
        }
      ]
    },
    {
      "cell_type": "markdown",
      "metadata": {
        "colab_type": "text",
        "id": "-5erG6e4QODt"
      },
      "source": [
        "# 정규화 (Normalization)\n",
        "데이터의 크기(norm)를 모두 같게 만드는 변환 (개별 데이터에 대해 서로 다른 변환 계수를 적용)\n",
        "상대적 크기만 중요한 경우에 사용"
      ]
    },
    {
      "cell_type": "code",
      "metadata": {
        "colab_type": "code",
        "id": "KnLuVp_sQODt",
        "colab": {
          "base_uri": "https://localhost:8080/",
          "height": 341
        },
        "outputId": "561fc991-f2a5-43e2-a351-5464692a053b"
      },
      "source": [
        "import numpy as np\n",
        "from sklearn.preprocessing import scale, normalize\n",
        "\n",
        "x= np.array(\n",
        "   [[-20., -2.],\n",
        "    [-19., -1.],\n",
        "    [-18.,  0.],\n",
        "    [-17.,  1.],\n",
        "    [-16.,  2.]]\n",
        ")\n",
        "\n",
        "y1 = scale(x)\n",
        "y2 = normalize(x)\n",
        "\n",
        "print(\"original x:\\n\", x)\n",
        "print(\"scale:\\n\", y1)\n",
        "print(\"normlize:\\n\", y2)"
      ],
      "execution_count": null,
      "outputs": [
        {
          "output_type": "stream",
          "text": [
            "original x:\n",
            " [[-20.  -2.]\n",
            " [-19.  -1.]\n",
            " [-18.   0.]\n",
            " [-17.   1.]\n",
            " [-16.   2.]]\n",
            "scale:\n",
            " [[-1.41421356 -1.41421356]\n",
            " [-0.70710678 -0.70710678]\n",
            " [ 0.          0.        ]\n",
            " [ 0.70710678  0.70710678]\n",
            " [ 1.41421356  1.41421356]]\n",
            "normlize:\n",
            " [[-0.99503719 -0.09950372]\n",
            " [-0.99861783 -0.05255883]\n",
            " [-1.          0.        ]\n",
            " [-0.99827437  0.05872202]\n",
            " [-0.99227788  0.12403473]]\n"
          ],
          "name": "stdout"
        }
      ]
    },
    {
      "cell_type": "code",
      "metadata": {
        "colab_type": "code",
        "id": "Y7AuJMY7c58L",
        "colab": {}
      },
      "source": [
        "!pip install mglearn"
      ],
      "execution_count": null,
      "outputs": []
    },
    {
      "cell_type": "code",
      "metadata": {
        "colab_type": "code",
        "id": "Jty8spxzQODw",
        "colab": {
          "base_uri": "https://localhost:8080/",
          "height": 488
        },
        "outputId": "72553bb1-4687-4467-b14a-dba72204ab38"
      },
      "source": [
        "import mglearn\n",
        "mglearn.plots.plot_scaling()"
      ],
      "execution_count": null,
      "outputs": [
        {
          "output_type": "display_data",
          "data": {
            "image/png": "[encoded data removed]",
            "text/plain": [
              "<Figure size 1080x576 with 5 Axes>"
            ]
          },
          "metadata": {
            "tags": []
          }
        }
      ]
    },
    {
      "cell_type": "code",
      "metadata": {
        "colab_type": "code",
        "id": "o9Cz9lfMQOD1",
        "colab": {
          "base_uri": "https://localhost:8080/",
          "height": 35
        },
        "outputId": "d4f053d2-13a6-40bf-d75c-42d9c48e70fe"
      },
      "source": [
        "np.linalg.norm(y2, ord=2, axis=1)"
      ],
      "execution_count": null,
      "outputs": [
        {
          "output_type": "execute_result",
          "data": {
            "text/plain": [
              "array([1., 1., 1., 1., 1.])"
            ]
          },
          "metadata": {
            "tags": []
          },
          "execution_count": 32
        }
      ]
    },
    {
      "cell_type": "markdown",
      "metadata": {
        "colab_type": "text",
        "id": "F_WCcaSQQOD5"
      },
      "source": [
        "# 참고\n",
        "* http://colingorrie.github.io/outlier-detection.html Three ways to detect outliers"
      ]
    },
    {
      "cell_type": "markdown",
      "metadata": {
        "colab_type": "text",
        "id": "pQ1pmqR4QOD6"
      },
      "source": [
        "#### 2018-2020 [FinanceData.KR](http://financedata.kr) | [facebook.com/financedata](http://facebook.com/financedata)"
      ]
    }
  ]
}